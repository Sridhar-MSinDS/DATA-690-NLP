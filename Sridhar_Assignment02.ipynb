{
  "nbformat": 4,
  "nbformat_minor": 0,
  "metadata": {
    "colab": {
      "provenance": []
    },
    "kernelspec": {
      "name": "python3",
      "display_name": "Python 3"
    },
    "language_info": {
      "name": "python"
    }
  },
  "cells": [
    {
      "cell_type": "markdown",
      "source": [
        "**Import Libraries**"
      ],
      "metadata": {
        "id": "cCUPLO8EZIf3"
      }
    },
    {
      "cell_type": "code",
      "source": [
        "from bs4 import BeautifulSoup\n",
        "import urllib"
      ],
      "metadata": {
        "id": "08AIXOtAZOLZ"
      },
      "execution_count": 111,
      "outputs": []
    },
    {
      "cell_type": "markdown",
      "source": [
        "**Website for practicing web scraping**"
      ],
      "metadata": {
        "id": "4cL_c0ZGjYE0"
      }
    },
    {
      "cell_type": "code",
      "source": [
        "url = 'https://pythonprogramming.net/parsememcparseface/'"
      ],
      "metadata": {
        "id": "A-1NWbZlZTjR"
      },
      "execution_count": 112,
      "outputs": []
    },
    {
      "cell_type": "markdown",
      "source": [
        "**Connect to the website using urllib.request**\n"
      ],
      "metadata": {
        "id": "VvG9mXWJkE5k"
      }
    },
    {
      "cell_type": "code",
      "source": [
        "content = urllib.request.urlopen(url)"
      ],
      "metadata": {
        "id": "6VRa3fgEZwdb"
      },
      "execution_count": 113,
      "outputs": []
    },
    {
      "cell_type": "markdown",
      "source": [
        "**Create an object called ‘soup’**"
      ],
      "metadata": {
        "id": "BwZyOcXvkKNH"
      }
    },
    {
      "cell_type": "code",
      "source": [
        "soup = BeautifulSoup(content, 'lxml')"
      ],
      "metadata": {
        "id": "T981vm1wZ_sI"
      },
      "execution_count": 114,
      "outputs": []
    },
    {
      "cell_type": "code",
      "source": [
        "#help(soup)"
      ],
      "metadata": {
        "id": "9IbUhwKka7W9"
      },
      "execution_count": 115,
      "outputs": []
    },
    {
      "cell_type": "markdown",
      "source": [
        "**Print page Title, Attributes, values and beginning navigation**"
      ],
      "metadata": {
        "id": "ajJBRmqukdDo"
      }
    },
    {
      "cell_type": "code",
      "source": [
        "print(\"Page title:\",\"\\n\",soup.title.string)"
      ],
      "metadata": {
        "colab": {
          "base_uri": "https://localhost:8080/"
        },
        "id": "px4QaaVFaJlf",
        "outputId": "1a9d7d03-ccd5-461b-e03c-9c930a4e0f9a"
      },
      "execution_count": 116,
      "outputs": [
        {
          "output_type": "stream",
          "name": "stdout",
          "text": [
            "Page title: \n",
            " Python Programming Tutorials\n"
          ]
        }
      ]
    },
    {
      "cell_type": "code",
      "source": [
        "print(\"Attributes and Values :\", \"\\n\")\n",
        "# Loop through all tags and print their attributes and values\n",
        "for tag in soup.find_all(True):  # True finds all tags\n",
        "    # Check if the tag has attributes\n",
        "    if tag.attrs:\n",
        "        for attr in tag.attrs:\n",
        "            print(f\"{attr}: {tag[attr]}\")"
      ],
      "metadata": {
        "colab": {
          "base_uri": "https://localhost:8080/"
        },
        "id": "qic2gPSnco85",
        "outputId": "a240dc9b-324f-4a43-afec-7ed1e5e3af4e"
      },
      "execution_count": 117,
      "outputs": [
        {
          "output_type": "stream",
          "name": "stdout",
          "text": [
            "Attributes and Values : \n",
            "\n",
            "name: viewport\n",
            "content: width=device-width, initial-scale=1.0\n",
            "name: description\n",
            "content: Python Programming tutorials from beginner to advanced on a massive variety of topics. All video and text tutorials are free.\n",
            "rel: ['shortcut', 'icon']\n",
            "href: /static/favicon.ico\n",
            "rel: ['stylesheet']\n",
            "href: /static/css/materialize.min.css\n",
            "href: https://fonts.googleapis.com/icon?family=Material+Icons\n",
            "rel: ['stylesheet']\n",
            "name: google-site-verification\n",
            "content: 3fLok05gk5gGtWd_VSXbSSSH27F2kr1QqcxYz9vYq2k\n",
            "rel: ['stylesheet']\n",
            "type: text/css\n",
            "href: /static/css/bootstrap.css\n",
            "src: https://code.jquery.com/jquery-2.1.4.min.js\n",
            "src: https://cdnjs.cloudflare.com/ajax/libs/materialize/0.97.3/js/materialize.min.js\n",
            "async: \n",
            "src: //pagead2.googlesyndication.com/pagead/js/adsbygoogle.js\n",
            "class: ['navbar-fixed']\n",
            "style: background-color:#003F72\n",
            "class: ['nav-wrapper', 'container']\n",
            "href: /\n",
            "class: ['brand-logo']\n",
            "class: ['img-responsive']\n",
            "style: width:50px; height;50px; margin-top:5px\n",
            "src: /static/images/mainlogowhitethick.jpg\n",
            "href: #\n",
            "data-activates: navsidebar\n",
            "class: ['button-collapse']\n",
            "class: ['mdi-navigation-menu']\n",
            "class: ['right', 'hide-on-med-and-down']\n",
            "class: ['material-icons']\n",
            "method: get\n",
            "id: searchform\n",
            "style: height:50px; padding-top:10px\n",
            "action: /search/?l=hi\n",
            "name: q\n",
            "id: search\n",
            "type: search\n",
            "placeholder: search\n",
            "style: font-size:16px\n",
            "href: /\n",
            "class: ['tooltipped']\n",
            "data-position: bottom\n",
            "data-delay: 50\n",
            "data-tooltip: sudo apt-get upgrade\n",
            "href: /+=1/\n",
            "href: /support/\n",
            "href: https://goo.gl/7zgAVQ\n",
            "target: blank\n",
            "href: /login/\n",
            "href: /register/\n",
            "class: ['side-nav']\n",
            "id: navsidebar\n",
            "method: get\n",
            "id: searchform\n",
            "style: height:50px; padding-top:10px\n",
            "action: /search/?l=hi\n",
            "name: q\n",
            "id: search\n",
            "type: search\n",
            "placeholder: search\n",
            "style: font-size:16px\n",
            "href: /\n",
            "class: ['tooltipped']\n",
            "data-position: bottom\n",
            "data-delay: 50\n",
            "data-tooltip: sudo apt-get upgrade\n",
            "href: /+=1/\n",
            "href: /support/\n",
            "href: https://goo.gl/7zgAVQ\n",
            "target: blank\n",
            "href: /login/\n",
            "href: /register/\n",
            "class: ['container']\n",
            "style: max-width:1500px; min-height:100%\n",
            "class: ['body']\n",
            "class: ['introduction']\n",
            "style: font-size:115%\n",
            "href: https://www.crummy.com/software/BeautifulSoup/bs4/doc/\n",
            "target: blank\n",
            "style: width:100%\n",
            "class: ['card', 'hoverable']\n",
            "class: ['card-content']\n",
            "class: ['card-title']\n",
            "class: ['responsive-img']\n",
            "src: https://s-media-cache-ak0.pinimg.com/originals/e8/2a/ff/e82aff2876b080675449d0cef7685321.jpg\n",
            "alt: omg batman\n",
            "class: ['jstest']\n",
            "id: yesnojs\n",
            "href: /sitemap.xml\n",
            "target: blank\n",
            "type: text/javascript\n",
            "src: /static/js/run_prettify.js\n",
            "class: ['page-footer']\n",
            "class: ['container']\n",
            "class: ['row']\n",
            "class: ['col', 'l6', 's12']\n",
            "class: ['white-text']\n",
            "class: ['grey-text', 'text-lighten-4']\n",
            "class: ['grey-text', 'text-lighten-3']\n",
            "href: /support-donate/\n",
            "class: ['grey-text', 'text-lighten-3']\n",
            "href: /consulting/\n",
            "class: ['grey-text', 'text-lighten-3']\n",
            "href: https://www.facebook.com/pythonprogramming.net/\n",
            "class: ['grey-text', 'text-lighten-3']\n",
            "href: https://twitter.com/sentdex\n",
            "class: ['grey-text', 'text-lighten-3']\n",
            "href: https://instagram.com/sentdex\n",
            "class: ['col', 'l4', 'offset-l2', 's12']\n",
            "class: ['white-text']\n",
            "class: ['grey-text', 'text-lighten-3']\n",
            "href: /about/tos/\n",
            "class: ['grey-text', 'text-lighten-3']\n",
            "href: /about/privacy-policy/\n",
            "href: https://xkcd.com/353/\n",
            "target: blank\n",
            "class: ['grey-text', 'right']\n",
            "style: padding-right:10px\n",
            "class: ['footer-copyright']\n",
            "class: ['container']\n"
          ]
        }
      ]
    },
    {
      "cell_type": "code",
      "source": [
        "# Locate the navigation bar\n",
        "navbar = soup.select_one('.navbar-fixed nav')\n",
        "\n",
        "if navbar:\n",
        "    links = navbar.find_all('a')\n",
        "    for link in links:\n",
        "        print(f'{link.text.strip()} : {link.get(\"href\")}')"
      ],
      "metadata": {
        "colab": {
          "base_uri": "https://localhost:8080/"
        },
        "id": "Xn0UlwFVmKtD",
        "outputId": "e888de39-5b95-4a6a-ba6c-4612f7d75c3f"
      },
      "execution_count": 118,
      "outputs": [
        {
          "output_type": "stream",
          "name": "stdout",
          "text": [
            " : /\n",
            " : #\n",
            "Home : /\n",
            "+=1 : /+=1/\n",
            "Support the Content : /support/\n",
            "Community : https://goo.gl/7zgAVQ\n",
            "Log in : /login/\n",
            "Sign up : /register/\n",
            "Home : /\n",
            "+=1 : /+=1/\n",
            "Support the Content : /support/\n",
            "Community : https://goo.gl/7zgAVQ\n",
            "Log in : /login/\n",
            "Sign up : /register/\n"
          ]
        }
      ]
    },
    {
      "cell_type": "markdown",
      "source": [
        "**Find all the paragraphs and iterate through them using ‘str(paragraph.text)’**"
      ],
      "metadata": {
        "id": "C6104L19mvxr"
      }
    },
    {
      "cell_type": "code",
      "source": [
        "# Find all the paragraphs\n",
        "all_paragraphs = soup.find_all('p')\n",
        "\n",
        "# Initialize a counter for paragraph numbers\n",
        "i = 1\n",
        "\n",
        "# Loop through each paragraph and print the matter\n",
        "for paragraph in all_paragraphs:\n",
        "    print(f\"Paragraph {i}: {str(paragraph.text)}\\n\")\n",
        "    i+=1"
      ],
      "metadata": {
        "colab": {
          "base_uri": "https://localhost:8080/"
        },
        "id": "gkR83l8Ne79s",
        "outputId": "f5f28c19-5668-42e9-88fd-a2c3914445a8"
      },
      "execution_count": 119,
      "outputs": [
        {
          "output_type": "stream",
          "name": "stdout",
          "text": [
            "Paragraph 1: Oh, hello! This is a wonderful page meant to let you practice web scraping. This page was originally created to help people work with the Beautiful Soup 4 library.\n",
            "\n",
            "Paragraph 2: The following table gives some general information for the following programming languages:\n",
            "\n",
            "Paragraph 3: I think it's clear that, on a scale of 1-10, python is:\n",
            "\n",
            "Paragraph 4: Javascript (dynamic data) test:\n",
            "\n",
            "Paragraph 5: y u bad tho?\n",
            "\n",
            "Paragraph 6: Whᶐt hαppéns now¿\n",
            "\n",
            "Paragraph 7: sitemap\n",
            "\n",
            "Paragraph 8: Contact: Harrison@pythonprogramming.net.\n",
            "\n",
            "Paragraph 9: Programming is a superpower.\n",
            "\n"
          ]
        }
      ]
    },
    {
      "cell_type": "markdown",
      "source": [
        " **Grab all the links through 'url.get()'**\n"
      ],
      "metadata": {
        "id": "1D8vK6phn3kv"
      }
    },
    {
      "cell_type": "code",
      "source": [
        "# Extract all href attributes from anchor tags\n",
        "links = [link.get('href') for link in soup.find_all('a', href=True)]\n",
        "\n",
        "# print the links\n",
        "print('The Links are:')\n",
        "# Print all the links\n",
        "for href in links:\n",
        "    print(href)"
      ],
      "metadata": {
        "colab": {
          "base_uri": "https://localhost:8080/"
        },
        "id": "zgtAuBQYfKM6",
        "outputId": "747d36f5-4426-4593-9f1e-4aecf1ba4e43"
      },
      "execution_count": 120,
      "outputs": [
        {
          "output_type": "stream",
          "name": "stdout",
          "text": [
            "The Links are:\n",
            "/\n",
            "#\n",
            "/\n",
            "/+=1/\n",
            "/support/\n",
            "https://goo.gl/7zgAVQ\n",
            "/login/\n",
            "/register/\n",
            "/\n",
            "/+=1/\n",
            "/support/\n",
            "https://goo.gl/7zgAVQ\n",
            "/login/\n",
            "/register/\n",
            "https://www.crummy.com/software/BeautifulSoup/bs4/doc/\n",
            "/sitemap.xml\n",
            "/support-donate/\n",
            "/consulting/\n",
            "https://www.facebook.com/pythonprogramming.net/\n",
            "https://twitter.com/sentdex\n",
            "https://instagram.com/sentdex\n",
            "/about/tos/\n",
            "/about/privacy-policy/\n",
            "https://xkcd.com/353/\n"
          ]
        }
      ]
    },
    {
      "cell_type": "markdown",
      "source": [
        "**Grab the text using 'get_text'**"
      ],
      "metadata": {
        "id": "AA94GxiZoHJj"
      }
    },
    {
      "cell_type": "code",
      "source": [
        "# Extract text and strip leading/trailing whitespace\n",
        "page_text = soup.get_text()\n",
        "\n",
        "# Split the text into lines and join them back with a newline to clean it up\n",
        "cleaned_text = \"\\n\".join(line.strip() for line in page_text.splitlines() if line.strip())\n",
        "\n",
        "print(cleaned_text)"
      ],
      "metadata": {
        "colab": {
          "base_uri": "https://localhost:8080/"
        },
        "id": "aypiMspogft8",
        "outputId": "d46694a3-d0e9-49c6-9758-a2b76fa99551"
      },
      "execution_count": 121,
      "outputs": [
        {
          "output_type": "stream",
          "name": "stdout",
          "text": [
            "Python Programming Tutorials\n",
            "search\n",
            "Home\n",
            "+=1\n",
            "Support the Content\n",
            "Community\n",
            "Log in\n",
            "Sign up\n",
            "Home\n",
            "+=1\n",
            "Support the Content\n",
            "Community\n",
            "Log in\n",
            "Sign up\n",
            "Oh, hello! This is a wonderful page meant to let you practice web scraping. This page was originally created to help people work with the Beautiful Soup 4 library.\n",
            "The following table gives some general information for the following programming languages:\n",
            "Python\n",
            "Pascal\n",
            "Lisp\n",
            "D#\n",
            "Cobol\n",
            "Fortran\n",
            "Haskell\n",
            "Program Name\n",
            "Internet Points\n",
            "Kittens?\n",
            "Python\n",
            "932914021\n",
            "Definitely\n",
            "Pascal\n",
            "532\n",
            "Unlikely\n",
            "Lisp\n",
            "1522\n",
            "Uncertain\n",
            "D#\n",
            "12\n",
            "Possibly\n",
            "Cobol\n",
            "3\n",
            "No.\n",
            "Fortran\n",
            "52124\n",
            "Yes.\n",
            "Haskell\n",
            "24\n",
            "lol.\n",
            "I think it's clear that, on a scale of 1-10, python is:\n",
            "Javascript (dynamic data) test:\n",
            "y u bad tho?\n",
            "Beautiful is better than ugly.\n",
            "Explicit is better than implicit.\n",
            "Simple is better than complex.\n",
            "Complex is better than complicated.\n",
            "Flat is better than nested.\n",
            "Sparse is better than dense.\n",
            "Readability counts.\n",
            "Special cases aren't special enough to break the rules.\n",
            "Although practicality beats purity.\n",
            "Errors should never pass silently.\n",
            "Unless explicitly silenced.\n",
            "In the face of ambiguity, refuse the temptation to guess.\n",
            "There should be one-- and preferably only one --obvious way to do it.\n",
            "Although that way may not be obvious at first unless you're Dutch.\n",
            "Now is better than never.\n",
            "Although never is often better than *right* now.\n",
            "If the implementation is hard to explain, it's a bad idea.\n",
            "If the implementation is easy to explain, it may be a good idea.\n",
            "Namespaces are one honking great idea -- let's do more of those!\n",
            "Whᶐt hαppéns now¿\n",
            "sitemap\n",
            "You've reached the end!\n",
            "Contact: Harrison@pythonprogramming.net.\n",
            "Support this Website!\n",
            "Consulting and Contracting\n",
            "Facebook\n",
            "Twitter\n",
            "Instagram\n",
            "Legal stuff:\n",
            "Terms and Conditions\n",
            "Privacy Policy\n",
            "Programming is a superpower.\n",
            "© OVER 9000! PythonProgramming.net\n"
          ]
        }
      ]
    }
  ]
}