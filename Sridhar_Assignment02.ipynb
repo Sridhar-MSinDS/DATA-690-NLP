{
  "nbformat": 4,
  "nbformat_minor": 0,
  "metadata": {
    "colab": {
      "provenance": []
    },
    "kernelspec": {
      "name": "python3",
      "display_name": "Python 3"
    },
    "language_info": {
      "name": "python"
    }
  },
  "cells": [
    {
      "cell_type": "markdown",
      "source": [
        "**Import Libraries**"
      ],
      "metadata": {
        "id": "cCUPLO8EZIf3"
      }
    },
    {
      "cell_type": "code",
      "source": [
        "from bs4 import BeautifulSoup\n",
        "import urllib"
      ],
      "metadata": {
        "id": "08AIXOtAZOLZ"
      },
      "execution_count": 111,
      "outputs": []
    },
    {
      "cell_type": "markdown",
      "source": [
        "**Website for practicing web scraping**"
      ],
      "metadata": {
        "id": "4cL_c0ZGjYE0"
      }
    },
    {
      "cell_type": "code",
      "source": [
        "url = 'https://pythonprogramming.net/parsememcparseface/'"
      ],
      "metadata": {
        "id": "A-1NWbZlZTjR"
      },
      "execution_count": 112,
      "outputs": []
    },
    {
      "cell_type": "markdown",
      "source": [
        "**Connect to the website using urllib.request**\n"
      ],
      "metadata": {
        "id": "VvG9mXWJkE5k"
      }
    },
    {
      "cell_type": "code",
      "source": [
        "content = urllib.request.urlopen(url)"
      ],
      "metadata": {
        "id": "6VRa3fgEZwdb"
      },
      "execution_count": 113,
      "outputs": []
    },
    {
      "cell_type": "markdown",
      "source": [
        "**Create an object called ‘soup’**"
      ],
      "metadata": {
        "id": "BwZyOcXvkKNH"
      }
    },
    {
      "cell_type": "code",
      "source": [
        "soup = BeautifulSoup(content, 'lxml')"
      ],
      "metadata": {
        "id": "T981vm1wZ_sI"
      },
      "execution_count": 114,
      "outputs": []
    },
    {
      "cell_type": "code",
      "source": [
        "#help(soup)"
      ],
      "metadata": {
        "id": "9IbUhwKka7W9"
      },
      "execution_count": 115,
      "outputs": []
    },
    {
      "cell_type": "markdown",
      "source": [
        "**Print page Title, Attributes, values and beginning navigation. Get specific values**"
      ],
      "metadata": {
        "id": "ajJBRmqukdDo"
      }
    },
    {
      "cell_type": "code",
      "source": [
        "print(\"Page title:\",\"\\n\",soup.title.string)\n",
        "#print(soup.title)"
      ],
      "metadata": {
        "colab": {
          "base_uri": "https://localhost:8080/"
        },
        "id": "px4QaaVFaJlf",
        "outputId": "7e7a0cc2-b34b-4735-c62f-e45a0b599dda"
      },
      "execution_count": 138,
      "outputs": [
        {
          "output_type": "stream",
          "name": "stdout",
          "text": [
            "Page title: \n",
            " Python Programming Tutorials\n",
            "<title>Python Programming Tutorials</title>\n"
          ]
        }
      ]
    },
    {
      "cell_type": "code",
      "source": [
        "print(\"Attribute of the title is :\", soup.title.name)"
      ],
      "metadata": {
        "colab": {
          "base_uri": "https://localhost:8080/"
        },
        "id": "qic2gPSnco85",
        "outputId": "643a8295-c4ea-45da-be12-b530814f2a1e"
      },
      "execution_count": 139,
      "outputs": [
        {
          "output_type": "stream",
          "name": "stdout",
          "text": [
            "Attribute of the title is : title\n"
          ]
        }
      ]
    },
    {
      "cell_type": "code",
      "source": [
        "print(\"Value of the title is :\", soup.title.string)"
      ],
      "metadata": {
        "colab": {
          "base_uri": "https://localhost:8080/"
        },
        "id": "9mLbS9rZsl6G",
        "outputId": "b4253a22-fac9-41ac-b76f-2527adf69de4"
      },
      "execution_count": 140,
      "outputs": [
        {
          "output_type": "stream",
          "name": "stdout",
          "text": [
            "Value of the title is : Python Programming Tutorials\n"
          ]
        }
      ]
    },
    {
      "cell_type": "code",
      "source": [
        "print(\"Beginning navigation :\", soup.title.parent.name, \"\\n\")\n",
        "\n",
        "# Locate the navigation bar\n",
        "navbar = soup.select_one('.navbar-fixed nav')\n",
        "\n",
        "if navbar:\n",
        "    links = navbar.find_all('a')\n",
        "    for link in links:\n",
        "        print(f'{link.text.strip()} : {link.get(\"href\")}')"
      ],
      "metadata": {
        "colab": {
          "base_uri": "https://localhost:8080/"
        },
        "id": "Xn0UlwFVmKtD",
        "outputId": "6b325d64-4389-45aa-a469-06f81e3ffe54"
      },
      "execution_count": 127,
      "outputs": [
        {
          "output_type": "stream",
          "name": "stdout",
          "text": [
            "Beginning navigation : head \n",
            "\n",
            " : /\n",
            " : #\n",
            "Home : /\n",
            "+=1 : /+=1/\n",
            "Support the Content : /support/\n",
            "Community : https://goo.gl/7zgAVQ\n",
            "Log in : /login/\n",
            "Sign up : /register/\n",
            "Home : /\n",
            "+=1 : /+=1/\n",
            "Support the Content : /support/\n",
            "Community : https://goo.gl/7zgAVQ\n",
            "Log in : /login/\n",
            "Sign up : /register/\n"
          ]
        }
      ]
    },
    {
      "cell_type": "code",
      "source": [
        "# specific values\n",
        "print(soup.p)\n",
        "print('\\n')\n",
        "print(soup.find_all('p'))\n",
        ""
      ],
      "metadata": {
        "colab": {
          "base_uri": "https://localhost:8080/"
        },
        "id": "Vszl8wOtqhGW",
        "outputId": "20d1ad6b-d656-479d-a47a-bad39ffa7275"
      },
      "execution_count": 143,
      "outputs": [
        {
          "output_type": "stream",
          "name": "stdout",
          "text": [
            "<p class=\"introduction\">Oh, hello! This is a <span style=\"font-size:115%\">wonderful</span> page meant to let you practice web scraping. This page was originally created to help people work with the <a href=\"https://www.crummy.com/software/BeautifulSoup/bs4/doc/\" target=\"blank\"><strong>Beautiful Soup 4</strong></a> library.</p>\n",
            "\n",
            "\n",
            "[<p class=\"introduction\">Oh, hello! This is a <span style=\"font-size:115%\">wonderful</span> page meant to let you practice web scraping. This page was originally created to help people work with the <a href=\"https://www.crummy.com/software/BeautifulSoup/bs4/doc/\" target=\"blank\"><strong>Beautiful Soup 4</strong></a> library.</p>, <p>The following table gives some general information for the following <code>programming languages</code>:</p>, <p>I think it's clear that, on a scale of 1-10, python is:</p>, <p>Javascript (dynamic data) test:</p>, <p class=\"jstest\" id=\"yesnojs\">y u bad tho?</p>, <p>Whᶐt hαppéns now¿</p>, <p><a href=\"/sitemap.xml\" target=\"blank\"><strong>sitemap</strong></a></p>, <p class=\"grey-text text-lighten-4\">Contact: Harrison@pythonprogramming.net.</p>, <p class=\"grey-text right\" style=\"padding-right:10px\">Programming is a superpower.</p>]\n"
          ]
        }
      ]
    },
    {
      "cell_type": "markdown",
      "source": [
        "**Find all the paragraphs and iterate through them using ‘str(paragraph.text)’**"
      ],
      "metadata": {
        "id": "C6104L19mvxr"
      }
    },
    {
      "cell_type": "code",
      "source": [
        "# Find all the paragraphs\n",
        "all_paragraphs = soup.find_all('p')\n",
        "\n",
        "# Initialize a counter for paragraph numbers\n",
        "i = 1\n",
        "\n",
        "# Loop through each paragraph and print the matter\n",
        "for paragraph in all_paragraphs:\n",
        "    print(f\"Paragraph_{i}: {str(paragraph.text)}\\n\")\n",
        "    i+=1"
      ],
      "metadata": {
        "colab": {
          "base_uri": "https://localhost:8080/"
        },
        "id": "gkR83l8Ne79s",
        "outputId": "8cde9ebd-bcda-4ebd-a092-e663c58f3220"
      },
      "execution_count": 141,
      "outputs": [
        {
          "output_type": "stream",
          "name": "stdout",
          "text": [
            "Paragraph_1: Oh, hello! This is a wonderful page meant to let you practice web scraping. This page was originally created to help people work with the Beautiful Soup 4 library.\n",
            "\n",
            "Paragraph_2: The following table gives some general information for the following programming languages:\n",
            "\n",
            "Paragraph_3: I think it's clear that, on a scale of 1-10, python is:\n",
            "\n",
            "Paragraph_4: Javascript (dynamic data) test:\n",
            "\n",
            "Paragraph_5: y u bad tho?\n",
            "\n",
            "Paragraph_6: Whᶐt hαppéns now¿\n",
            "\n",
            "Paragraph_7: sitemap\n",
            "\n",
            "Paragraph_8: Contact: Harrison@pythonprogramming.net.\n",
            "\n",
            "Paragraph_9: Programming is a superpower.\n",
            "\n"
          ]
        }
      ]
    },
    {
      "cell_type": "markdown",
      "source": [
        " **Grab all the links through 'url.get()'**\n"
      ],
      "metadata": {
        "id": "1D8vK6phn3kv"
      }
    },
    {
      "cell_type": "code",
      "source": [
        "# Extract all href attributes from anchor tags\n",
        "links = [link.get('href') for link in soup.find_all('a', href=True)]\n",
        "\n",
        "# print the links\n",
        "print('The Links are:')\n",
        "# Print all the links\n",
        "for href in links:\n",
        "    print(href)"
      ],
      "metadata": {
        "colab": {
          "base_uri": "https://localhost:8080/"
        },
        "id": "zgtAuBQYfKM6",
        "outputId": "747d36f5-4426-4593-9f1e-4aecf1ba4e43"
      },
      "execution_count": 120,
      "outputs": [
        {
          "output_type": "stream",
          "name": "stdout",
          "text": [
            "The Links are:\n",
            "/\n",
            "#\n",
            "/\n",
            "/+=1/\n",
            "/support/\n",
            "https://goo.gl/7zgAVQ\n",
            "/login/\n",
            "/register/\n",
            "/\n",
            "/+=1/\n",
            "/support/\n",
            "https://goo.gl/7zgAVQ\n",
            "/login/\n",
            "/register/\n",
            "https://www.crummy.com/software/BeautifulSoup/bs4/doc/\n",
            "/sitemap.xml\n",
            "/support-donate/\n",
            "/consulting/\n",
            "https://www.facebook.com/pythonprogramming.net/\n",
            "https://twitter.com/sentdex\n",
            "https://instagram.com/sentdex\n",
            "/about/tos/\n",
            "/about/privacy-policy/\n",
            "https://xkcd.com/353/\n"
          ]
        }
      ]
    },
    {
      "cell_type": "markdown",
      "source": [
        "**Grab the text using 'get_text'**"
      ],
      "metadata": {
        "id": "AA94GxiZoHJj"
      }
    },
    {
      "cell_type": "code",
      "source": [
        "# Extract text and strip leading/trailing whitespace\n",
        "page_text = soup.get_text()\n",
        "\n",
        "# Split the text into lines and join them back with a newline to clean it up\n",
        "cleaned_text = \"\\n\".join(line.strip() for line in page_text.splitlines() if line.strip())\n",
        "\n",
        "print(cleaned_text)"
      ],
      "metadata": {
        "colab": {
          "base_uri": "https://localhost:8080/"
        },
        "id": "aypiMspogft8",
        "outputId": "d46694a3-d0e9-49c6-9758-a2b76fa99551"
      },
      "execution_count": 121,
      "outputs": [
        {
          "output_type": "stream",
          "name": "stdout",
          "text": [
            "Python Programming Tutorials\n",
            "search\n",
            "Home\n",
            "+=1\n",
            "Support the Content\n",
            "Community\n",
            "Log in\n",
            "Sign up\n",
            "Home\n",
            "+=1\n",
            "Support the Content\n",
            "Community\n",
            "Log in\n",
            "Sign up\n",
            "Oh, hello! This is a wonderful page meant to let you practice web scraping. This page was originally created to help people work with the Beautiful Soup 4 library.\n",
            "The following table gives some general information for the following programming languages:\n",
            "Python\n",
            "Pascal\n",
            "Lisp\n",
            "D#\n",
            "Cobol\n",
            "Fortran\n",
            "Haskell\n",
            "Program Name\n",
            "Internet Points\n",
            "Kittens?\n",
            "Python\n",
            "932914021\n",
            "Definitely\n",
            "Pascal\n",
            "532\n",
            "Unlikely\n",
            "Lisp\n",
            "1522\n",
            "Uncertain\n",
            "D#\n",
            "12\n",
            "Possibly\n",
            "Cobol\n",
            "3\n",
            "No.\n",
            "Fortran\n",
            "52124\n",
            "Yes.\n",
            "Haskell\n",
            "24\n",
            "lol.\n",
            "I think it's clear that, on a scale of 1-10, python is:\n",
            "Javascript (dynamic data) test:\n",
            "y u bad tho?\n",
            "Beautiful is better than ugly.\n",
            "Explicit is better than implicit.\n",
            "Simple is better than complex.\n",
            "Complex is better than complicated.\n",
            "Flat is better than nested.\n",
            "Sparse is better than dense.\n",
            "Readability counts.\n",
            "Special cases aren't special enough to break the rules.\n",
            "Although practicality beats purity.\n",
            "Errors should never pass silently.\n",
            "Unless explicitly silenced.\n",
            "In the face of ambiguity, refuse the temptation to guess.\n",
            "There should be one-- and preferably only one --obvious way to do it.\n",
            "Although that way may not be obvious at first unless you're Dutch.\n",
            "Now is better than never.\n",
            "Although never is often better than *right* now.\n",
            "If the implementation is hard to explain, it's a bad idea.\n",
            "If the implementation is easy to explain, it may be a good idea.\n",
            "Namespaces are one honking great idea -- let's do more of those!\n",
            "Whᶐt hαppéns now¿\n",
            "sitemap\n",
            "You've reached the end!\n",
            "Contact: Harrison@pythonprogramming.net.\n",
            "Support this Website!\n",
            "Consulting and Contracting\n",
            "Facebook\n",
            "Twitter\n",
            "Instagram\n",
            "Legal stuff:\n",
            "Terms and Conditions\n",
            "Privacy Policy\n",
            "Programming is a superpower.\n",
            "© OVER 9000! PythonProgramming.net\n"
          ]
        }
      ]
    }
  ]
}