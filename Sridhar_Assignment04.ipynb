{
  "nbformat": 4,
  "nbformat_minor": 0,
  "metadata": {
    "colab": {
      "provenance": []
    },
    "kernelspec": {
      "name": "python3",
      "display_name": "Python 3"
    },
    "language_info": {
      "name": "python"
    }
  },
  "cells": [
    {
      "cell_type": "markdown",
      "source": [
        "**<h1>Exercise-1</h1>**"
      ],
      "metadata": {
        "id": "wD3u0JDUrza_"
      }
    },
    {
      "cell_type": "markdown",
      "source": [
        "**1. Import the required libraries**"
      ],
      "metadata": {
        "id": "7VL0uWs6kmPU"
      }
    },
    {
      "cell_type": "code",
      "execution_count": 3,
      "metadata": {
        "id": "0MxaP-x3kVwV"
      },
      "outputs": [],
      "source": [
        "import torch"
      ]
    },
    {
      "cell_type": "markdown",
      "source": [
        "**2. Load the dataset containing a set of 1,000 product reviews from Amazon, which are\n",
        "paired with a label of 0 (for negative reviews) or 1 (for positive reviews). Get the data at\n",
        "https://archive.ics.uci.edu/ml/datasets/Sentiment+Labelled+Sentences.**"
      ],
      "metadata": {
        "id": "g9lJ29LAk4Bs"
      }
    },
    {
      "cell_type": "code",
      "source": [
        "import pandas as pd\n",
        "df = pd.read_csv('/content/amazon_cells_labelled.txt', delimiter=\"\\t\", header = None)\n",
        "df.head()"
      ],
      "metadata": {
        "colab": {
          "base_uri": "https://localhost:8080/",
          "height": 206
        },
        "id": "U5xP3MYRkb6o",
        "outputId": "4c68aac7-7c63-4756-eb7b-060cf62ff1ce"
      },
      "execution_count": 4,
      "outputs": [
        {
          "output_type": "execute_result",
          "data": {
            "text/plain": [
              "                                                   0  1\n",
              "0  So there is no way for me to plug it in here i...  0\n",
              "1                        Good case, Excellent value.  1\n",
              "2                             Great for the jawbone.  1\n",
              "3  Tied to charger for conversations lasting more...  0\n",
              "4                                  The mic is great.  1"
            ],
            "text/html": [
              "\n",
              "  <div id=\"df-9726f3ce-e2ba-4059-9278-4ad4fccb70c0\" class=\"colab-df-container\">\n",
              "    <div>\n",
              "<style scoped>\n",
              "    .dataframe tbody tr th:only-of-type {\n",
              "        vertical-align: middle;\n",
              "    }\n",
              "\n",
              "    .dataframe tbody tr th {\n",
              "        vertical-align: top;\n",
              "    }\n",
              "\n",
              "    .dataframe thead th {\n",
              "        text-align: right;\n",
              "    }\n",
              "</style>\n",
              "<table border=\"1\" class=\"dataframe\">\n",
              "  <thead>\n",
              "    <tr style=\"text-align: right;\">\n",
              "      <th></th>\n",
              "      <th>0</th>\n",
              "      <th>1</th>\n",
              "    </tr>\n",
              "  </thead>\n",
              "  <tbody>\n",
              "    <tr>\n",
              "      <th>0</th>\n",
              "      <td>So there is no way for me to plug it in here i...</td>\n",
              "      <td>0</td>\n",
              "    </tr>\n",
              "    <tr>\n",
              "      <th>1</th>\n",
              "      <td>Good case, Excellent value.</td>\n",
              "      <td>1</td>\n",
              "    </tr>\n",
              "    <tr>\n",
              "      <th>2</th>\n",
              "      <td>Great for the jawbone.</td>\n",
              "      <td>1</td>\n",
              "    </tr>\n",
              "    <tr>\n",
              "      <th>3</th>\n",
              "      <td>Tied to charger for conversations lasting more...</td>\n",
              "      <td>0</td>\n",
              "    </tr>\n",
              "    <tr>\n",
              "      <th>4</th>\n",
              "      <td>The mic is great.</td>\n",
              "      <td>1</td>\n",
              "    </tr>\n",
              "  </tbody>\n",
              "</table>\n",
              "</div>\n",
              "    <div class=\"colab-df-buttons\">\n",
              "\n",
              "  <div class=\"colab-df-container\">\n",
              "    <button class=\"colab-df-convert\" onclick=\"convertToInteractive('df-9726f3ce-e2ba-4059-9278-4ad4fccb70c0')\"\n",
              "            title=\"Convert this dataframe to an interactive table.\"\n",
              "            style=\"display:none;\">\n",
              "\n",
              "  <svg xmlns=\"http://www.w3.org/2000/svg\" height=\"24px\" viewBox=\"0 -960 960 960\">\n",
              "    <path d=\"M120-120v-720h720v720H120Zm60-500h600v-160H180v160Zm220 220h160v-160H400v160Zm0 220h160v-160H400v160ZM180-400h160v-160H180v160Zm440 0h160v-160H620v160ZM180-180h160v-160H180v160Zm440 0h160v-160H620v160Z\"/>\n",
              "  </svg>\n",
              "    </button>\n",
              "\n",
              "  <style>\n",
              "    .colab-df-container {\n",
              "      display:flex;\n",
              "      gap: 12px;\n",
              "    }\n",
              "\n",
              "    .colab-df-convert {\n",
              "      background-color: #E8F0FE;\n",
              "      border: none;\n",
              "      border-radius: 50%;\n",
              "      cursor: pointer;\n",
              "      display: none;\n",
              "      fill: #1967D2;\n",
              "      height: 32px;\n",
              "      padding: 0 0 0 0;\n",
              "      width: 32px;\n",
              "    }\n",
              "\n",
              "    .colab-df-convert:hover {\n",
              "      background-color: #E2EBFA;\n",
              "      box-shadow: 0px 1px 2px rgba(60, 64, 67, 0.3), 0px 1px 3px 1px rgba(60, 64, 67, 0.15);\n",
              "      fill: #174EA6;\n",
              "    }\n",
              "\n",
              "    .colab-df-buttons div {\n",
              "      margin-bottom: 4px;\n",
              "    }\n",
              "\n",
              "    [theme=dark] .colab-df-convert {\n",
              "      background-color: #3B4455;\n",
              "      fill: #D2E3FC;\n",
              "    }\n",
              "\n",
              "    [theme=dark] .colab-df-convert:hover {\n",
              "      background-color: #434B5C;\n",
              "      box-shadow: 0px 1px 3px 1px rgba(0, 0, 0, 0.15);\n",
              "      filter: drop-shadow(0px 1px 2px rgba(0, 0, 0, 0.3));\n",
              "      fill: #FFFFFF;\n",
              "    }\n",
              "  </style>\n",
              "\n",
              "    <script>\n",
              "      const buttonEl =\n",
              "        document.querySelector('#df-9726f3ce-e2ba-4059-9278-4ad4fccb70c0 button.colab-df-convert');\n",
              "      buttonEl.style.display =\n",
              "        google.colab.kernel.accessAllowed ? 'block' : 'none';\n",
              "\n",
              "      async function convertToInteractive(key) {\n",
              "        const element = document.querySelector('#df-9726f3ce-e2ba-4059-9278-4ad4fccb70c0');\n",
              "        const dataTable =\n",
              "          await google.colab.kernel.invokeFunction('convertToInteractive',\n",
              "                                                    [key], {});\n",
              "        if (!dataTable) return;\n",
              "\n",
              "        const docLinkHtml = 'Like what you see? Visit the ' +\n",
              "          '<a target=\"_blank\" href=https://colab.research.google.com/notebooks/data_table.ipynb>data table notebook</a>'\n",
              "          + ' to learn more about interactive tables.';\n",
              "        element.innerHTML = '';\n",
              "        dataTable['output_type'] = 'display_data';\n",
              "        await google.colab.output.renderOutput(dataTable, element);\n",
              "        const docLink = document.createElement('div');\n",
              "        docLink.innerHTML = docLinkHtml;\n",
              "        element.appendChild(docLink);\n",
              "      }\n",
              "    </script>\n",
              "  </div>\n",
              "\n",
              "\n",
              "<div id=\"df-e0c7fd5f-64aa-47be-8eba-ca4b5b40ac7d\">\n",
              "  <button class=\"colab-df-quickchart\" onclick=\"quickchart('df-e0c7fd5f-64aa-47be-8eba-ca4b5b40ac7d')\"\n",
              "            title=\"Suggest charts\"\n",
              "            style=\"display:none;\">\n",
              "\n",
              "<svg xmlns=\"http://www.w3.org/2000/svg\" height=\"24px\"viewBox=\"0 0 24 24\"\n",
              "     width=\"24px\">\n",
              "    <g>\n",
              "        <path d=\"M19 3H5c-1.1 0-2 .9-2 2v14c0 1.1.9 2 2 2h14c1.1 0 2-.9 2-2V5c0-1.1-.9-2-2-2zM9 17H7v-7h2v7zm4 0h-2V7h2v10zm4 0h-2v-4h2v4z\"/>\n",
              "    </g>\n",
              "</svg>\n",
              "  </button>\n",
              "\n",
              "<style>\n",
              "  .colab-df-quickchart {\n",
              "      --bg-color: #E8F0FE;\n",
              "      --fill-color: #1967D2;\n",
              "      --hover-bg-color: #E2EBFA;\n",
              "      --hover-fill-color: #174EA6;\n",
              "      --disabled-fill-color: #AAA;\n",
              "      --disabled-bg-color: #DDD;\n",
              "  }\n",
              "\n",
              "  [theme=dark] .colab-df-quickchart {\n",
              "      --bg-color: #3B4455;\n",
              "      --fill-color: #D2E3FC;\n",
              "      --hover-bg-color: #434B5C;\n",
              "      --hover-fill-color: #FFFFFF;\n",
              "      --disabled-bg-color: #3B4455;\n",
              "      --disabled-fill-color: #666;\n",
              "  }\n",
              "\n",
              "  .colab-df-quickchart {\n",
              "    background-color: var(--bg-color);\n",
              "    border: none;\n",
              "    border-radius: 50%;\n",
              "    cursor: pointer;\n",
              "    display: none;\n",
              "    fill: var(--fill-color);\n",
              "    height: 32px;\n",
              "    padding: 0;\n",
              "    width: 32px;\n",
              "  }\n",
              "\n",
              "  .colab-df-quickchart:hover {\n",
              "    background-color: var(--hover-bg-color);\n",
              "    box-shadow: 0 1px 2px rgba(60, 64, 67, 0.3), 0 1px 3px 1px rgba(60, 64, 67, 0.15);\n",
              "    fill: var(--button-hover-fill-color);\n",
              "  }\n",
              "\n",
              "  .colab-df-quickchart-complete:disabled,\n",
              "  .colab-df-quickchart-complete:disabled:hover {\n",
              "    background-color: var(--disabled-bg-color);\n",
              "    fill: var(--disabled-fill-color);\n",
              "    box-shadow: none;\n",
              "  }\n",
              "\n",
              "  .colab-df-spinner {\n",
              "    border: 2px solid var(--fill-color);\n",
              "    border-color: transparent;\n",
              "    border-bottom-color: var(--fill-color);\n",
              "    animation:\n",
              "      spin 1s steps(1) infinite;\n",
              "  }\n",
              "\n",
              "  @keyframes spin {\n",
              "    0% {\n",
              "      border-color: transparent;\n",
              "      border-bottom-color: var(--fill-color);\n",
              "      border-left-color: var(--fill-color);\n",
              "    }\n",
              "    20% {\n",
              "      border-color: transparent;\n",
              "      border-left-color: var(--fill-color);\n",
              "      border-top-color: var(--fill-color);\n",
              "    }\n",
              "    30% {\n",
              "      border-color: transparent;\n",
              "      border-left-color: var(--fill-color);\n",
              "      border-top-color: var(--fill-color);\n",
              "      border-right-color: var(--fill-color);\n",
              "    }\n",
              "    40% {\n",
              "      border-color: transparent;\n",
              "      border-right-color: var(--fill-color);\n",
              "      border-top-color: var(--fill-color);\n",
              "    }\n",
              "    60% {\n",
              "      border-color: transparent;\n",
              "      border-right-color: var(--fill-color);\n",
              "    }\n",
              "    80% {\n",
              "      border-color: transparent;\n",
              "      border-right-color: var(--fill-color);\n",
              "      border-bottom-color: var(--fill-color);\n",
              "    }\n",
              "    90% {\n",
              "      border-color: transparent;\n",
              "      border-bottom-color: var(--fill-color);\n",
              "    }\n",
              "  }\n",
              "</style>\n",
              "\n",
              "  <script>\n",
              "    async function quickchart(key) {\n",
              "      const quickchartButtonEl =\n",
              "        document.querySelector('#' + key + ' button');\n",
              "      quickchartButtonEl.disabled = true;  // To prevent multiple clicks.\n",
              "      quickchartButtonEl.classList.add('colab-df-spinner');\n",
              "      try {\n",
              "        const charts = await google.colab.kernel.invokeFunction(\n",
              "            'suggestCharts', [key], {});\n",
              "      } catch (error) {\n",
              "        console.error('Error during call to suggestCharts:', error);\n",
              "      }\n",
              "      quickchartButtonEl.classList.remove('colab-df-spinner');\n",
              "      quickchartButtonEl.classList.add('colab-df-quickchart-complete');\n",
              "    }\n",
              "    (() => {\n",
              "      let quickchartButtonEl =\n",
              "        document.querySelector('#df-e0c7fd5f-64aa-47be-8eba-ca4b5b40ac7d button');\n",
              "      quickchartButtonEl.style.display =\n",
              "        google.colab.kernel.accessAllowed ? 'block' : 'none';\n",
              "    })();\n",
              "  </script>\n",
              "</div>\n",
              "\n",
              "    </div>\n",
              "  </div>\n"
            ],
            "application/vnd.google.colaboratory.intrinsic+json": {
              "type": "dataframe",
              "variable_name": "df",
              "summary": "{\n  \"name\": \"df\",\n  \"rows\": 1000,\n  \"fields\": [\n    {\n      \"column\": 0,\n      \"properties\": {\n        \"dtype\": \"string\",\n        \"num_unique_values\": 990,\n        \"samples\": [\n          \"The range is very decent, I've been able to roam around my house with the phone in the living room with no reception/sound quality issues.\",\n          \"The reception is excellent!\",\n          \"I would have given no star if I was able.\"\n        ],\n        \"semantic_type\": \"\",\n        \"description\": \"\"\n      }\n    },\n    {\n      \"column\": 1,\n      \"properties\": {\n        \"dtype\": \"number\",\n        \"std\": 0,\n        \"min\": 0,\n        \"max\": 1,\n        \"num_unique_values\": 2,\n        \"samples\": [\n          1,\n          0\n        ],\n        \"semantic_type\": \"\",\n        \"description\": \"\"\n      }\n    }\n  ]\n}"
            }
          },
          "metadata": {},
          "execution_count": 4
        }
      ]
    },
    {
      "cell_type": "markdown",
      "source": [
        "**3. Separate the data into two variables: one containing the reviews and the other containing\n",
        "the labels. Remove the punctuation from the reviews.**"
      ],
      "metadata": {
        "id": "IGbpiR63muSk"
      }
    },
    {
      "cell_type": "code",
      "source": [
        "new_columns = ['Reviews', 'Labels']\n",
        "df.columns = new_columns\n",
        "df.head()"
      ],
      "metadata": {
        "colab": {
          "base_uri": "https://localhost:8080/",
          "height": 206
        },
        "id": "06o1XMHimCfm",
        "outputId": "a213a0c1-a40e-4325-9630-d57cbd235e4b"
      },
      "execution_count": 5,
      "outputs": [
        {
          "output_type": "execute_result",
          "data": {
            "text/plain": [
              "                                             Reviews  Labels\n",
              "0  So there is no way for me to plug it in here i...       0\n",
              "1                        Good case, Excellent value.       1\n",
              "2                             Great for the jawbone.       1\n",
              "3  Tied to charger for conversations lasting more...       0\n",
              "4                                  The mic is great.       1"
            ],
            "text/html": [
              "\n",
              "  <div id=\"df-0e9b491e-aa6a-4b58-9493-79692913f753\" class=\"colab-df-container\">\n",
              "    <div>\n",
              "<style scoped>\n",
              "    .dataframe tbody tr th:only-of-type {\n",
              "        vertical-align: middle;\n",
              "    }\n",
              "\n",
              "    .dataframe tbody tr th {\n",
              "        vertical-align: top;\n",
              "    }\n",
              "\n",
              "    .dataframe thead th {\n",
              "        text-align: right;\n",
              "    }\n",
              "</style>\n",
              "<table border=\"1\" class=\"dataframe\">\n",
              "  <thead>\n",
              "    <tr style=\"text-align: right;\">\n",
              "      <th></th>\n",
              "      <th>Reviews</th>\n",
              "      <th>Labels</th>\n",
              "    </tr>\n",
              "  </thead>\n",
              "  <tbody>\n",
              "    <tr>\n",
              "      <th>0</th>\n",
              "      <td>So there is no way for me to plug it in here i...</td>\n",
              "      <td>0</td>\n",
              "    </tr>\n",
              "    <tr>\n",
              "      <th>1</th>\n",
              "      <td>Good case, Excellent value.</td>\n",
              "      <td>1</td>\n",
              "    </tr>\n",
              "    <tr>\n",
              "      <th>2</th>\n",
              "      <td>Great for the jawbone.</td>\n",
              "      <td>1</td>\n",
              "    </tr>\n",
              "    <tr>\n",
              "      <th>3</th>\n",
              "      <td>Tied to charger for conversations lasting more...</td>\n",
              "      <td>0</td>\n",
              "    </tr>\n",
              "    <tr>\n",
              "      <th>4</th>\n",
              "      <td>The mic is great.</td>\n",
              "      <td>1</td>\n",
              "    </tr>\n",
              "  </tbody>\n",
              "</table>\n",
              "</div>\n",
              "    <div class=\"colab-df-buttons\">\n",
              "\n",
              "  <div class=\"colab-df-container\">\n",
              "    <button class=\"colab-df-convert\" onclick=\"convertToInteractive('df-0e9b491e-aa6a-4b58-9493-79692913f753')\"\n",
              "            title=\"Convert this dataframe to an interactive table.\"\n",
              "            style=\"display:none;\">\n",
              "\n",
              "  <svg xmlns=\"http://www.w3.org/2000/svg\" height=\"24px\" viewBox=\"0 -960 960 960\">\n",
              "    <path d=\"M120-120v-720h720v720H120Zm60-500h600v-160H180v160Zm220 220h160v-160H400v160Zm0 220h160v-160H400v160ZM180-400h160v-160H180v160Zm440 0h160v-160H620v160ZM180-180h160v-160H180v160Zm440 0h160v-160H620v160Z\"/>\n",
              "  </svg>\n",
              "    </button>\n",
              "\n",
              "  <style>\n",
              "    .colab-df-container {\n",
              "      display:flex;\n",
              "      gap: 12px;\n",
              "    }\n",
              "\n",
              "    .colab-df-convert {\n",
              "      background-color: #E8F0FE;\n",
              "      border: none;\n",
              "      border-radius: 50%;\n",
              "      cursor: pointer;\n",
              "      display: none;\n",
              "      fill: #1967D2;\n",
              "      height: 32px;\n",
              "      padding: 0 0 0 0;\n",
              "      width: 32px;\n",
              "    }\n",
              "\n",
              "    .colab-df-convert:hover {\n",
              "      background-color: #E2EBFA;\n",
              "      box-shadow: 0px 1px 2px rgba(60, 64, 67, 0.3), 0px 1px 3px 1px rgba(60, 64, 67, 0.15);\n",
              "      fill: #174EA6;\n",
              "    }\n",
              "\n",
              "    .colab-df-buttons div {\n",
              "      margin-bottom: 4px;\n",
              "    }\n",
              "\n",
              "    [theme=dark] .colab-df-convert {\n",
              "      background-color: #3B4455;\n",
              "      fill: #D2E3FC;\n",
              "    }\n",
              "\n",
              "    [theme=dark] .colab-df-convert:hover {\n",
              "      background-color: #434B5C;\n",
              "      box-shadow: 0px 1px 3px 1px rgba(0, 0, 0, 0.15);\n",
              "      filter: drop-shadow(0px 1px 2px rgba(0, 0, 0, 0.3));\n",
              "      fill: #FFFFFF;\n",
              "    }\n",
              "  </style>\n",
              "\n",
              "    <script>\n",
              "      const buttonEl =\n",
              "        document.querySelector('#df-0e9b491e-aa6a-4b58-9493-79692913f753 button.colab-df-convert');\n",
              "      buttonEl.style.display =\n",
              "        google.colab.kernel.accessAllowed ? 'block' : 'none';\n",
              "\n",
              "      async function convertToInteractive(key) {\n",
              "        const element = document.querySelector('#df-0e9b491e-aa6a-4b58-9493-79692913f753');\n",
              "        const dataTable =\n",
              "          await google.colab.kernel.invokeFunction('convertToInteractive',\n",
              "                                                    [key], {});\n",
              "        if (!dataTable) return;\n",
              "\n",
              "        const docLinkHtml = 'Like what you see? Visit the ' +\n",
              "          '<a target=\"_blank\" href=https://colab.research.google.com/notebooks/data_table.ipynb>data table notebook</a>'\n",
              "          + ' to learn more about interactive tables.';\n",
              "        element.innerHTML = '';\n",
              "        dataTable['output_type'] = 'display_data';\n",
              "        await google.colab.output.renderOutput(dataTable, element);\n",
              "        const docLink = document.createElement('div');\n",
              "        docLink.innerHTML = docLinkHtml;\n",
              "        element.appendChild(docLink);\n",
              "      }\n",
              "    </script>\n",
              "  </div>\n",
              "\n",
              "\n",
              "<div id=\"df-c199231e-3bd5-4f2d-ad00-eca3285fc7ce\">\n",
              "  <button class=\"colab-df-quickchart\" onclick=\"quickchart('df-c199231e-3bd5-4f2d-ad00-eca3285fc7ce')\"\n",
              "            title=\"Suggest charts\"\n",
              "            style=\"display:none;\">\n",
              "\n",
              "<svg xmlns=\"http://www.w3.org/2000/svg\" height=\"24px\"viewBox=\"0 0 24 24\"\n",
              "     width=\"24px\">\n",
              "    <g>\n",
              "        <path d=\"M19 3H5c-1.1 0-2 .9-2 2v14c0 1.1.9 2 2 2h14c1.1 0 2-.9 2-2V5c0-1.1-.9-2-2-2zM9 17H7v-7h2v7zm4 0h-2V7h2v10zm4 0h-2v-4h2v4z\"/>\n",
              "    </g>\n",
              "</svg>\n",
              "  </button>\n",
              "\n",
              "<style>\n",
              "  .colab-df-quickchart {\n",
              "      --bg-color: #E8F0FE;\n",
              "      --fill-color: #1967D2;\n",
              "      --hover-bg-color: #E2EBFA;\n",
              "      --hover-fill-color: #174EA6;\n",
              "      --disabled-fill-color: #AAA;\n",
              "      --disabled-bg-color: #DDD;\n",
              "  }\n",
              "\n",
              "  [theme=dark] .colab-df-quickchart {\n",
              "      --bg-color: #3B4455;\n",
              "      --fill-color: #D2E3FC;\n",
              "      --hover-bg-color: #434B5C;\n",
              "      --hover-fill-color: #FFFFFF;\n",
              "      --disabled-bg-color: #3B4455;\n",
              "      --disabled-fill-color: #666;\n",
              "  }\n",
              "\n",
              "  .colab-df-quickchart {\n",
              "    background-color: var(--bg-color);\n",
              "    border: none;\n",
              "    border-radius: 50%;\n",
              "    cursor: pointer;\n",
              "    display: none;\n",
              "    fill: var(--fill-color);\n",
              "    height: 32px;\n",
              "    padding: 0;\n",
              "    width: 32px;\n",
              "  }\n",
              "\n",
              "  .colab-df-quickchart:hover {\n",
              "    background-color: var(--hover-bg-color);\n",
              "    box-shadow: 0 1px 2px rgba(60, 64, 67, 0.3), 0 1px 3px 1px rgba(60, 64, 67, 0.15);\n",
              "    fill: var(--button-hover-fill-color);\n",
              "  }\n",
              "\n",
              "  .colab-df-quickchart-complete:disabled,\n",
              "  .colab-df-quickchart-complete:disabled:hover {\n",
              "    background-color: var(--disabled-bg-color);\n",
              "    fill: var(--disabled-fill-color);\n",
              "    box-shadow: none;\n",
              "  }\n",
              "\n",
              "  .colab-df-spinner {\n",
              "    border: 2px solid var(--fill-color);\n",
              "    border-color: transparent;\n",
              "    border-bottom-color: var(--fill-color);\n",
              "    animation:\n",
              "      spin 1s steps(1) infinite;\n",
              "  }\n",
              "\n",
              "  @keyframes spin {\n",
              "    0% {\n",
              "      border-color: transparent;\n",
              "      border-bottom-color: var(--fill-color);\n",
              "      border-left-color: var(--fill-color);\n",
              "    }\n",
              "    20% {\n",
              "      border-color: transparent;\n",
              "      border-left-color: var(--fill-color);\n",
              "      border-top-color: var(--fill-color);\n",
              "    }\n",
              "    30% {\n",
              "      border-color: transparent;\n",
              "      border-left-color: var(--fill-color);\n",
              "      border-top-color: var(--fill-color);\n",
              "      border-right-color: var(--fill-color);\n",
              "    }\n",
              "    40% {\n",
              "      border-color: transparent;\n",
              "      border-right-color: var(--fill-color);\n",
              "      border-top-color: var(--fill-color);\n",
              "    }\n",
              "    60% {\n",
              "      border-color: transparent;\n",
              "      border-right-color: var(--fill-color);\n",
              "    }\n",
              "    80% {\n",
              "      border-color: transparent;\n",
              "      border-right-color: var(--fill-color);\n",
              "      border-bottom-color: var(--fill-color);\n",
              "    }\n",
              "    90% {\n",
              "      border-color: transparent;\n",
              "      border-bottom-color: var(--fill-color);\n",
              "    }\n",
              "  }\n",
              "</style>\n",
              "\n",
              "  <script>\n",
              "    async function quickchart(key) {\n",
              "      const quickchartButtonEl =\n",
              "        document.querySelector('#' + key + ' button');\n",
              "      quickchartButtonEl.disabled = true;  // To prevent multiple clicks.\n",
              "      quickchartButtonEl.classList.add('colab-df-spinner');\n",
              "      try {\n",
              "        const charts = await google.colab.kernel.invokeFunction(\n",
              "            'suggestCharts', [key], {});\n",
              "      } catch (error) {\n",
              "        console.error('Error during call to suggestCharts:', error);\n",
              "      }\n",
              "      quickchartButtonEl.classList.remove('colab-df-spinner');\n",
              "      quickchartButtonEl.classList.add('colab-df-quickchart-complete');\n",
              "    }\n",
              "    (() => {\n",
              "      let quickchartButtonEl =\n",
              "        document.querySelector('#df-c199231e-3bd5-4f2d-ad00-eca3285fc7ce button');\n",
              "      quickchartButtonEl.style.display =\n",
              "        google.colab.kernel.accessAllowed ? 'block' : 'none';\n",
              "    })();\n",
              "  </script>\n",
              "</div>\n",
              "\n",
              "    </div>\n",
              "  </div>\n"
            ],
            "application/vnd.google.colaboratory.intrinsic+json": {
              "type": "dataframe",
              "variable_name": "df",
              "summary": "{\n  \"name\": \"df\",\n  \"rows\": 1000,\n  \"fields\": [\n    {\n      \"column\": \"Reviews\",\n      \"properties\": {\n        \"dtype\": \"string\",\n        \"num_unique_values\": 990,\n        \"samples\": [\n          \"The range is very decent, I've been able to roam around my house with the phone in the living room with no reception/sound quality issues.\",\n          \"The reception is excellent!\",\n          \"I would have given no star if I was able.\"\n        ],\n        \"semantic_type\": \"\",\n        \"description\": \"\"\n      }\n    },\n    {\n      \"column\": \"Labels\",\n      \"properties\": {\n        \"dtype\": \"number\",\n        \"std\": 0,\n        \"min\": 0,\n        \"max\": 1,\n        \"num_unique_values\": 2,\n        \"samples\": [\n          1,\n          0\n        ],\n        \"semantic_type\": \"\",\n        \"description\": \"\"\n      }\n    }\n  ]\n}"
            }
          },
          "metadata": {},
          "execution_count": 5
        }
      ]
    },
    {
      "cell_type": "code",
      "source": [
        "import string\n",
        "\n",
        "def remove_punctuation(text):\n",
        "  new_string = \"\"\n",
        "  for character in text:\n",
        "    if character not in string.punctuation:\n",
        "      new_string += character\n",
        "  return new_string\n",
        "\n",
        "df['Reviews'] = df['Reviews'].apply(remove_punctuation)\n",
        "df.head()"
      ],
      "metadata": {
        "colab": {
          "base_uri": "https://localhost:8080/",
          "height": 206
        },
        "id": "qRLbgxCKpNRQ",
        "outputId": "7dbf3134-64fa-4e58-8330-26736eab9e67"
      },
      "execution_count": 6,
      "outputs": [
        {
          "output_type": "execute_result",
          "data": {
            "text/plain": [
              "                                             Reviews  Labels\n",
              "0  So there is no way for me to plug it in here i...       0\n",
              "1                          Good case Excellent value       1\n",
              "2                              Great for the jawbone       1\n",
              "3  Tied to charger for conversations lasting more...       0\n",
              "4                                   The mic is great       1"
            ],
            "text/html": [
              "\n",
              "  <div id=\"df-3d771bbc-6f39-4a18-8e9c-2c2122826963\" class=\"colab-df-container\">\n",
              "    <div>\n",
              "<style scoped>\n",
              "    .dataframe tbody tr th:only-of-type {\n",
              "        vertical-align: middle;\n",
              "    }\n",
              "\n",
              "    .dataframe tbody tr th {\n",
              "        vertical-align: top;\n",
              "    }\n",
              "\n",
              "    .dataframe thead th {\n",
              "        text-align: right;\n",
              "    }\n",
              "</style>\n",
              "<table border=\"1\" class=\"dataframe\">\n",
              "  <thead>\n",
              "    <tr style=\"text-align: right;\">\n",
              "      <th></th>\n",
              "      <th>Reviews</th>\n",
              "      <th>Labels</th>\n",
              "    </tr>\n",
              "  </thead>\n",
              "  <tbody>\n",
              "    <tr>\n",
              "      <th>0</th>\n",
              "      <td>So there is no way for me to plug it in here i...</td>\n",
              "      <td>0</td>\n",
              "    </tr>\n",
              "    <tr>\n",
              "      <th>1</th>\n",
              "      <td>Good case Excellent value</td>\n",
              "      <td>1</td>\n",
              "    </tr>\n",
              "    <tr>\n",
              "      <th>2</th>\n",
              "      <td>Great for the jawbone</td>\n",
              "      <td>1</td>\n",
              "    </tr>\n",
              "    <tr>\n",
              "      <th>3</th>\n",
              "      <td>Tied to charger for conversations lasting more...</td>\n",
              "      <td>0</td>\n",
              "    </tr>\n",
              "    <tr>\n",
              "      <th>4</th>\n",
              "      <td>The mic is great</td>\n",
              "      <td>1</td>\n",
              "    </tr>\n",
              "  </tbody>\n",
              "</table>\n",
              "</div>\n",
              "    <div class=\"colab-df-buttons\">\n",
              "\n",
              "  <div class=\"colab-df-container\">\n",
              "    <button class=\"colab-df-convert\" onclick=\"convertToInteractive('df-3d771bbc-6f39-4a18-8e9c-2c2122826963')\"\n",
              "            title=\"Convert this dataframe to an interactive table.\"\n",
              "            style=\"display:none;\">\n",
              "\n",
              "  <svg xmlns=\"http://www.w3.org/2000/svg\" height=\"24px\" viewBox=\"0 -960 960 960\">\n",
              "    <path d=\"M120-120v-720h720v720H120Zm60-500h600v-160H180v160Zm220 220h160v-160H400v160Zm0 220h160v-160H400v160ZM180-400h160v-160H180v160Zm440 0h160v-160H620v160ZM180-180h160v-160H180v160Zm440 0h160v-160H620v160Z\"/>\n",
              "  </svg>\n",
              "    </button>\n",
              "\n",
              "  <style>\n",
              "    .colab-df-container {\n",
              "      display:flex;\n",
              "      gap: 12px;\n",
              "    }\n",
              "\n",
              "    .colab-df-convert {\n",
              "      background-color: #E8F0FE;\n",
              "      border: none;\n",
              "      border-radius: 50%;\n",
              "      cursor: pointer;\n",
              "      display: none;\n",
              "      fill: #1967D2;\n",
              "      height: 32px;\n",
              "      padding: 0 0 0 0;\n",
              "      width: 32px;\n",
              "    }\n",
              "\n",
              "    .colab-df-convert:hover {\n",
              "      background-color: #E2EBFA;\n",
              "      box-shadow: 0px 1px 2px rgba(60, 64, 67, 0.3), 0px 1px 3px 1px rgba(60, 64, 67, 0.15);\n",
              "      fill: #174EA6;\n",
              "    }\n",
              "\n",
              "    .colab-df-buttons div {\n",
              "      margin-bottom: 4px;\n",
              "    }\n",
              "\n",
              "    [theme=dark] .colab-df-convert {\n",
              "      background-color: #3B4455;\n",
              "      fill: #D2E3FC;\n",
              "    }\n",
              "\n",
              "    [theme=dark] .colab-df-convert:hover {\n",
              "      background-color: #434B5C;\n",
              "      box-shadow: 0px 1px 3px 1px rgba(0, 0, 0, 0.15);\n",
              "      filter: drop-shadow(0px 1px 2px rgba(0, 0, 0, 0.3));\n",
              "      fill: #FFFFFF;\n",
              "    }\n",
              "  </style>\n",
              "\n",
              "    <script>\n",
              "      const buttonEl =\n",
              "        document.querySelector('#df-3d771bbc-6f39-4a18-8e9c-2c2122826963 button.colab-df-convert');\n",
              "      buttonEl.style.display =\n",
              "        google.colab.kernel.accessAllowed ? 'block' : 'none';\n",
              "\n",
              "      async function convertToInteractive(key) {\n",
              "        const element = document.querySelector('#df-3d771bbc-6f39-4a18-8e9c-2c2122826963');\n",
              "        const dataTable =\n",
              "          await google.colab.kernel.invokeFunction('convertToInteractive',\n",
              "                                                    [key], {});\n",
              "        if (!dataTable) return;\n",
              "\n",
              "        const docLinkHtml = 'Like what you see? Visit the ' +\n",
              "          '<a target=\"_blank\" href=https://colab.research.google.com/notebooks/data_table.ipynb>data table notebook</a>'\n",
              "          + ' to learn more about interactive tables.';\n",
              "        element.innerHTML = '';\n",
              "        dataTable['output_type'] = 'display_data';\n",
              "        await google.colab.output.renderOutput(dataTable, element);\n",
              "        const docLink = document.createElement('div');\n",
              "        docLink.innerHTML = docLinkHtml;\n",
              "        element.appendChild(docLink);\n",
              "      }\n",
              "    </script>\n",
              "  </div>\n",
              "\n",
              "\n",
              "<div id=\"df-2b236ee1-6d7b-48f4-9320-0642658b7165\">\n",
              "  <button class=\"colab-df-quickchart\" onclick=\"quickchart('df-2b236ee1-6d7b-48f4-9320-0642658b7165')\"\n",
              "            title=\"Suggest charts\"\n",
              "            style=\"display:none;\">\n",
              "\n",
              "<svg xmlns=\"http://www.w3.org/2000/svg\" height=\"24px\"viewBox=\"0 0 24 24\"\n",
              "     width=\"24px\">\n",
              "    <g>\n",
              "        <path d=\"M19 3H5c-1.1 0-2 .9-2 2v14c0 1.1.9 2 2 2h14c1.1 0 2-.9 2-2V5c0-1.1-.9-2-2-2zM9 17H7v-7h2v7zm4 0h-2V7h2v10zm4 0h-2v-4h2v4z\"/>\n",
              "    </g>\n",
              "</svg>\n",
              "  </button>\n",
              "\n",
              "<style>\n",
              "  .colab-df-quickchart {\n",
              "      --bg-color: #E8F0FE;\n",
              "      --fill-color: #1967D2;\n",
              "      --hover-bg-color: #E2EBFA;\n",
              "      --hover-fill-color: #174EA6;\n",
              "      --disabled-fill-color: #AAA;\n",
              "      --disabled-bg-color: #DDD;\n",
              "  }\n",
              "\n",
              "  [theme=dark] .colab-df-quickchart {\n",
              "      --bg-color: #3B4455;\n",
              "      --fill-color: #D2E3FC;\n",
              "      --hover-bg-color: #434B5C;\n",
              "      --hover-fill-color: #FFFFFF;\n",
              "      --disabled-bg-color: #3B4455;\n",
              "      --disabled-fill-color: #666;\n",
              "  }\n",
              "\n",
              "  .colab-df-quickchart {\n",
              "    background-color: var(--bg-color);\n",
              "    border: none;\n",
              "    border-radius: 50%;\n",
              "    cursor: pointer;\n",
              "    display: none;\n",
              "    fill: var(--fill-color);\n",
              "    height: 32px;\n",
              "    padding: 0;\n",
              "    width: 32px;\n",
              "  }\n",
              "\n",
              "  .colab-df-quickchart:hover {\n",
              "    background-color: var(--hover-bg-color);\n",
              "    box-shadow: 0 1px 2px rgba(60, 64, 67, 0.3), 0 1px 3px 1px rgba(60, 64, 67, 0.15);\n",
              "    fill: var(--button-hover-fill-color);\n",
              "  }\n",
              "\n",
              "  .colab-df-quickchart-complete:disabled,\n",
              "  .colab-df-quickchart-complete:disabled:hover {\n",
              "    background-color: var(--disabled-bg-color);\n",
              "    fill: var(--disabled-fill-color);\n",
              "    box-shadow: none;\n",
              "  }\n",
              "\n",
              "  .colab-df-spinner {\n",
              "    border: 2px solid var(--fill-color);\n",
              "    border-color: transparent;\n",
              "    border-bottom-color: var(--fill-color);\n",
              "    animation:\n",
              "      spin 1s steps(1) infinite;\n",
              "  }\n",
              "\n",
              "  @keyframes spin {\n",
              "    0% {\n",
              "      border-color: transparent;\n",
              "      border-bottom-color: var(--fill-color);\n",
              "      border-left-color: var(--fill-color);\n",
              "    }\n",
              "    20% {\n",
              "      border-color: transparent;\n",
              "      border-left-color: var(--fill-color);\n",
              "      border-top-color: var(--fill-color);\n",
              "    }\n",
              "    30% {\n",
              "      border-color: transparent;\n",
              "      border-left-color: var(--fill-color);\n",
              "      border-top-color: var(--fill-color);\n",
              "      border-right-color: var(--fill-color);\n",
              "    }\n",
              "    40% {\n",
              "      border-color: transparent;\n",
              "      border-right-color: var(--fill-color);\n",
              "      border-top-color: var(--fill-color);\n",
              "    }\n",
              "    60% {\n",
              "      border-color: transparent;\n",
              "      border-right-color: var(--fill-color);\n",
              "    }\n",
              "    80% {\n",
              "      border-color: transparent;\n",
              "      border-right-color: var(--fill-color);\n",
              "      border-bottom-color: var(--fill-color);\n",
              "    }\n",
              "    90% {\n",
              "      border-color: transparent;\n",
              "      border-bottom-color: var(--fill-color);\n",
              "    }\n",
              "  }\n",
              "</style>\n",
              "\n",
              "  <script>\n",
              "    async function quickchart(key) {\n",
              "      const quickchartButtonEl =\n",
              "        document.querySelector('#' + key + ' button');\n",
              "      quickchartButtonEl.disabled = true;  // To prevent multiple clicks.\n",
              "      quickchartButtonEl.classList.add('colab-df-spinner');\n",
              "      try {\n",
              "        const charts = await google.colab.kernel.invokeFunction(\n",
              "            'suggestCharts', [key], {});\n",
              "      } catch (error) {\n",
              "        console.error('Error during call to suggestCharts:', error);\n",
              "      }\n",
              "      quickchartButtonEl.classList.remove('colab-df-spinner');\n",
              "      quickchartButtonEl.classList.add('colab-df-quickchart-complete');\n",
              "    }\n",
              "    (() => {\n",
              "      let quickchartButtonEl =\n",
              "        document.querySelector('#df-2b236ee1-6d7b-48f4-9320-0642658b7165 button');\n",
              "      quickchartButtonEl.style.display =\n",
              "        google.colab.kernel.accessAllowed ? 'block' : 'none';\n",
              "    })();\n",
              "  </script>\n",
              "</div>\n",
              "\n",
              "    </div>\n",
              "  </div>\n"
            ],
            "application/vnd.google.colaboratory.intrinsic+json": {
              "type": "dataframe",
              "variable_name": "df",
              "summary": "{\n  \"name\": \"df\",\n  \"rows\": 1000,\n  \"fields\": [\n    {\n      \"column\": \"Reviews\",\n      \"properties\": {\n        \"dtype\": \"string\",\n        \"num_unique_values\": 987,\n        \"samples\": [\n          \"Also its slim enough to fit into my alarm clock docking station without removing the case\",\n          \"Voice recognition is tremendous\",\n          \"I would have given no star if I was able\"\n        ],\n        \"semantic_type\": \"\",\n        \"description\": \"\"\n      }\n    },\n    {\n      \"column\": \"Labels\",\n      \"properties\": {\n        \"dtype\": \"number\",\n        \"std\": 0,\n        \"min\": 0,\n        \"max\": 1,\n        \"num_unique_values\": 2,\n        \"samples\": [\n          1,\n          0\n        ],\n        \"semantic_type\": \"\",\n        \"description\": \"\"\n      }\n    }\n  ]\n}"
            }
          },
          "metadata": {},
          "execution_count": 6
        }
      ]
    },
    {
      "cell_type": "markdown",
      "source": [
        "**4. Create a variable containing the vocabulary of the entire set of reviews.**"
      ],
      "metadata": {
        "id": "PhL2JUJ9ptYa"
      }
    },
    {
      "cell_type": "code",
      "source": [
        "vocabulary = set()\n",
        "for review in df['Reviews']:\n",
        "  for word in review.split():\n",
        "    vocabulary.add(word)\n",
        "\n",
        "# Convert the set to a list for easier handling.\n",
        "vocabulary = list(vocabulary)\n",
        "print(vocabulary)"
      ],
      "metadata": {
        "colab": {
          "base_uri": "https://localhost:8080/"
        },
        "id": "27iGazxxqGvn",
        "outputId": "7d227d39-588a-4065-ff90-176b4ab9c811"
      },
      "execution_count": 7,
      "outputs": [
        {
          "output_type": "stream",
          "name": "stdout",
          "text": [
            "['L7c', 'down', 'cables', 'WHAT', 'flush', 'meThe', 'Dissapointing', 'waterproof', 'buds', 'conversations', 'flash', 'user', 'Bought', 'Fire', 'Having', 'irda', 'defective', 'One', 'Windows', 'cheap', 'worth', 'recommended', 'tooth', 'exchange', 'sturdiness', 'we', 'v115g', 'improve', 'Clear', 'intended', 'prime', 'function', 'loudspeaker', 'ringtones', 'Price', 'additional', 'Sanyo', 'Calls', 'poor', 'if', 'bit', 'psyched', 'accessing', 'Leopard', 'only', 'couldnt', 'coverage', 'tick', 'autoanswer', 'support', 'Surefire', 'was', 'called', 'rated', 'new', 'issues', 'drains', 'wit', 'type', 'products', 'H500', 'practice', 'sent', 'theory', 'living', 'chargers', 'barely', 'wife', 'Freezes', 'suddenly', 'nicely', 'car', 'allow', 'hearing', 'places', 'outgoing', 'This', 'frequently4', '6', 'outperform', 'mark', 'product', 'respect', 'REALLY', 'house', 'DROPPED', 'ringing', 'numerous', 'seconds', 'backlight', 'Finally', 'Performance', 'side', 'everyone', 'tool', 'tips', 'each', '700w', 'friends', 'would', 'confusing', 'equipment', 'commercials', 'outside', 'dozen', 'Steer', 'wired', 'wooden', 'atleast', 'match', 'device', 'boost', 'performing', 'whether', 'text', 'Sound', 'edge', 'portraits', 'doing', 'securely', 'reception', 'needed', 'find', 'flip', 'hour', 'three', 'black', 'knows', 'rate', 'useful', 'seeen', 'by', 'Performed', 'option', 'modest', 'weak', 'Thanks', 'next', 'really', 'falling', 'replacementr', 'opens', 'earlier', 'wobbly', 'shiny', 'kept', 'Choice', 'carriers', 'cancelling', 'longer', 'ad', 'when', 'quit', 'Happy', 'practical', 'Disappointed', 'styles', 'size', 'slide', 'Kindle', 'counter', 'loose', 'distracting', 'through', 'Cingular', 'BT50', 'hand', 'year', 'wireless', 'DISAPPOINTED', 'discarded', 'Love', 'SCHr450', 'player', 'able', 'my', 'back', 'average', 'simply', 'CDs', 'NOTHINGI', 'No', 'disappoint', 'infra', 'fun', 'waiting', 'wild', 'nicer', 'echo', 'reverse', 'party', 'giving', 'answer', 'Because', 'recommend', 'cost', 'not', 'over', 'receptionA', 'Perhaps', 'perfectly', 'apartment', 'UGLY', 'Moto', 'sensitive', 'highest', 'camera', 'inexcusable', 'learned', 'NOT', 'sleek', 'destroying', 'bought', 'Excelent', 'If', 'cradles', 'incredible', 'downloading', 'bose', 'headsets', 'Earset', 'listener', 'photo', 'internetto', 'hundred', 'jawbone', 'CALLS', 'within', 'recognizes', 'nano', 'complained', 'usable', 'holding', 'much', 'bed', 'wrongFirst', 'ordered', 'service', 'hours', 'CA42', 'row', 'contacts', 'end', 'colors', 'TWO', 'hoursTHe', 'rocks', 'Nice', 'Reliability', 'other', 'covered', 'into', 'prompt', 'latest', 'thru', 'cover', 'ride', 'accessory', 'Asia', 'break', 'searched', 'Truly', 'job', 'disconnected', 'ears', 'unknown', 'tricky', 'lock', 'exactly', 'essentially', 'mistake', 'classy', 'Uncomfortable', 'Battery', 'earphones', 'WE', 'booking', 'linking', 'Needless', 'capacity', 'Era', 'a', 'EnV', 'get', 'reason', 'SPINN', 'performance', 'Much', 'continue', 'sketchy', 'note', 'soon', 'their', 'week', 'wish', 'outlet', 'Motorola', 'PHONES', 'buyers', 'believe', 'fantastic', 'will', 'however', 'and', 'place', 'reading', 'WITH', 'near', 'calendar', 'New', 'browser', 'unlike', 'frustration', 'discount', 'crisp', 'DO', 'let', 'colleague', 'investment', 'maintain', 'didnt', 'horrible', 'luck', 'swivel', 'from', 'shield', 'wasted', 'O', 'ended', 'TERRIBLE', 'Verizon', 'Other', 'appears', 'peeling', 'An', 'machine', 'garbled', 'hear', 'Mobile', 'description', 'complaints', 'Easy', 'series', 'Ive', 'anyway', 'be3', '5year', 'again', 'after', 'Tied', 'potentially', 'touches', 'years', 'Reversible', 'loud', 'Walkman', 'been', 'hoped', 'dualpurpose', 'might', 'Cell', 'inform', 'wall', 'somewhere', 'refund', 'cool', 'tracfonewebsite', 'Curve', 'Droid', 'monkeys', 'rubberpetroleum', 'hook', 'significantly', 'steep', 'z500a', 'four', 'headset', 'comes', 'Now', 'via', 'Unfortunately', 'packaged', 'things', 'Buy', 'cents', 'recessed', 'destination', 'try', 'longwearing', 'possibility', 'letting', 'between', 'mainly', 'trunk', 'abovePRETTY', 'max', 'multiple', 'slowly', 'caused', 'encourage', 'lense', 'sitting', 'know', 'drawback', 'Provides', 'Razr', 'lightweight', 'file', 'up', 'blew', 'When', 'minutesMAJOR', 'Tools', 'Superb', 'heavyit', 'out', 'SWEETEST', 'strap', 'landline', 'in', 'pairing', 'Talk', 'functionality', 'Then', 'looking', 'earpieces', 'protection', 'Rip', '24', 'Another', 'clear', '18', 'Amazon', 'port', 'Research', 'can', 'provided', '13', 'liked', 'sins', 'sides', 'Sending', 'VERIZON', 'attractive', 'storage', 'contstruct', 'isnt', 'Voice', 'red', 'glued', 'highly', 'whine', 'SATISFIED', 'Purchase', 'tell', 'Tmobile', 'Blackberry', 'joy', 'expect', 'THAT', 'shooters', 'buttons', 'procedure', 'excellent', 'Could', 'DNA', 'phonesmp3', 'store', 'At', 'bluetooths', 'lose', 'While', 'tried', 'Perfect', 'During', 'Warning', 'ActiveSync', 'the', 'lg', 'easy', 'comparablypriced', 'SOS', 'your', 'make', 'competitors', 'earpad', 'sure', 'few', '7', 'balance', 'Seller', 'Ant', 'Help', 'ProsGood', 'Too', 'far', 'technology', 'understand', 'right', 'nightmare', 'usefulness', 'lightly', 'kits', 'Los', 'mentioned', 'worst', 'assumed', 'Phone', 'incredibly', 'promptly', 'sony', 'holds', 'pause', 'does', 'toactivate', 'periodically', 'USELESS', 'mode', 'key', 'program', 'compete', 'keys', 'smoothly', 'telephone', 'Awesome', 'stays', 'games', 'fulfills', 'sturdy', 'likes', 'Same', 'keeps', 'sorry', 'wellit', 'immediately', 'whatsoever', 'Protects', 'anyone', 'toneOverall', 'More', 'important', 'Palms', 'beware', 'pitiful', 'careful', 'glove', 'wifes', 'conditions', 'Highly', 'many', 'Theres', 'SUPERB', 'unhappy', 'embarrassing', 'jabra', 'protector', 'smallest', 'turned', 'Definitely', 'seat', 'fairly', 'gotten', 'You', 'normal', 'THE', 'shipped', 'interface', 'PDA', 'being', 'High', 'what', 'figure', 'finds', 'Timely', 'Pretty', 'geeky', 'trying', 'crap', 'stereo', 'China', 'starI', 'some', 'images', 'pants', '4s', 'V265', 'Lasted', 'Picture', 'difficult', 'web', 'slow', 'provide', 'Any', 'Microsofts', 'shipping', 'BROKE', 'weird', 'beThe', 'thumbs', 'voltage', 'Crisp', 'order', 'line', 'return', 'Its', 'tiny', 'looses', 'THIS', 'THey', 'anything', 'time', 'effects', 'zero', 'Always', 'color', 'Echo', 'graphics', 'walked', 'died', 'happens', 'owning', 'thereplacement', 'offering', 'Plantronincs', 'download', 'worked', 'PURCHASE', 'Plug', '11', 'website', 'pens', 'exterior', 'Disappointing', 'high', 'Horrible', 'OEM', 'Unreliable', 'iphone', 'everything', 'Doesnt', 'It', 'Hands', 'killer', 'breaks', 'disposable', 'division', 'area', 'complain', 'engineered', 'interested', 'flaws', 'Does', 'Kind', 'notice', 'explain', 'reccommend', 'used', 'batteries', 'share', 'delay', 'youd', 'stress', 'accompanied', 'loved', 'hype', 'freedom', 'Not', 'antiglare', 'holder', 'window', 'returning', 'spring', 'armband', 'freeway', 'bucks', 'Fits', 'Careful', 'Car', 'TV', 'wellWell', 'prevents', 'Boy', 'now', 'Low', 'money', 'cut', 'arrival', 'that', 'BUY', 'Item', 'Long', 'top', 'such', 'cancellation', 'hold', 'add', 'Reaching', 'rests', 'than', 'give', 'memory', 'All', 'transmission', 'makes', 'Muddy', '5of', 'power', 'received', 'pleased', 'leaks', 'wires', 'music', 'against', 'Dont', 'times', 'Pocket', 'mail', 'upload', 'display', 'enjoy', 'Do', 'friendly', 'JX10', 'Premium', 'accept', 'jack', 'reccomendation', 'lit', 'different', 'AMAZON', 'BUYIT', 'upstairs', 'entire', 'still', 'mother', 'review', 'complaint', 'disappointed', 'Range', 'causing', 'priced', 'charging', 'tracking', 'DISAPPOINTING', 'Was', 'US', 'Terrible', 'where', 'charge', 'screens', 'leaf', 'adorable', 'Waiting', 'delivery', 'commuter', 'Essentially', 'bargain', 'see', 'light', 'shots', '45', 'cat', 'unbearable', 'pictures', 'avoid', 'grey', 'Worth', 'rating', '8125', 'plastic', 'bars', 'satisifed', 'bells', 'acceptable', '325', 'said', 'since', 'Verizons', 'They', 'hybrid', 'followed', 'IR', 'dieing', 'background', 'effect', 'VERY', 'he', 'thin', 'BT', 'which', 'morning', '20', 'control', 'EarGels', 'mic', 'connect', 'pushed', 'failed', 'Wirefly', 'AWESOME', 'incoming', 'our', 'bother', 'im', 'open', 'A', 'replace', 'hard', 'inches', 'audio', 'cheaper', 'sometimes', 'previous', 'ends', 'these', 'megapixels', 'cuts', 'pay', 'Works', 'Better', 'then', 'periods', 'Ngage', 'laptop', 'drop', 'plan', 'loves', 'span', 'seen', 'VX', 'rather', 'arrived', 'runs', 'construction', 'pockets', 'day', 'posted', 'carries', 'drain', 'well', 'stops', 'charm', 'conversation', 'WARNING', 'cutouts', 'warranty', 'beat', 'for', 'activate', 'effort', 'weight', 'although', 'copier', 'Lately', 'costs', 'so', 'decade', 'pleather', 'Than', 'BT250v', 'lot', 'Utter', 'decent', 'Junk', 'loudGlad', 'controls', 'pixel', 'laughing', 'attacked', 'BE', 'this', 'winner', 'until', 'pocket', 'Ear', 'styling', 'mess', 'PIECE', '510', 'Improper', 'adhesive', 'Due', 'reasonable', 'alarm', 'could', 'Samsung', 'iPhone', 'others', 'here', 'she', 'addition', 'riingtones', 'operate', 'aspect', 'talk', 'better', 'excited', 'Poor', 'Dropped', 'capability', 'saying', 'refuse', 'purpose', 'Using', 'starter', 'Logitech', 'protective', 'network', 'its', 'wont', 'cute', 'belt', 'very', 'Tracfone', 'yet', 'expected', '350', 'left', 'Free', 'possesed', 'Match', 'Overall', 'Over', 'eventually', 'gave', 'most', 'My', 'helpful', 'lights', 'Buttons', 'value', 'do', 'lacking', 'pull', 'sight', 'EASY', 'pain', 'sizes', 'cheapy', 'FOREVER', 'Pros', 'bitpim', 'double', 'ericson', 'amazed', 'waste', 'faceplates', 'hoping', 'tight', 'Big', 'worthless', 'gets', 'hat', 'driving', 'copy', 'impossible', 'protected', 'sex', 'Time', 'communications', 'buzzing', 'face', 'speaker', 'plugged', 'one', 'easily', 'amp', 'phoneThe', 'maintains', 'plans', 'people', 'crappy', 'mechanism', 'fails', 'Saggy', 'dit', 'EVER', 'INCLUDED', 'enough', 'Plan', 'take', 'almost', 'who', 'phone', 'AC', 'websites', 'canal', 'refused', 'lost', 'receiving', 'same', 'aluminum', 'cheaply', 'plays', 'mostly', 'wasting', 'How', 'pics', 'big', 'Cant', 'relatively', 'purcashed', 'literally', 'Gets', 'shine', 'Would', 'come', 'mind', 'ability', 'solid', 'gosh', 'PC', 'realize', 'unacceptable', 'Im', 'took', 'Earpiece', 'offers', 'feet', '8525', '2160', 'basically', 'Just', 'official', 'ticking', 'dissapointed', 'confortable', 'Keep', 'think', 'Light', 'visor', 'dropping', 'For', 'imagine', 'loudest', 'However', 'motor', 'rocketed', 'told', 'little', 'compared', 'Comfort', 'you', 'etc', 'stated', 'thing', 'pricing', 'at', 'especially', 'tape', 'picture', 'generally', 'Everything', 'NO', 'unit', 'grtting', 'quite', 'Sprint', '2', 'owned', 'clearly', 'with', 'Returned', 'choices', 'iPod', 'seem', 'transmit', 'had', 'super', 'wasnt', '5020', 'white', 'fixes', 'flipphones', 'address', 'recently', 'home', 'receptionsound', 'keypad', 'nothing', 'USB', 'center', 'without', 'wise', 'flawless', 'cannot', 'Counterfeit', 'RETURNED', 'Look', 'Case', 'whistles', 'certainly', 'practically', 'And', 'AccessoryOne', 'Strength', 'StarTac', 'mins', 'handset', 'Beautiful', 'amazing', 'Motorolas', 'original', 'weeks', 'charges', 'accessable', 'stupid', 'sunglasses', 'us', 'Display', 'managementOh', 'brokenI', 'excrutiatingly', 'lesson', 'Soyo', 'instructions', 'Well', 'is', 'stuck', 'compromise', 'quiet', 'care', 'restart', 'upbeat', 'just', 'Nokia', 'units', 'lap', 'scratch', 'cumbersome', 'ripped', 'basic', 'stopped', 'signals', 'fee', 'smudged', 'too', 'R', 'point', 'Forgeries', 'problems', 'worthwhile', 'messages', 'Network', 'Thats', 'or', 'advise', 'before', 'Flaw', 'biggest', 'bluetoooth', 'fry', 'reoccureBottom', 'Incredible', 'flops', 'appealing', 'problem', 'turns', 'appointments', 'course', 'bumpers', 'Items', 'deffinitely', 'activated', 'WORST', 'full', 'nice', '2005', 'auto', 'noises', 'choice', 'navigate', 'AWFUL', '23', 'computer', 'MY', 'Headset', 'incrediable', 'holster', 'large', 'Value', 'whole', 'bluetoothMotorola', 'receipt', 'online', 'Player', 'yell', 'simple', 'free', 'phoneMy', 'itMy', 'included', 'wornout', 'Jabra', 'two', 'phones2', 'an', 'wanted', 'VX9900', 'falls', 'Awsome', 'manufacturer', 'self', 'Howeverthe', 'cell', 'while', 'feels', 'definitly', 'good7', 'simpler', 'junk', 'glasses', 'Quality', 'bills', 'Small', 'iMac', 'quickly', 'wonder', 'FM', 'expensive', 'But', 'Linked', 'sounded', 'forget', 'Tungsten', 'using', 'reach', 'ear', 'Texas', 'making', 'message', 'toast', 'screenThis', 'ringer', 'antena', 'detachable', 'gadget', 'earbuds', 'wake', 'touch', 'BEING', 'wear', 'least', 'book', 'channel', 'deal', 'fourth', '42', 'insert', 'hit', 'Treo', 'video', 'flawlessly', 'drained', 'sudden', 'waaay', 'vehicle', 'embedded', 'guess', 'fine', 'best', 'Razor', 'standard', 'broke', 'quick', 'DEAD', 'need', 'eye', 'particular', 'ON', 'Stay', 'industrial', 'works', 'Five', 'clearer', 'passed', 'None', 'Beware', 'Linksys', 'yearsGreat', 'entertainment', 'update', 'definitely', 'After', '12', 'crashed', 'trash', 'every', 'have', 'finally', 'wifi', 'Fall', 'Exactly', 'ago', 'properly', 'reviews', 'Fantastic', '1', 'beats', 'Chinese', 'either', 'Bad', 'despite', 'transceiver', 'life', 'Authentic', 'seamlessly', 'ATT', 'D807', 'Awkward', 'rest', 'oozes', 'locked', 'another', 'bubbling', 'father', 'charged', 'Red', 'unacceptible', 'save', 'ITS', 'majority', 'unsatisfactory', 'handy', 'sucked', 'son', 'completely', 'Far', 'negatively', 'SPEAKERPHONE', 'calls', 'V325i', 'unusable', 'dying', 'number', 'material', 'REAL', 'bend', 'doesnt', 'faster', 'Angeles', 'recharge', 'options', 'effective', 'means', 'today', 'louder', 'restocking', 'continues', 'range', 'mention', 'devices', 'alone', 'cable', 'resolution', 'terrible', 'cases', 'bulky', 'charger', 'strong', 'songs', 'applifies', 'CBR', 'unless', 'together', 'loop', 'preferably', 'Also', 'bottowm', 'great', 'old', 'says', 'plenty', 'wood', 'locks', 'HS850', 'threepack', 'Metro', 'usage', 'actually', 'fliptop', 'needsHandsfree', 'even', 'V3i', 'deaf', 'company', 'slipping', 'humming', 'tremendous', 'hate', 'long', 'That', 'Otherwise', 'clipping', 'directly', 'cassette', 'wallet', 'Ill', 'toilet', 'greater', 'Print', 'W810i', 'part', 'appearance', 'Those', 'of', 'love', 'stars', 'may', 'seperated', 'away', 'shipment', 'Customer', 'snug', 'wouldnt', 'roles', 'Plus', 'microphone', 'breakage', 'keypads', 'oneThis', 'AFTER', '3o', 'more', 'defect', 'messes', 'clicks', 'roam', 'apparently', '8530', 'Worst', 'scary', 'made', 'directions', 'huge', '15', 'overnite', 'slim', 'Product', 'fingers', 'low', 'frequentyly', 'creaks', 'sliding', 'Device', 'docking', 'crack', 'pair', 'purchasing', 'exclaim', 'E2', 'wearing', 'Trying', 'Simple', 'HOT', 'instance', 'Palm', 'Plantronics', 'Restored', 'whatever', 'E715', 'purchase', 'headphones', 'casing', 'results', 'childlike', 'brand', 'sync', 'invented', 'functional', 'flaw', 'to', 'features', 'done', 'data', 'SERVICE', 'Yet', 'SUCKS', 'PCS', 'those', 'mega', 'specially', 'overall', 'exchanged', 'they', 'noted', 'samsungcrap', 'prettier', 'hands', 'slid', 'favorite', '375', 'onlyI', 'slider', 'probably', 'Were', 'show', 'abhor', 'inconspicuous', 'something', 'getting', 'installed', 'scratched', 'piece', 'BEST', 'static', 'replacement', 'Lots', 'WOW', 'during', 'V3c', 'Earbud', 'carried', 'PS3', 'happened', 'originally', 'shouldve', 'dirty', 'odd', 'promised', 'changing', 'Defective', 'earpiece', 'station', 'clarity', 'bottom', 'Media', 'Displeased', 'current', 'experience', 'AGGRAVATING', 'placed', 'MOTO', 'expectations', 'Worked', 'specs', 'Still', 'somewhat', 'replaceEasy', 'patient', 'Disapointing', 'were', 'clever', 'onId', 'gadgets', 'wonderfully', 'thats', 'durable', '100', 'secure', 'look', 'BuyerBe', 'trouble', 'timeframe', 'earphone', 'unacceptableUnless', 'Poorly', 'Really', 'RAZR', 'loads', 'cellphone', 'Buyer', 'disappointment', 'ill', 'carry', 'them', 'switch', 'Europe', 'sister', 'price', 'Only', 'Jawbone', 'Signal', 'chargelife', 'breaking', 'planning', 'Krussel', 'Portable', 'drops', 'angle', 'working', 'fraction', 'damage', 'AFter', 'lasting', 'saved', 'There', 'randomly', 'like', 'People', 'players', 'ARGUING', 'got', 'SIM', 'Obviously', 'Life', 'mediocre', 'clock', 'month', 'recognition', 'We', 'Absolutely', 'rebootsOverall', 'own', 'easier', 'contact', 'strange', 'be', 'consumer', 'shouldnt', 'Their', 'These', 'Sounds', 'described', 'lineanother', 'but', 'juiceHighy', 'Very', 'Comfortable', 'Youll', 'seems', 'below', 'So', 'impressed', 'soft', 'funny', 'noticed', 'directed', '2MP', 'idea', 'purchases', 'GX2', 'comfortible', 'wind', 'flimsy', 'Avoid', 'model', 'stay', 'put', 'genuine', 'owneryou', 'shouting', 'orders', 'mere', 'ft', 'QWERTY', 'peachykeen', 'Absolutel', 'constructed', 'beautiful', 'clips', 'looks', 'fits', 'minute', 'there', 'remorse', 'He', 'short', 'should', 'ergonomic', 'exceptional', 'occupied', 'dialing', 'around', 'forever', 'requirements', 'neat', 'neither', 'satisfied', 'contract', 'awesome', 'connection', 'BMW', 'Christmas', 'drivng', 'smoother', 'renders', 'overnight', 'miniUSB', 'manual', 'takes', 'cellphones', 'Problem', 'cant', 'totally', 'allowing', 'greatno', 'BlueAnt', 'realworld', 'buy', 'bar', 'blacktop', 'mp3s', 'elsewhere', 'LOT', 'no', 'run', 'ARE', 'contacting', 'disapoinment', 'dustpan', 'none', 'finished', 'currently', 'distorted', 'compliments', 'S710a', 'sold', 'managed', 'optimal', 'small', 'absolutely', 'transformed', 'sensor', 'built', 'combination', 'crawl', 'last', 'Wireless', 'DAYS', 'comfortable', 'correctly', 'customer', 'Comes', 'Cumbersome', 'alot', 'Blue', 'shape', 'certain', 'FOOLED', 'situations1', 'CingularATT', 'read', 'sharp', 'stuff', 'superfast', 'pleasantly', 'electronics', 'bad', 'extremely', 'Mic', 'OK', 'strip', 'software', 'tech', 'connected', 'instruction', 'say', 'card', 'both', 'available', 'checked', 'decision', '2000', 'felt', 'purchased', 'comfortably', 'Think', 'poorly', 'replaced', '50', 'EXCELLENT', 'somehow', 'trust', 'amazon', 'never', 'leather', 'earbugs', 'according', 'Q', 'WELL', 'IM', 'reasonably', 'pretty', 'Basically', 'happening', 'clip', 'severe', 'frog', 'noise', 'catching', 'cingular', 'ordering', 'palmtopcameracellphone', 'package', 'wiping', 'star', 'convenient', 'supposedly', 'flawed', 'tones', 'avoiding', 'WANTED', 'HATED', 'reset', 'Results', 'found', 'theres', 'experienced', 'videos', 'inexpensive', 'feature', 'mine', 'because', 'on', 'impressive', 'given', 'survived', 'send', 'OS', 'going', 'sending', 'PROBLEMS', 'ease', 'describe', 'about', 'sounds', 'fast', 'iriver', 'beeping', 'iGo', 'welldesigned', 'seemed', 'Painful', 'gonna', 'suprised', 'rare', 'fit', 'refurb', 'stop', 'accidentally', 'please', 'Waste', 'upandcoming', 'talking', 'exercise', 'thorn', 'smartphone', 'nearly', '10', 'verizon', 'ring', 'As', 'Adapter', 'OF', 's', 'glad', 'contacted', 'girl', 'What', 'above', 'market', 'EVERYONE', 'Bluetooth', 'setting', 'muffled', 'brilliant', 'volume', 'mobile', 'disappointing', 'Audio', 'hair', 'dont', 'feel', 'smell', 'later', 'discomfort', 'nokia', 'stand', 'produce', 'thought', 'button', 'havent', 'Down', 'metal', 'has', 'voice', 'under', 'good4', 'person', 'all', 'enter', 'indoors', 'first', 'Who', 'total', 'also', 'smoke', 'removing', 'Oh', 'connecting', 'coupon', 'word', 'ones', 'though', 'Construction', 'extended', '680', 'goesThe', 'excels', 'overly', 'everyday', 'loops', 'access', 'seller', 'Good', 'Reception', 'ready', 'fall', 'Thank', 'uncomfortable', 'override', 'grip', 'cingulair', 'hitch', 'Ericsson', 'communicate', 'WHITE', 'setup', 'REGARDING', 'upgrade', 'Yes', 'regret', 'gentletouch', 'hurt', 'Save', 'everywhere', 'off', 'phoneBattery', 'keep', 'converter', 'floor', 'shifting', 'kitchen', 'stream', 'defeats', 'Cheap', 'The', 'missed', 'Used', 'Skype', '8', 'magnetic', 'detailed', 'Hoping', 'couple', 'communication', 'fabulous', 'as', 'call', 'tinny', 'how', 'internet', 'bland', 'buying', 'form', 'motorola', 'I', 'Service', 'Excellent', 'snap', 'jiggle', 'must', 'misleading', 'wrong', 'turn', 'behing', 'went', 'JERKS', 'browsing', 'Id', 'factor', 'happy', 'started', 'knock', 'go', 'threw', 'external', 'coming', 'darn', '5', 'Setup', 'me', 'except', 'tryThe', 'awful', 'did', 'front', 'listening', 'NYC', 'handsfree', 'way', 'Disappointment', 'starts', 'D807wrongly', 'elegant', 'dollar', 'Supertooth', 'Whoa', 'gimmick', 'risk', 'Made', 'menus', 'theyre', 'cellular', 'Virgin', 'fact', 'Away', 'Appears', 'several', 'TMobile', 'comfort', 'functions', 'play', 'Transmitters', 'useless', 'seriously', 'ideal', 'windresistant', 'forgot', 'stylish', 'moving', 'keeping', 'item', 'else', 'improvement', 'screen', 'state', 'advertised', 'crackedI', 'CRAP', 'study', 'regarding', 'Will', 'synchronization', 'treo', 'source', 'First', 'securly', 'travled', 'instead', 'unreliable', 'are', 'minutes', 'Piece', 'anywhere', 'battery', 'MP3', 'dead', 'soundwise', 'cradle', 'any', 'dropped', 'ask', 'usually', 'plus', 'hardly', '3', 'mute', 'Ever', 'excessive', 'messaging', 'dozens', 'happier', 'boot', 'months', 'penny', 'concrete', 'keyboard', 'relative', 'latch', 'floppy', 'humans', 'fond', 'use', 'sources', 'iPODs', 'Magical', 'room', 'JUNK', 'Please', 'perhaps', 'Development', 'infatuated', 'Looks', 'constantly', 'speed', 'always', 'days', 'pad', 'Sony', 'embarassing', 'ProblemVery', 'eargels', 'Great', 'headbands', 'bluetooth', 'sooner', 'work', 'Iam', 'skip', 'designs', 'understanding', 'transfer', 'Makes', 'fully', 'paired', 'hey', 'i', 'infuriating', 'extra', 'increase', 'real', 'bougth', 'signs', 'garbage', 'tries', 'night', 'Never', 'corded', 'sucks', 'LG', 'comments', 'apart', 'obviously', 'recieve', 'plug', 'gels', 'Integrated', 'signal', 'design', 'whose', 'ie', 'Even', 'From', 'procedures', 'inside', 'Internet', 'rotating', 'smoking', 'push', 'regretted', 'allot', 'came', 'existing', 'check', 'colored', 'submerged', 'sound', 'surprised', 'ever', 'unintelligible', 'Att', 'basement', 'goes', 'exceeds', 'Arrived', 'Work', 'organizational', 'broken', 'firstperson', 'handheld', 'plugs', 'joke', 'good', 'allows', 'receive', 'third', 'case', 'numbers', 'build', 'Someone', 'disgusting', 'pads', 'shows', 'Design', 'haul', 'EXTREMELY', 'Lousy', 'adapters', '5320', 'along', 'install', 'blue', 'Jabra350', 'once', 'Has', 'utterly', 'phones', 'less', 'intermittently', 'Last', 'Best', 'am', 'it', 'FOR', 'date', 'family', 'having', 'ample', 'set', 'forced', 'WORTHWHILE', 'PHONE', 'beep', 'NOKIA', 'kind', '744', 'S11', 'hinge', 'want', 'In', 'Couldnt', 'puff', 'operates', 'normally', 'Abound', 'earbud', 'quality', 'lasts']\n"
          ]
        }
      ]
    },
    {
      "cell_type": "code",
      "source": [
        "new_vocabulary = []\n",
        "for word in vocabulary:\n",
        "  if not word.isdigit():\n",
        "    new_vocabulary.append(word)\n",
        "\n",
        "print(new_vocabulary)"
      ],
      "metadata": {
        "colab": {
          "base_uri": "https://localhost:8080/"
        },
        "id": "UGWC1Xr0qUAm",
        "outputId": "30fc1245-6d5a-4bde-a7a5-4a68dd262b55"
      },
      "execution_count": 8,
      "outputs": [
        {
          "output_type": "stream",
          "name": "stdout",
          "text": [
            "['L7c', 'down', 'cables', 'WHAT', 'flush', 'meThe', 'Dissapointing', 'waterproof', 'buds', 'conversations', 'flash', 'user', 'Bought', 'Fire', 'Having', 'irda', 'defective', 'One', 'Windows', 'cheap', 'worth', 'recommended', 'tooth', 'exchange', 'sturdiness', 'we', 'v115g', 'improve', 'Clear', 'intended', 'prime', 'function', 'loudspeaker', 'ringtones', 'Price', 'additional', 'Sanyo', 'Calls', 'poor', 'if', 'bit', 'psyched', 'accessing', 'Leopard', 'only', 'couldnt', 'coverage', 'tick', 'autoanswer', 'support', 'Surefire', 'was', 'called', 'rated', 'new', 'issues', 'drains', 'wit', 'type', 'products', 'H500', 'practice', 'sent', 'theory', 'living', 'chargers', 'barely', 'wife', 'Freezes', 'suddenly', 'nicely', 'car', 'allow', 'hearing', 'places', 'outgoing', 'This', 'frequently4', 'outperform', 'mark', 'product', 'respect', 'REALLY', 'house', 'DROPPED', 'ringing', 'numerous', 'seconds', 'backlight', 'Finally', 'Performance', 'side', 'everyone', 'tool', 'tips', 'each', '700w', 'friends', 'would', 'confusing', 'equipment', 'commercials', 'outside', 'dozen', 'Steer', 'wired', 'wooden', 'atleast', 'match', 'device', 'boost', 'performing', 'whether', 'text', 'Sound', 'edge', 'portraits', 'doing', 'securely', 'reception', 'needed', 'find', 'flip', 'hour', 'three', 'black', 'knows', 'rate', 'useful', 'seeen', 'by', 'Performed', 'option', 'modest', 'weak', 'Thanks', 'next', 'really', 'falling', 'replacementr', 'opens', 'earlier', 'wobbly', 'shiny', 'kept', 'Choice', 'carriers', 'cancelling', 'longer', 'ad', 'when', 'quit', 'Happy', 'practical', 'Disappointed', 'styles', 'size', 'slide', 'Kindle', 'counter', 'loose', 'distracting', 'through', 'Cingular', 'BT50', 'hand', 'year', 'wireless', 'DISAPPOINTED', 'discarded', 'Love', 'SCHr450', 'player', 'able', 'my', 'back', 'average', 'simply', 'CDs', 'NOTHINGI', 'No', 'disappoint', 'infra', 'fun', 'waiting', 'wild', 'nicer', 'echo', 'reverse', 'party', 'giving', 'answer', 'Because', 'recommend', 'cost', 'not', 'over', 'receptionA', 'Perhaps', 'perfectly', 'apartment', 'UGLY', 'Moto', 'sensitive', 'highest', 'camera', 'inexcusable', 'learned', 'NOT', 'sleek', 'destroying', 'bought', 'Excelent', 'If', 'cradles', 'incredible', 'downloading', 'bose', 'headsets', 'Earset', 'listener', 'photo', 'internetto', 'hundred', 'jawbone', 'CALLS', 'within', 'recognizes', 'nano', 'complained', 'usable', 'holding', 'much', 'bed', 'wrongFirst', 'ordered', 'service', 'hours', 'CA42', 'row', 'contacts', 'end', 'colors', 'TWO', 'hoursTHe', 'rocks', 'Nice', 'Reliability', 'other', 'covered', 'into', 'prompt', 'latest', 'thru', 'cover', 'ride', 'accessory', 'Asia', 'break', 'searched', 'Truly', 'job', 'disconnected', 'ears', 'unknown', 'tricky', 'lock', 'exactly', 'essentially', 'mistake', 'classy', 'Uncomfortable', 'Battery', 'earphones', 'WE', 'booking', 'linking', 'Needless', 'capacity', 'Era', 'a', 'EnV', 'get', 'reason', 'SPINN', 'performance', 'Much', 'continue', 'sketchy', 'note', 'soon', 'their', 'week', 'wish', 'outlet', 'Motorola', 'PHONES', 'buyers', 'believe', 'fantastic', 'will', 'however', 'and', 'place', 'reading', 'WITH', 'near', 'calendar', 'New', 'browser', 'unlike', 'frustration', 'discount', 'crisp', 'DO', 'let', 'colleague', 'investment', 'maintain', 'didnt', 'horrible', 'luck', 'swivel', 'from', 'shield', 'wasted', 'O', 'ended', 'TERRIBLE', 'Verizon', 'Other', 'appears', 'peeling', 'An', 'machine', 'garbled', 'hear', 'Mobile', 'description', 'complaints', 'Easy', 'series', 'Ive', 'anyway', 'be3', '5year', 'again', 'after', 'Tied', 'potentially', 'touches', 'years', 'Reversible', 'loud', 'Walkman', 'been', 'hoped', 'dualpurpose', 'might', 'Cell', 'inform', 'wall', 'somewhere', 'refund', 'cool', 'tracfonewebsite', 'Curve', 'Droid', 'monkeys', 'rubberpetroleum', 'hook', 'significantly', 'steep', 'z500a', 'four', 'headset', 'comes', 'Now', 'via', 'Unfortunately', 'packaged', 'things', 'Buy', 'cents', 'recessed', 'destination', 'try', 'longwearing', 'possibility', 'letting', 'between', 'mainly', 'trunk', 'abovePRETTY', 'max', 'multiple', 'slowly', 'caused', 'encourage', 'lense', 'sitting', 'know', 'drawback', 'Provides', 'Razr', 'lightweight', 'file', 'up', 'blew', 'When', 'minutesMAJOR', 'Tools', 'Superb', 'heavyit', 'out', 'SWEETEST', 'strap', 'landline', 'in', 'pairing', 'Talk', 'functionality', 'Then', 'looking', 'earpieces', 'protection', 'Rip', 'Another', 'clear', 'Amazon', 'port', 'Research', 'can', 'provided', 'liked', 'sins', 'sides', 'Sending', 'VERIZON', 'attractive', 'storage', 'contstruct', 'isnt', 'Voice', 'red', 'glued', 'highly', 'whine', 'SATISFIED', 'Purchase', 'tell', 'Tmobile', 'Blackberry', 'joy', 'expect', 'THAT', 'shooters', 'buttons', 'procedure', 'excellent', 'Could', 'DNA', 'phonesmp3', 'store', 'At', 'bluetooths', 'lose', 'While', 'tried', 'Perfect', 'During', 'Warning', 'ActiveSync', 'the', 'lg', 'easy', 'comparablypriced', 'SOS', 'your', 'make', 'competitors', 'earpad', 'sure', 'few', 'balance', 'Seller', 'Ant', 'Help', 'ProsGood', 'Too', 'far', 'technology', 'understand', 'right', 'nightmare', 'usefulness', 'lightly', 'kits', 'Los', 'mentioned', 'worst', 'assumed', 'Phone', 'incredibly', 'promptly', 'sony', 'holds', 'pause', 'does', 'toactivate', 'periodically', 'USELESS', 'mode', 'key', 'program', 'compete', 'keys', 'smoothly', 'telephone', 'Awesome', 'stays', 'games', 'fulfills', 'sturdy', 'likes', 'Same', 'keeps', 'sorry', 'wellit', 'immediately', 'whatsoever', 'Protects', 'anyone', 'toneOverall', 'More', 'important', 'Palms', 'beware', 'pitiful', 'careful', 'glove', 'wifes', 'conditions', 'Highly', 'many', 'Theres', 'SUPERB', 'unhappy', 'embarrassing', 'jabra', 'protector', 'smallest', 'turned', 'Definitely', 'seat', 'fairly', 'gotten', 'You', 'normal', 'THE', 'shipped', 'interface', 'PDA', 'being', 'High', 'what', 'figure', 'finds', 'Timely', 'Pretty', 'geeky', 'trying', 'crap', 'stereo', 'China', 'starI', 'some', 'images', 'pants', '4s', 'V265', 'Lasted', 'Picture', 'difficult', 'web', 'slow', 'provide', 'Any', 'Microsofts', 'shipping', 'BROKE', 'weird', 'beThe', 'thumbs', 'voltage', 'Crisp', 'order', 'line', 'return', 'Its', 'tiny', 'looses', 'THIS', 'THey', 'anything', 'time', 'effects', 'zero', 'Always', 'color', 'Echo', 'graphics', 'walked', 'died', 'happens', 'owning', 'thereplacement', 'offering', 'Plantronincs', 'download', 'worked', 'PURCHASE', 'Plug', 'website', 'pens', 'exterior', 'Disappointing', 'high', 'Horrible', 'OEM', 'Unreliable', 'iphone', 'everything', 'Doesnt', 'It', 'Hands', 'killer', 'breaks', 'disposable', 'division', 'area', 'complain', 'engineered', 'interested', 'flaws', 'Does', 'Kind', 'notice', 'explain', 'reccommend', 'used', 'batteries', 'share', 'delay', 'youd', 'stress', 'accompanied', 'loved', 'hype', 'freedom', 'Not', 'antiglare', 'holder', 'window', 'returning', 'spring', 'armband', 'freeway', 'bucks', 'Fits', 'Careful', 'Car', 'TV', 'wellWell', 'prevents', 'Boy', 'now', 'Low', 'money', 'cut', 'arrival', 'that', 'BUY', 'Item', 'Long', 'top', 'such', 'cancellation', 'hold', 'add', 'Reaching', 'rests', 'than', 'give', 'memory', 'All', 'transmission', 'makes', 'Muddy', '5of', 'power', 'received', 'pleased', 'leaks', 'wires', 'music', 'against', 'Dont', 'times', 'Pocket', 'mail', 'upload', 'display', 'enjoy', 'Do', 'friendly', 'JX10', 'Premium', 'accept', 'jack', 'reccomendation', 'lit', 'different', 'AMAZON', 'BUYIT', 'upstairs', 'entire', 'still', 'mother', 'review', 'complaint', 'disappointed', 'Range', 'causing', 'priced', 'charging', 'tracking', 'DISAPPOINTING', 'Was', 'US', 'Terrible', 'where', 'charge', 'screens', 'leaf', 'adorable', 'Waiting', 'delivery', 'commuter', 'Essentially', 'bargain', 'see', 'light', 'shots', 'cat', 'unbearable', 'pictures', 'avoid', 'grey', 'Worth', 'rating', 'plastic', 'bars', 'satisifed', 'bells', 'acceptable', 'said', 'since', 'Verizons', 'They', 'hybrid', 'followed', 'IR', 'dieing', 'background', 'effect', 'VERY', 'he', 'thin', 'BT', 'which', 'morning', 'control', 'EarGels', 'mic', 'connect', 'pushed', 'failed', 'Wirefly', 'AWESOME', 'incoming', 'our', 'bother', 'im', 'open', 'A', 'replace', 'hard', 'inches', 'audio', 'cheaper', 'sometimes', 'previous', 'ends', 'these', 'megapixels', 'cuts', 'pay', 'Works', 'Better', 'then', 'periods', 'Ngage', 'laptop', 'drop', 'plan', 'loves', 'span', 'seen', 'VX', 'rather', 'arrived', 'runs', 'construction', 'pockets', 'day', 'posted', 'carries', 'drain', 'well', 'stops', 'charm', 'conversation', 'WARNING', 'cutouts', 'warranty', 'beat', 'for', 'activate', 'effort', 'weight', 'although', 'copier', 'Lately', 'costs', 'so', 'decade', 'pleather', 'Than', 'BT250v', 'lot', 'Utter', 'decent', 'Junk', 'loudGlad', 'controls', 'pixel', 'laughing', 'attacked', 'BE', 'this', 'winner', 'until', 'pocket', 'Ear', 'styling', 'mess', 'PIECE', 'Improper', 'adhesive', 'Due', 'reasonable', 'alarm', 'could', 'Samsung', 'iPhone', 'others', 'here', 'she', 'addition', 'riingtones', 'operate', 'aspect', 'talk', 'better', 'excited', 'Poor', 'Dropped', 'capability', 'saying', 'refuse', 'purpose', 'Using', 'starter', 'Logitech', 'protective', 'network', 'its', 'wont', 'cute', 'belt', 'very', 'Tracfone', 'yet', 'expected', 'left', 'Free', 'possesed', 'Match', 'Overall', 'Over', 'eventually', 'gave', 'most', 'My', 'helpful', 'lights', 'Buttons', 'value', 'do', 'lacking', 'pull', 'sight', 'EASY', 'pain', 'sizes', 'cheapy', 'FOREVER', 'Pros', 'bitpim', 'double', 'ericson', 'amazed', 'waste', 'faceplates', 'hoping', 'tight', 'Big', 'worthless', 'gets', 'hat', 'driving', 'copy', 'impossible', 'protected', 'sex', 'Time', 'communications', 'buzzing', 'face', 'speaker', 'plugged', 'one', 'easily', 'amp', 'phoneThe', 'maintains', 'plans', 'people', 'crappy', 'mechanism', 'fails', 'Saggy', 'dit', 'EVER', 'INCLUDED', 'enough', 'Plan', 'take', 'almost', 'who', 'phone', 'AC', 'websites', 'canal', 'refused', 'lost', 'receiving', 'same', 'aluminum', 'cheaply', 'plays', 'mostly', 'wasting', 'How', 'pics', 'big', 'Cant', 'relatively', 'purcashed', 'literally', 'Gets', 'shine', 'Would', 'come', 'mind', 'ability', 'solid', 'gosh', 'PC', 'realize', 'unacceptable', 'Im', 'took', 'Earpiece', 'offers', 'feet', 'basically', 'Just', 'official', 'ticking', 'dissapointed', 'confortable', 'Keep', 'think', 'Light', 'visor', 'dropping', 'For', 'imagine', 'loudest', 'However', 'motor', 'rocketed', 'told', 'little', 'compared', 'Comfort', 'you', 'etc', 'stated', 'thing', 'pricing', 'at', 'especially', 'tape', 'picture', 'generally', 'Everything', 'NO', 'unit', 'grtting', 'quite', 'Sprint', 'owned', 'clearly', 'with', 'Returned', 'choices', 'iPod', 'seem', 'transmit', 'had', 'super', 'wasnt', 'white', 'fixes', 'flipphones', 'address', 'recently', 'home', 'receptionsound', 'keypad', 'nothing', 'USB', 'center', 'without', 'wise', 'flawless', 'cannot', 'Counterfeit', 'RETURNED', 'Look', 'Case', 'whistles', 'certainly', 'practically', 'And', 'AccessoryOne', 'Strength', 'StarTac', 'mins', 'handset', 'Beautiful', 'amazing', 'Motorolas', 'original', 'weeks', 'charges', 'accessable', 'stupid', 'sunglasses', 'us', 'Display', 'managementOh', 'brokenI', 'excrutiatingly', 'lesson', 'Soyo', 'instructions', 'Well', 'is', 'stuck', 'compromise', 'quiet', 'care', 'restart', 'upbeat', 'just', 'Nokia', 'units', 'lap', 'scratch', 'cumbersome', 'ripped', 'basic', 'stopped', 'signals', 'fee', 'smudged', 'too', 'R', 'point', 'Forgeries', 'problems', 'worthwhile', 'messages', 'Network', 'Thats', 'or', 'advise', 'before', 'Flaw', 'biggest', 'bluetoooth', 'fry', 'reoccureBottom', 'Incredible', 'flops', 'appealing', 'problem', 'turns', 'appointments', 'course', 'bumpers', 'Items', 'deffinitely', 'activated', 'WORST', 'full', 'nice', 'auto', 'noises', 'choice', 'navigate', 'AWFUL', 'computer', 'MY', 'Headset', 'incrediable', 'holster', 'large', 'Value', 'whole', 'bluetoothMotorola', 'receipt', 'online', 'Player', 'yell', 'simple', 'free', 'phoneMy', 'itMy', 'included', 'wornout', 'Jabra', 'two', 'phones2', 'an', 'wanted', 'VX9900', 'falls', 'Awsome', 'manufacturer', 'self', 'Howeverthe', 'cell', 'while', 'feels', 'definitly', 'good7', 'simpler', 'junk', 'glasses', 'Quality', 'bills', 'Small', 'iMac', 'quickly', 'wonder', 'FM', 'expensive', 'But', 'Linked', 'sounded', 'forget', 'Tungsten', 'using', 'reach', 'ear', 'Texas', 'making', 'message', 'toast', 'screenThis', 'ringer', 'antena', 'detachable', 'gadget', 'earbuds', 'wake', 'touch', 'BEING', 'wear', 'least', 'book', 'channel', 'deal', 'fourth', 'insert', 'hit', 'Treo', 'video', 'flawlessly', 'drained', 'sudden', 'waaay', 'vehicle', 'embedded', 'guess', 'fine', 'best', 'Razor', 'standard', 'broke', 'quick', 'DEAD', 'need', 'eye', 'particular', 'ON', 'Stay', 'industrial', 'works', 'Five', 'clearer', 'passed', 'None', 'Beware', 'Linksys', 'yearsGreat', 'entertainment', 'update', 'definitely', 'After', 'crashed', 'trash', 'every', 'have', 'finally', 'wifi', 'Fall', 'Exactly', 'ago', 'properly', 'reviews', 'Fantastic', 'beats', 'Chinese', 'either', 'Bad', 'despite', 'transceiver', 'life', 'Authentic', 'seamlessly', 'ATT', 'D807', 'Awkward', 'rest', 'oozes', 'locked', 'another', 'bubbling', 'father', 'charged', 'Red', 'unacceptible', 'save', 'ITS', 'majority', 'unsatisfactory', 'handy', 'sucked', 'son', 'completely', 'Far', 'negatively', 'SPEAKERPHONE', 'calls', 'V325i', 'unusable', 'dying', 'number', 'material', 'REAL', 'bend', 'doesnt', 'faster', 'Angeles', 'recharge', 'options', 'effective', 'means', 'today', 'louder', 'restocking', 'continues', 'range', 'mention', 'devices', 'alone', 'cable', 'resolution', 'terrible', 'cases', 'bulky', 'charger', 'strong', 'songs', 'applifies', 'CBR', 'unless', 'together', 'loop', 'preferably', 'Also', 'bottowm', 'great', 'old', 'says', 'plenty', 'wood', 'locks', 'HS850', 'threepack', 'Metro', 'usage', 'actually', 'fliptop', 'needsHandsfree', 'even', 'V3i', 'deaf', 'company', 'slipping', 'humming', 'tremendous', 'hate', 'long', 'That', 'Otherwise', 'clipping', 'directly', 'cassette', 'wallet', 'Ill', 'toilet', 'greater', 'Print', 'W810i', 'part', 'appearance', 'Those', 'of', 'love', 'stars', 'may', 'seperated', 'away', 'shipment', 'Customer', 'snug', 'wouldnt', 'roles', 'Plus', 'microphone', 'breakage', 'keypads', 'oneThis', 'AFTER', '3o', 'more', 'defect', 'messes', 'clicks', 'roam', 'apparently', 'Worst', 'scary', 'made', 'directions', 'huge', 'overnite', 'slim', 'Product', 'fingers', 'low', 'frequentyly', 'creaks', 'sliding', 'Device', 'docking', 'crack', 'pair', 'purchasing', 'exclaim', 'E2', 'wearing', 'Trying', 'Simple', 'HOT', 'instance', 'Palm', 'Plantronics', 'Restored', 'whatever', 'E715', 'purchase', 'headphones', 'casing', 'results', 'childlike', 'brand', 'sync', 'invented', 'functional', 'flaw', 'to', 'features', 'done', 'data', 'SERVICE', 'Yet', 'SUCKS', 'PCS', 'those', 'mega', 'specially', 'overall', 'exchanged', 'they', 'noted', 'samsungcrap', 'prettier', 'hands', 'slid', 'favorite', 'onlyI', 'slider', 'probably', 'Were', 'show', 'abhor', 'inconspicuous', 'something', 'getting', 'installed', 'scratched', 'piece', 'BEST', 'static', 'replacement', 'Lots', 'WOW', 'during', 'V3c', 'Earbud', 'carried', 'PS3', 'happened', 'originally', 'shouldve', 'dirty', 'odd', 'promised', 'changing', 'Defective', 'earpiece', 'station', 'clarity', 'bottom', 'Media', 'Displeased', 'current', 'experience', 'AGGRAVATING', 'placed', 'MOTO', 'expectations', 'Worked', 'specs', 'Still', 'somewhat', 'replaceEasy', 'patient', 'Disapointing', 'were', 'clever', 'onId', 'gadgets', 'wonderfully', 'thats', 'durable', 'secure', 'look', 'BuyerBe', 'trouble', 'timeframe', 'earphone', 'unacceptableUnless', 'Poorly', 'Really', 'RAZR', 'loads', 'cellphone', 'Buyer', 'disappointment', 'ill', 'carry', 'them', 'switch', 'Europe', 'sister', 'price', 'Only', 'Jawbone', 'Signal', 'chargelife', 'breaking', 'planning', 'Krussel', 'Portable', 'drops', 'angle', 'working', 'fraction', 'damage', 'AFter', 'lasting', 'saved', 'There', 'randomly', 'like', 'People', 'players', 'ARGUING', 'got', 'SIM', 'Obviously', 'Life', 'mediocre', 'clock', 'month', 'recognition', 'We', 'Absolutely', 'rebootsOverall', 'own', 'easier', 'contact', 'strange', 'be', 'consumer', 'shouldnt', 'Their', 'These', 'Sounds', 'described', 'lineanother', 'but', 'juiceHighy', 'Very', 'Comfortable', 'Youll', 'seems', 'below', 'So', 'impressed', 'soft', 'funny', 'noticed', 'directed', '2MP', 'idea', 'purchases', 'GX2', 'comfortible', 'wind', 'flimsy', 'Avoid', 'model', 'stay', 'put', 'genuine', 'owneryou', 'shouting', 'orders', 'mere', 'ft', 'QWERTY', 'peachykeen', 'Absolutel', 'constructed', 'beautiful', 'clips', 'looks', 'fits', 'minute', 'there', 'remorse', 'He', 'short', 'should', 'ergonomic', 'exceptional', 'occupied', 'dialing', 'around', 'forever', 'requirements', 'neat', 'neither', 'satisfied', 'contract', 'awesome', 'connection', 'BMW', 'Christmas', 'drivng', 'smoother', 'renders', 'overnight', 'miniUSB', 'manual', 'takes', 'cellphones', 'Problem', 'cant', 'totally', 'allowing', 'greatno', 'BlueAnt', 'realworld', 'buy', 'bar', 'blacktop', 'mp3s', 'elsewhere', 'LOT', 'no', 'run', 'ARE', 'contacting', 'disapoinment', 'dustpan', 'none', 'finished', 'currently', 'distorted', 'compliments', 'S710a', 'sold', 'managed', 'optimal', 'small', 'absolutely', 'transformed', 'sensor', 'built', 'combination', 'crawl', 'last', 'Wireless', 'DAYS', 'comfortable', 'correctly', 'customer', 'Comes', 'Cumbersome', 'alot', 'Blue', 'shape', 'certain', 'FOOLED', 'situations1', 'CingularATT', 'read', 'sharp', 'stuff', 'superfast', 'pleasantly', 'electronics', 'bad', 'extremely', 'Mic', 'OK', 'strip', 'software', 'tech', 'connected', 'instruction', 'say', 'card', 'both', 'available', 'checked', 'decision', 'felt', 'purchased', 'comfortably', 'Think', 'poorly', 'replaced', 'EXCELLENT', 'somehow', 'trust', 'amazon', 'never', 'leather', 'earbugs', 'according', 'Q', 'WELL', 'IM', 'reasonably', 'pretty', 'Basically', 'happening', 'clip', 'severe', 'frog', 'noise', 'catching', 'cingular', 'ordering', 'palmtopcameracellphone', 'package', 'wiping', 'star', 'convenient', 'supposedly', 'flawed', 'tones', 'avoiding', 'WANTED', 'HATED', 'reset', 'Results', 'found', 'theres', 'experienced', 'videos', 'inexpensive', 'feature', 'mine', 'because', 'on', 'impressive', 'given', 'survived', 'send', 'OS', 'going', 'sending', 'PROBLEMS', 'ease', 'describe', 'about', 'sounds', 'fast', 'iriver', 'beeping', 'iGo', 'welldesigned', 'seemed', 'Painful', 'gonna', 'suprised', 'rare', 'fit', 'refurb', 'stop', 'accidentally', 'please', 'Waste', 'upandcoming', 'talking', 'exercise', 'thorn', 'smartphone', 'nearly', 'verizon', 'ring', 'As', 'Adapter', 'OF', 's', 'glad', 'contacted', 'girl', 'What', 'above', 'market', 'EVERYONE', 'Bluetooth', 'setting', 'muffled', 'brilliant', 'volume', 'mobile', 'disappointing', 'Audio', 'hair', 'dont', 'feel', 'smell', 'later', 'discomfort', 'nokia', 'stand', 'produce', 'thought', 'button', 'havent', 'Down', 'metal', 'has', 'voice', 'under', 'good4', 'person', 'all', 'enter', 'indoors', 'first', 'Who', 'total', 'also', 'smoke', 'removing', 'Oh', 'connecting', 'coupon', 'word', 'ones', 'though', 'Construction', 'extended', 'goesThe', 'excels', 'overly', 'everyday', 'loops', 'access', 'seller', 'Good', 'Reception', 'ready', 'fall', 'Thank', 'uncomfortable', 'override', 'grip', 'cingulair', 'hitch', 'Ericsson', 'communicate', 'WHITE', 'setup', 'REGARDING', 'upgrade', 'Yes', 'regret', 'gentletouch', 'hurt', 'Save', 'everywhere', 'off', 'phoneBattery', 'keep', 'converter', 'floor', 'shifting', 'kitchen', 'stream', 'defeats', 'Cheap', 'The', 'missed', 'Used', 'Skype', 'magnetic', 'detailed', 'Hoping', 'couple', 'communication', 'fabulous', 'as', 'call', 'tinny', 'how', 'internet', 'bland', 'buying', 'form', 'motorola', 'I', 'Service', 'Excellent', 'snap', 'jiggle', 'must', 'misleading', 'wrong', 'turn', 'behing', 'went', 'JERKS', 'browsing', 'Id', 'factor', 'happy', 'started', 'knock', 'go', 'threw', 'external', 'coming', 'darn', 'Setup', 'me', 'except', 'tryThe', 'awful', 'did', 'front', 'listening', 'NYC', 'handsfree', 'way', 'Disappointment', 'starts', 'D807wrongly', 'elegant', 'dollar', 'Supertooth', 'Whoa', 'gimmick', 'risk', 'Made', 'menus', 'theyre', 'cellular', 'Virgin', 'fact', 'Away', 'Appears', 'several', 'TMobile', 'comfort', 'functions', 'play', 'Transmitters', 'useless', 'seriously', 'ideal', 'windresistant', 'forgot', 'stylish', 'moving', 'keeping', 'item', 'else', 'improvement', 'screen', 'state', 'advertised', 'crackedI', 'CRAP', 'study', 'regarding', 'Will', 'synchronization', 'treo', 'source', 'First', 'securly', 'travled', 'instead', 'unreliable', 'are', 'minutes', 'Piece', 'anywhere', 'battery', 'MP3', 'dead', 'soundwise', 'cradle', 'any', 'dropped', 'ask', 'usually', 'plus', 'hardly', 'mute', 'Ever', 'excessive', 'messaging', 'dozens', 'happier', 'boot', 'months', 'penny', 'concrete', 'keyboard', 'relative', 'latch', 'floppy', 'humans', 'fond', 'use', 'sources', 'iPODs', 'Magical', 'room', 'JUNK', 'Please', 'perhaps', 'Development', 'infatuated', 'Looks', 'constantly', 'speed', 'always', 'days', 'pad', 'Sony', 'embarassing', 'ProblemVery', 'eargels', 'Great', 'headbands', 'bluetooth', 'sooner', 'work', 'Iam', 'skip', 'designs', 'understanding', 'transfer', 'Makes', 'fully', 'paired', 'hey', 'i', 'infuriating', 'extra', 'increase', 'real', 'bougth', 'signs', 'garbage', 'tries', 'night', 'Never', 'corded', 'sucks', 'LG', 'comments', 'apart', 'obviously', 'recieve', 'plug', 'gels', 'Integrated', 'signal', 'design', 'whose', 'ie', 'Even', 'From', 'procedures', 'inside', 'Internet', 'rotating', 'smoking', 'push', 'regretted', 'allot', 'came', 'existing', 'check', 'colored', 'submerged', 'sound', 'surprised', 'ever', 'unintelligible', 'Att', 'basement', 'goes', 'exceeds', 'Arrived', 'Work', 'organizational', 'broken', 'firstperson', 'handheld', 'plugs', 'joke', 'good', 'allows', 'receive', 'third', 'case', 'numbers', 'build', 'Someone', 'disgusting', 'pads', 'shows', 'Design', 'haul', 'EXTREMELY', 'Lousy', 'adapters', 'along', 'install', 'blue', 'Jabra350', 'once', 'Has', 'utterly', 'phones', 'less', 'intermittently', 'Last', 'Best', 'am', 'it', 'FOR', 'date', 'family', 'having', 'ample', 'set', 'forced', 'WORTHWHILE', 'PHONE', 'beep', 'NOKIA', 'kind', 'S11', 'hinge', 'want', 'In', 'Couldnt', 'puff', 'operates', 'normally', 'Abound', 'earbud', 'quality', 'lasts']\n"
          ]
        }
      ]
    },
    {
      "cell_type": "markdown",
      "source": [
        "**5. Additionally, create a dictionary that maps each word to an integer, where the words will\n",
        "be the keys and the integers will be the values.**"
      ],
      "metadata": {
        "id": "RAJar6w-rlJo"
      }
    },
    {
      "cell_type": "code",
      "source": [
        "word_to_index = {word: index for index, word in enumerate(new_vocabulary)}\n",
        "print(word_to_index)\n"
      ],
      "metadata": {
        "colab": {
          "base_uri": "https://localhost:8080/"
        },
        "id": "xcY-FQPYsm1l",
        "outputId": "43101bd9-5fbb-4e0b-c1ce-78c9ac92104d"
      },
      "execution_count": 9,
      "outputs": [
        {
          "output_type": "stream",
          "name": "stdout",
          "text": [
            "{'L7c': 0, 'down': 1, 'cables': 2, 'WHAT': 3, 'flush': 4, 'meThe': 5, 'Dissapointing': 6, 'waterproof': 7, 'buds': 8, 'conversations': 9, 'flash': 10, 'user': 11, 'Bought': 12, 'Fire': 13, 'Having': 14, 'irda': 15, 'defective': 16, 'One': 17, 'Windows': 18, 'cheap': 19, 'worth': 20, 'recommended': 21, 'tooth': 22, 'exchange': 23, 'sturdiness': 24, 'we': 25, 'v115g': 26, 'improve': 27, 'Clear': 28, 'intended': 29, 'prime': 30, 'function': 31, 'loudspeaker': 32, 'ringtones': 33, 'Price': 34, 'additional': 35, 'Sanyo': 36, 'Calls': 37, 'poor': 38, 'if': 39, 'bit': 40, 'psyched': 41, 'accessing': 42, 'Leopard': 43, 'only': 44, 'couldnt': 45, 'coverage': 46, 'tick': 47, 'autoanswer': 48, 'support': 49, 'Surefire': 50, 'was': 51, 'called': 52, 'rated': 53, 'new': 54, 'issues': 55, 'drains': 56, 'wit': 57, 'type': 58, 'products': 59, 'H500': 60, 'practice': 61, 'sent': 62, 'theory': 63, 'living': 64, 'chargers': 65, 'barely': 66, 'wife': 67, 'Freezes': 68, 'suddenly': 69, 'nicely': 70, 'car': 71, 'allow': 72, 'hearing': 73, 'places': 74, 'outgoing': 75, 'This': 76, 'frequently4': 77, 'outperform': 78, 'mark': 79, 'product': 80, 'respect': 81, 'REALLY': 82, 'house': 83, 'DROPPED': 84, 'ringing': 85, 'numerous': 86, 'seconds': 87, 'backlight': 88, 'Finally': 89, 'Performance': 90, 'side': 91, 'everyone': 92, 'tool': 93, 'tips': 94, 'each': 95, '700w': 96, 'friends': 97, 'would': 98, 'confusing': 99, 'equipment': 100, 'commercials': 101, 'outside': 102, 'dozen': 103, 'Steer': 104, 'wired': 105, 'wooden': 106, 'atleast': 107, 'match': 108, 'device': 109, 'boost': 110, 'performing': 111, 'whether': 112, 'text': 113, 'Sound': 114, 'edge': 115, 'portraits': 116, 'doing': 117, 'securely': 118, 'reception': 119, 'needed': 120, 'find': 121, 'flip': 122, 'hour': 123, 'three': 124, 'black': 125, 'knows': 126, 'rate': 127, 'useful': 128, 'seeen': 129, 'by': 130, 'Performed': 131, 'option': 132, 'modest': 133, 'weak': 134, 'Thanks': 135, 'next': 136, 'really': 137, 'falling': 138, 'replacementr': 139, 'opens': 140, 'earlier': 141, 'wobbly': 142, 'shiny': 143, 'kept': 144, 'Choice': 145, 'carriers': 146, 'cancelling': 147, 'longer': 148, 'ad': 149, 'when': 150, 'quit': 151, 'Happy': 152, 'practical': 153, 'Disappointed': 154, 'styles': 155, 'size': 156, 'slide': 157, 'Kindle': 158, 'counter': 159, 'loose': 160, 'distracting': 161, 'through': 162, 'Cingular': 163, 'BT50': 164, 'hand': 165, 'year': 166, 'wireless': 167, 'DISAPPOINTED': 168, 'discarded': 169, 'Love': 170, 'SCHr450': 171, 'player': 172, 'able': 173, 'my': 174, 'back': 175, 'average': 176, 'simply': 177, 'CDs': 178, 'NOTHINGI': 179, 'No': 180, 'disappoint': 181, 'infra': 182, 'fun': 183, 'waiting': 184, 'wild': 185, 'nicer': 186, 'echo': 187, 'reverse': 188, 'party': 189, 'giving': 190, 'answer': 191, 'Because': 192, 'recommend': 193, 'cost': 194, 'not': 195, 'over': 196, 'receptionA': 197, 'Perhaps': 198, 'perfectly': 199, 'apartment': 200, 'UGLY': 201, 'Moto': 202, 'sensitive': 203, 'highest': 204, 'camera': 205, 'inexcusable': 206, 'learned': 207, 'NOT': 208, 'sleek': 209, 'destroying': 210, 'bought': 211, 'Excelent': 212, 'If': 213, 'cradles': 214, 'incredible': 215, 'downloading': 216, 'bose': 217, 'headsets': 218, 'Earset': 219, 'listener': 220, 'photo': 221, 'internetto': 222, 'hundred': 223, 'jawbone': 224, 'CALLS': 225, 'within': 226, 'recognizes': 227, 'nano': 228, 'complained': 229, 'usable': 230, 'holding': 231, 'much': 232, 'bed': 233, 'wrongFirst': 234, 'ordered': 235, 'service': 236, 'hours': 237, 'CA42': 238, 'row': 239, 'contacts': 240, 'end': 241, 'colors': 242, 'TWO': 243, 'hoursTHe': 244, 'rocks': 245, 'Nice': 246, 'Reliability': 247, 'other': 248, 'covered': 249, 'into': 250, 'prompt': 251, 'latest': 252, 'thru': 253, 'cover': 254, 'ride': 255, 'accessory': 256, 'Asia': 257, 'break': 258, 'searched': 259, 'Truly': 260, 'job': 261, 'disconnected': 262, 'ears': 263, 'unknown': 264, 'tricky': 265, 'lock': 266, 'exactly': 267, 'essentially': 268, 'mistake': 269, 'classy': 270, 'Uncomfortable': 271, 'Battery': 272, 'earphones': 273, 'WE': 274, 'booking': 275, 'linking': 276, 'Needless': 277, 'capacity': 278, 'Era': 279, 'a': 280, 'EnV': 281, 'get': 282, 'reason': 283, 'SPINN': 284, 'performance': 285, 'Much': 286, 'continue': 287, 'sketchy': 288, 'note': 289, 'soon': 290, 'their': 291, 'week': 292, 'wish': 293, 'outlet': 294, 'Motorola': 295, 'PHONES': 296, 'buyers': 297, 'believe': 298, 'fantastic': 299, 'will': 300, 'however': 301, 'and': 302, 'place': 303, 'reading': 304, 'WITH': 305, 'near': 306, 'calendar': 307, 'New': 308, 'browser': 309, 'unlike': 310, 'frustration': 311, 'discount': 312, 'crisp': 313, 'DO': 314, 'let': 315, 'colleague': 316, 'investment': 317, 'maintain': 318, 'didnt': 319, 'horrible': 320, 'luck': 321, 'swivel': 322, 'from': 323, 'shield': 324, 'wasted': 325, 'O': 326, 'ended': 327, 'TERRIBLE': 328, 'Verizon': 329, 'Other': 330, 'appears': 331, 'peeling': 332, 'An': 333, 'machine': 334, 'garbled': 335, 'hear': 336, 'Mobile': 337, 'description': 338, 'complaints': 339, 'Easy': 340, 'series': 341, 'Ive': 342, 'anyway': 343, 'be3': 344, '5year': 345, 'again': 346, 'after': 347, 'Tied': 348, 'potentially': 349, 'touches': 350, 'years': 351, 'Reversible': 352, 'loud': 353, 'Walkman': 354, 'been': 355, 'hoped': 356, 'dualpurpose': 357, 'might': 358, 'Cell': 359, 'inform': 360, 'wall': 361, 'somewhere': 362, 'refund': 363, 'cool': 364, 'tracfonewebsite': 365, 'Curve': 366, 'Droid': 367, 'monkeys': 368, 'rubberpetroleum': 369, 'hook': 370, 'significantly': 371, 'steep': 372, 'z500a': 373, 'four': 374, 'headset': 375, 'comes': 376, 'Now': 377, 'via': 378, 'Unfortunately': 379, 'packaged': 380, 'things': 381, 'Buy': 382, 'cents': 383, 'recessed': 384, 'destination': 385, 'try': 386, 'longwearing': 387, 'possibility': 388, 'letting': 389, 'between': 390, 'mainly': 391, 'trunk': 392, 'abovePRETTY': 393, 'max': 394, 'multiple': 395, 'slowly': 396, 'caused': 397, 'encourage': 398, 'lense': 399, 'sitting': 400, 'know': 401, 'drawback': 402, 'Provides': 403, 'Razr': 404, 'lightweight': 405, 'file': 406, 'up': 407, 'blew': 408, 'When': 409, 'minutesMAJOR': 410, 'Tools': 411, 'Superb': 412, 'heavyit': 413, 'out': 414, 'SWEETEST': 415, 'strap': 416, 'landline': 417, 'in': 418, 'pairing': 419, 'Talk': 420, 'functionality': 421, 'Then': 422, 'looking': 423, 'earpieces': 424, 'protection': 425, 'Rip': 426, 'Another': 427, 'clear': 428, 'Amazon': 429, 'port': 430, 'Research': 431, 'can': 432, 'provided': 433, 'liked': 434, 'sins': 435, 'sides': 436, 'Sending': 437, 'VERIZON': 438, 'attractive': 439, 'storage': 440, 'contstruct': 441, 'isnt': 442, 'Voice': 443, 'red': 444, 'glued': 445, 'highly': 446, 'whine': 447, 'SATISFIED': 448, 'Purchase': 449, 'tell': 450, 'Tmobile': 451, 'Blackberry': 452, 'joy': 453, 'expect': 454, 'THAT': 455, 'shooters': 456, 'buttons': 457, 'procedure': 458, 'excellent': 459, 'Could': 460, 'DNA': 461, 'phonesmp3': 462, 'store': 463, 'At': 464, 'bluetooths': 465, 'lose': 466, 'While': 467, 'tried': 468, 'Perfect': 469, 'During': 470, 'Warning': 471, 'ActiveSync': 472, 'the': 473, 'lg': 474, 'easy': 475, 'comparablypriced': 476, 'SOS': 477, 'your': 478, 'make': 479, 'competitors': 480, 'earpad': 481, 'sure': 482, 'few': 483, 'balance': 484, 'Seller': 485, 'Ant': 486, 'Help': 487, 'ProsGood': 488, 'Too': 489, 'far': 490, 'technology': 491, 'understand': 492, 'right': 493, 'nightmare': 494, 'usefulness': 495, 'lightly': 496, 'kits': 497, 'Los': 498, 'mentioned': 499, 'worst': 500, 'assumed': 501, 'Phone': 502, 'incredibly': 503, 'promptly': 504, 'sony': 505, 'holds': 506, 'pause': 507, 'does': 508, 'toactivate': 509, 'periodically': 510, 'USELESS': 511, 'mode': 512, 'key': 513, 'program': 514, 'compete': 515, 'keys': 516, 'smoothly': 517, 'telephone': 518, 'Awesome': 519, 'stays': 520, 'games': 521, 'fulfills': 522, 'sturdy': 523, 'likes': 524, 'Same': 525, 'keeps': 526, 'sorry': 527, 'wellit': 528, 'immediately': 529, 'whatsoever': 530, 'Protects': 531, 'anyone': 532, 'toneOverall': 533, 'More': 534, 'important': 535, 'Palms': 536, 'beware': 537, 'pitiful': 538, 'careful': 539, 'glove': 540, 'wifes': 541, 'conditions': 542, 'Highly': 543, 'many': 544, 'Theres': 545, 'SUPERB': 546, 'unhappy': 547, 'embarrassing': 548, 'jabra': 549, 'protector': 550, 'smallest': 551, 'turned': 552, 'Definitely': 553, 'seat': 554, 'fairly': 555, 'gotten': 556, 'You': 557, 'normal': 558, 'THE': 559, 'shipped': 560, 'interface': 561, 'PDA': 562, 'being': 563, 'High': 564, 'what': 565, 'figure': 566, 'finds': 567, 'Timely': 568, 'Pretty': 569, 'geeky': 570, 'trying': 571, 'crap': 572, 'stereo': 573, 'China': 574, 'starI': 575, 'some': 576, 'images': 577, 'pants': 578, '4s': 579, 'V265': 580, 'Lasted': 581, 'Picture': 582, 'difficult': 583, 'web': 584, 'slow': 585, 'provide': 586, 'Any': 587, 'Microsofts': 588, 'shipping': 589, 'BROKE': 590, 'weird': 591, 'beThe': 592, 'thumbs': 593, 'voltage': 594, 'Crisp': 595, 'order': 596, 'line': 597, 'return': 598, 'Its': 599, 'tiny': 600, 'looses': 601, 'THIS': 602, 'THey': 603, 'anything': 604, 'time': 605, 'effects': 606, 'zero': 607, 'Always': 608, 'color': 609, 'Echo': 610, 'graphics': 611, 'walked': 612, 'died': 613, 'happens': 614, 'owning': 615, 'thereplacement': 616, 'offering': 617, 'Plantronincs': 618, 'download': 619, 'worked': 620, 'PURCHASE': 621, 'Plug': 622, 'website': 623, 'pens': 624, 'exterior': 625, 'Disappointing': 626, 'high': 627, 'Horrible': 628, 'OEM': 629, 'Unreliable': 630, 'iphone': 631, 'everything': 632, 'Doesnt': 633, 'It': 634, 'Hands': 635, 'killer': 636, 'breaks': 637, 'disposable': 638, 'division': 639, 'area': 640, 'complain': 641, 'engineered': 642, 'interested': 643, 'flaws': 644, 'Does': 645, 'Kind': 646, 'notice': 647, 'explain': 648, 'reccommend': 649, 'used': 650, 'batteries': 651, 'share': 652, 'delay': 653, 'youd': 654, 'stress': 655, 'accompanied': 656, 'loved': 657, 'hype': 658, 'freedom': 659, 'Not': 660, 'antiglare': 661, 'holder': 662, 'window': 663, 'returning': 664, 'spring': 665, 'armband': 666, 'freeway': 667, 'bucks': 668, 'Fits': 669, 'Careful': 670, 'Car': 671, 'TV': 672, 'wellWell': 673, 'prevents': 674, 'Boy': 675, 'now': 676, 'Low': 677, 'money': 678, 'cut': 679, 'arrival': 680, 'that': 681, 'BUY': 682, 'Item': 683, 'Long': 684, 'top': 685, 'such': 686, 'cancellation': 687, 'hold': 688, 'add': 689, 'Reaching': 690, 'rests': 691, 'than': 692, 'give': 693, 'memory': 694, 'All': 695, 'transmission': 696, 'makes': 697, 'Muddy': 698, '5of': 699, 'power': 700, 'received': 701, 'pleased': 702, 'leaks': 703, 'wires': 704, 'music': 705, 'against': 706, 'Dont': 707, 'times': 708, 'Pocket': 709, 'mail': 710, 'upload': 711, 'display': 712, 'enjoy': 713, 'Do': 714, 'friendly': 715, 'JX10': 716, 'Premium': 717, 'accept': 718, 'jack': 719, 'reccomendation': 720, 'lit': 721, 'different': 722, 'AMAZON': 723, 'BUYIT': 724, 'upstairs': 725, 'entire': 726, 'still': 727, 'mother': 728, 'review': 729, 'complaint': 730, 'disappointed': 731, 'Range': 732, 'causing': 733, 'priced': 734, 'charging': 735, 'tracking': 736, 'DISAPPOINTING': 737, 'Was': 738, 'US': 739, 'Terrible': 740, 'where': 741, 'charge': 742, 'screens': 743, 'leaf': 744, 'adorable': 745, 'Waiting': 746, 'delivery': 747, 'commuter': 748, 'Essentially': 749, 'bargain': 750, 'see': 751, 'light': 752, 'shots': 753, 'cat': 754, 'unbearable': 755, 'pictures': 756, 'avoid': 757, 'grey': 758, 'Worth': 759, 'rating': 760, 'plastic': 761, 'bars': 762, 'satisifed': 763, 'bells': 764, 'acceptable': 765, 'said': 766, 'since': 767, 'Verizons': 768, 'They': 769, 'hybrid': 770, 'followed': 771, 'IR': 772, 'dieing': 773, 'background': 774, 'effect': 775, 'VERY': 776, 'he': 777, 'thin': 778, 'BT': 779, 'which': 780, 'morning': 781, 'control': 782, 'EarGels': 783, 'mic': 784, 'connect': 785, 'pushed': 786, 'failed': 787, 'Wirefly': 788, 'AWESOME': 789, 'incoming': 790, 'our': 791, 'bother': 792, 'im': 793, 'open': 794, 'A': 795, 'replace': 796, 'hard': 797, 'inches': 798, 'audio': 799, 'cheaper': 800, 'sometimes': 801, 'previous': 802, 'ends': 803, 'these': 804, 'megapixels': 805, 'cuts': 806, 'pay': 807, 'Works': 808, 'Better': 809, 'then': 810, 'periods': 811, 'Ngage': 812, 'laptop': 813, 'drop': 814, 'plan': 815, 'loves': 816, 'span': 817, 'seen': 818, 'VX': 819, 'rather': 820, 'arrived': 821, 'runs': 822, 'construction': 823, 'pockets': 824, 'day': 825, 'posted': 826, 'carries': 827, 'drain': 828, 'well': 829, 'stops': 830, 'charm': 831, 'conversation': 832, 'WARNING': 833, 'cutouts': 834, 'warranty': 835, 'beat': 836, 'for': 837, 'activate': 838, 'effort': 839, 'weight': 840, 'although': 841, 'copier': 842, 'Lately': 843, 'costs': 844, 'so': 845, 'decade': 846, 'pleather': 847, 'Than': 848, 'BT250v': 849, 'lot': 850, 'Utter': 851, 'decent': 852, 'Junk': 853, 'loudGlad': 854, 'controls': 855, 'pixel': 856, 'laughing': 857, 'attacked': 858, 'BE': 859, 'this': 860, 'winner': 861, 'until': 862, 'pocket': 863, 'Ear': 864, 'styling': 865, 'mess': 866, 'PIECE': 867, 'Improper': 868, 'adhesive': 869, 'Due': 870, 'reasonable': 871, 'alarm': 872, 'could': 873, 'Samsung': 874, 'iPhone': 875, 'others': 876, 'here': 877, 'she': 878, 'addition': 879, 'riingtones': 880, 'operate': 881, 'aspect': 882, 'talk': 883, 'better': 884, 'excited': 885, 'Poor': 886, 'Dropped': 887, 'capability': 888, 'saying': 889, 'refuse': 890, 'purpose': 891, 'Using': 892, 'starter': 893, 'Logitech': 894, 'protective': 895, 'network': 896, 'its': 897, 'wont': 898, 'cute': 899, 'belt': 900, 'very': 901, 'Tracfone': 902, 'yet': 903, 'expected': 904, 'left': 905, 'Free': 906, 'possesed': 907, 'Match': 908, 'Overall': 909, 'Over': 910, 'eventually': 911, 'gave': 912, 'most': 913, 'My': 914, 'helpful': 915, 'lights': 916, 'Buttons': 917, 'value': 918, 'do': 919, 'lacking': 920, 'pull': 921, 'sight': 922, 'EASY': 923, 'pain': 924, 'sizes': 925, 'cheapy': 926, 'FOREVER': 927, 'Pros': 928, 'bitpim': 929, 'double': 930, 'ericson': 931, 'amazed': 932, 'waste': 933, 'faceplates': 934, 'hoping': 935, 'tight': 936, 'Big': 937, 'worthless': 938, 'gets': 939, 'hat': 940, 'driving': 941, 'copy': 942, 'impossible': 943, 'protected': 944, 'sex': 945, 'Time': 946, 'communications': 947, 'buzzing': 948, 'face': 949, 'speaker': 950, 'plugged': 951, 'one': 952, 'easily': 953, 'amp': 954, 'phoneThe': 955, 'maintains': 956, 'plans': 957, 'people': 958, 'crappy': 959, 'mechanism': 960, 'fails': 961, 'Saggy': 962, 'dit': 963, 'EVER': 964, 'INCLUDED': 965, 'enough': 966, 'Plan': 967, 'take': 968, 'almost': 969, 'who': 970, 'phone': 971, 'AC': 972, 'websites': 973, 'canal': 974, 'refused': 975, 'lost': 976, 'receiving': 977, 'same': 978, 'aluminum': 979, 'cheaply': 980, 'plays': 981, 'mostly': 982, 'wasting': 983, 'How': 984, 'pics': 985, 'big': 986, 'Cant': 987, 'relatively': 988, 'purcashed': 989, 'literally': 990, 'Gets': 991, 'shine': 992, 'Would': 993, 'come': 994, 'mind': 995, 'ability': 996, 'solid': 997, 'gosh': 998, 'PC': 999, 'realize': 1000, 'unacceptable': 1001, 'Im': 1002, 'took': 1003, 'Earpiece': 1004, 'offers': 1005, 'feet': 1006, 'basically': 1007, 'Just': 1008, 'official': 1009, 'ticking': 1010, 'dissapointed': 1011, 'confortable': 1012, 'Keep': 1013, 'think': 1014, 'Light': 1015, 'visor': 1016, 'dropping': 1017, 'For': 1018, 'imagine': 1019, 'loudest': 1020, 'However': 1021, 'motor': 1022, 'rocketed': 1023, 'told': 1024, 'little': 1025, 'compared': 1026, 'Comfort': 1027, 'you': 1028, 'etc': 1029, 'stated': 1030, 'thing': 1031, 'pricing': 1032, 'at': 1033, 'especially': 1034, 'tape': 1035, 'picture': 1036, 'generally': 1037, 'Everything': 1038, 'NO': 1039, 'unit': 1040, 'grtting': 1041, 'quite': 1042, 'Sprint': 1043, 'owned': 1044, 'clearly': 1045, 'with': 1046, 'Returned': 1047, 'choices': 1048, 'iPod': 1049, 'seem': 1050, 'transmit': 1051, 'had': 1052, 'super': 1053, 'wasnt': 1054, 'white': 1055, 'fixes': 1056, 'flipphones': 1057, 'address': 1058, 'recently': 1059, 'home': 1060, 'receptionsound': 1061, 'keypad': 1062, 'nothing': 1063, 'USB': 1064, 'center': 1065, 'without': 1066, 'wise': 1067, 'flawless': 1068, 'cannot': 1069, 'Counterfeit': 1070, 'RETURNED': 1071, 'Look': 1072, 'Case': 1073, 'whistles': 1074, 'certainly': 1075, 'practically': 1076, 'And': 1077, 'AccessoryOne': 1078, 'Strength': 1079, 'StarTac': 1080, 'mins': 1081, 'handset': 1082, 'Beautiful': 1083, 'amazing': 1084, 'Motorolas': 1085, 'original': 1086, 'weeks': 1087, 'charges': 1088, 'accessable': 1089, 'stupid': 1090, 'sunglasses': 1091, 'us': 1092, 'Display': 1093, 'managementOh': 1094, 'brokenI': 1095, 'excrutiatingly': 1096, 'lesson': 1097, 'Soyo': 1098, 'instructions': 1099, 'Well': 1100, 'is': 1101, 'stuck': 1102, 'compromise': 1103, 'quiet': 1104, 'care': 1105, 'restart': 1106, 'upbeat': 1107, 'just': 1108, 'Nokia': 1109, 'units': 1110, 'lap': 1111, 'scratch': 1112, 'cumbersome': 1113, 'ripped': 1114, 'basic': 1115, 'stopped': 1116, 'signals': 1117, 'fee': 1118, 'smudged': 1119, 'too': 1120, 'R': 1121, 'point': 1122, 'Forgeries': 1123, 'problems': 1124, 'worthwhile': 1125, 'messages': 1126, 'Network': 1127, 'Thats': 1128, 'or': 1129, 'advise': 1130, 'before': 1131, 'Flaw': 1132, 'biggest': 1133, 'bluetoooth': 1134, 'fry': 1135, 'reoccureBottom': 1136, 'Incredible': 1137, 'flops': 1138, 'appealing': 1139, 'problem': 1140, 'turns': 1141, 'appointments': 1142, 'course': 1143, 'bumpers': 1144, 'Items': 1145, 'deffinitely': 1146, 'activated': 1147, 'WORST': 1148, 'full': 1149, 'nice': 1150, 'auto': 1151, 'noises': 1152, 'choice': 1153, 'navigate': 1154, 'AWFUL': 1155, 'computer': 1156, 'MY': 1157, 'Headset': 1158, 'incrediable': 1159, 'holster': 1160, 'large': 1161, 'Value': 1162, 'whole': 1163, 'bluetoothMotorola': 1164, 'receipt': 1165, 'online': 1166, 'Player': 1167, 'yell': 1168, 'simple': 1169, 'free': 1170, 'phoneMy': 1171, 'itMy': 1172, 'included': 1173, 'wornout': 1174, 'Jabra': 1175, 'two': 1176, 'phones2': 1177, 'an': 1178, 'wanted': 1179, 'VX9900': 1180, 'falls': 1181, 'Awsome': 1182, 'manufacturer': 1183, 'self': 1184, 'Howeverthe': 1185, 'cell': 1186, 'while': 1187, 'feels': 1188, 'definitly': 1189, 'good7': 1190, 'simpler': 1191, 'junk': 1192, 'glasses': 1193, 'Quality': 1194, 'bills': 1195, 'Small': 1196, 'iMac': 1197, 'quickly': 1198, 'wonder': 1199, 'FM': 1200, 'expensive': 1201, 'But': 1202, 'Linked': 1203, 'sounded': 1204, 'forget': 1205, 'Tungsten': 1206, 'using': 1207, 'reach': 1208, 'ear': 1209, 'Texas': 1210, 'making': 1211, 'message': 1212, 'toast': 1213, 'screenThis': 1214, 'ringer': 1215, 'antena': 1216, 'detachable': 1217, 'gadget': 1218, 'earbuds': 1219, 'wake': 1220, 'touch': 1221, 'BEING': 1222, 'wear': 1223, 'least': 1224, 'book': 1225, 'channel': 1226, 'deal': 1227, 'fourth': 1228, 'insert': 1229, 'hit': 1230, 'Treo': 1231, 'video': 1232, 'flawlessly': 1233, 'drained': 1234, 'sudden': 1235, 'waaay': 1236, 'vehicle': 1237, 'embedded': 1238, 'guess': 1239, 'fine': 1240, 'best': 1241, 'Razor': 1242, 'standard': 1243, 'broke': 1244, 'quick': 1245, 'DEAD': 1246, 'need': 1247, 'eye': 1248, 'particular': 1249, 'ON': 1250, 'Stay': 1251, 'industrial': 1252, 'works': 1253, 'Five': 1254, 'clearer': 1255, 'passed': 1256, 'None': 1257, 'Beware': 1258, 'Linksys': 1259, 'yearsGreat': 1260, 'entertainment': 1261, 'update': 1262, 'definitely': 1263, 'After': 1264, 'crashed': 1265, 'trash': 1266, 'every': 1267, 'have': 1268, 'finally': 1269, 'wifi': 1270, 'Fall': 1271, 'Exactly': 1272, 'ago': 1273, 'properly': 1274, 'reviews': 1275, 'Fantastic': 1276, 'beats': 1277, 'Chinese': 1278, 'either': 1279, 'Bad': 1280, 'despite': 1281, 'transceiver': 1282, 'life': 1283, 'Authentic': 1284, 'seamlessly': 1285, 'ATT': 1286, 'D807': 1287, 'Awkward': 1288, 'rest': 1289, 'oozes': 1290, 'locked': 1291, 'another': 1292, 'bubbling': 1293, 'father': 1294, 'charged': 1295, 'Red': 1296, 'unacceptible': 1297, 'save': 1298, 'ITS': 1299, 'majority': 1300, 'unsatisfactory': 1301, 'handy': 1302, 'sucked': 1303, 'son': 1304, 'completely': 1305, 'Far': 1306, 'negatively': 1307, 'SPEAKERPHONE': 1308, 'calls': 1309, 'V325i': 1310, 'unusable': 1311, 'dying': 1312, 'number': 1313, 'material': 1314, 'REAL': 1315, 'bend': 1316, 'doesnt': 1317, 'faster': 1318, 'Angeles': 1319, 'recharge': 1320, 'options': 1321, 'effective': 1322, 'means': 1323, 'today': 1324, 'louder': 1325, 'restocking': 1326, 'continues': 1327, 'range': 1328, 'mention': 1329, 'devices': 1330, 'alone': 1331, 'cable': 1332, 'resolution': 1333, 'terrible': 1334, 'cases': 1335, 'bulky': 1336, 'charger': 1337, 'strong': 1338, 'songs': 1339, 'applifies': 1340, 'CBR': 1341, 'unless': 1342, 'together': 1343, 'loop': 1344, 'preferably': 1345, 'Also': 1346, 'bottowm': 1347, 'great': 1348, 'old': 1349, 'says': 1350, 'plenty': 1351, 'wood': 1352, 'locks': 1353, 'HS850': 1354, 'threepack': 1355, 'Metro': 1356, 'usage': 1357, 'actually': 1358, 'fliptop': 1359, 'needsHandsfree': 1360, 'even': 1361, 'V3i': 1362, 'deaf': 1363, 'company': 1364, 'slipping': 1365, 'humming': 1366, 'tremendous': 1367, 'hate': 1368, 'long': 1369, 'That': 1370, 'Otherwise': 1371, 'clipping': 1372, 'directly': 1373, 'cassette': 1374, 'wallet': 1375, 'Ill': 1376, 'toilet': 1377, 'greater': 1378, 'Print': 1379, 'W810i': 1380, 'part': 1381, 'appearance': 1382, 'Those': 1383, 'of': 1384, 'love': 1385, 'stars': 1386, 'may': 1387, 'seperated': 1388, 'away': 1389, 'shipment': 1390, 'Customer': 1391, 'snug': 1392, 'wouldnt': 1393, 'roles': 1394, 'Plus': 1395, 'microphone': 1396, 'breakage': 1397, 'keypads': 1398, 'oneThis': 1399, 'AFTER': 1400, '3o': 1401, 'more': 1402, 'defect': 1403, 'messes': 1404, 'clicks': 1405, 'roam': 1406, 'apparently': 1407, 'Worst': 1408, 'scary': 1409, 'made': 1410, 'directions': 1411, 'huge': 1412, 'overnite': 1413, 'slim': 1414, 'Product': 1415, 'fingers': 1416, 'low': 1417, 'frequentyly': 1418, 'creaks': 1419, 'sliding': 1420, 'Device': 1421, 'docking': 1422, 'crack': 1423, 'pair': 1424, 'purchasing': 1425, 'exclaim': 1426, 'E2': 1427, 'wearing': 1428, 'Trying': 1429, 'Simple': 1430, 'HOT': 1431, 'instance': 1432, 'Palm': 1433, 'Plantronics': 1434, 'Restored': 1435, 'whatever': 1436, 'E715': 1437, 'purchase': 1438, 'headphones': 1439, 'casing': 1440, 'results': 1441, 'childlike': 1442, 'brand': 1443, 'sync': 1444, 'invented': 1445, 'functional': 1446, 'flaw': 1447, 'to': 1448, 'features': 1449, 'done': 1450, 'data': 1451, 'SERVICE': 1452, 'Yet': 1453, 'SUCKS': 1454, 'PCS': 1455, 'those': 1456, 'mega': 1457, 'specially': 1458, 'overall': 1459, 'exchanged': 1460, 'they': 1461, 'noted': 1462, 'samsungcrap': 1463, 'prettier': 1464, 'hands': 1465, 'slid': 1466, 'favorite': 1467, 'onlyI': 1468, 'slider': 1469, 'probably': 1470, 'Were': 1471, 'show': 1472, 'abhor': 1473, 'inconspicuous': 1474, 'something': 1475, 'getting': 1476, 'installed': 1477, 'scratched': 1478, 'piece': 1479, 'BEST': 1480, 'static': 1481, 'replacement': 1482, 'Lots': 1483, 'WOW': 1484, 'during': 1485, 'V3c': 1486, 'Earbud': 1487, 'carried': 1488, 'PS3': 1489, 'happened': 1490, 'originally': 1491, 'shouldve': 1492, 'dirty': 1493, 'odd': 1494, 'promised': 1495, 'changing': 1496, 'Defective': 1497, 'earpiece': 1498, 'station': 1499, 'clarity': 1500, 'bottom': 1501, 'Media': 1502, 'Displeased': 1503, 'current': 1504, 'experience': 1505, 'AGGRAVATING': 1506, 'placed': 1507, 'MOTO': 1508, 'expectations': 1509, 'Worked': 1510, 'specs': 1511, 'Still': 1512, 'somewhat': 1513, 'replaceEasy': 1514, 'patient': 1515, 'Disapointing': 1516, 'were': 1517, 'clever': 1518, 'onId': 1519, 'gadgets': 1520, 'wonderfully': 1521, 'thats': 1522, 'durable': 1523, 'secure': 1524, 'look': 1525, 'BuyerBe': 1526, 'trouble': 1527, 'timeframe': 1528, 'earphone': 1529, 'unacceptableUnless': 1530, 'Poorly': 1531, 'Really': 1532, 'RAZR': 1533, 'loads': 1534, 'cellphone': 1535, 'Buyer': 1536, 'disappointment': 1537, 'ill': 1538, 'carry': 1539, 'them': 1540, 'switch': 1541, 'Europe': 1542, 'sister': 1543, 'price': 1544, 'Only': 1545, 'Jawbone': 1546, 'Signal': 1547, 'chargelife': 1548, 'breaking': 1549, 'planning': 1550, 'Krussel': 1551, 'Portable': 1552, 'drops': 1553, 'angle': 1554, 'working': 1555, 'fraction': 1556, 'damage': 1557, 'AFter': 1558, 'lasting': 1559, 'saved': 1560, 'There': 1561, 'randomly': 1562, 'like': 1563, 'People': 1564, 'players': 1565, 'ARGUING': 1566, 'got': 1567, 'SIM': 1568, 'Obviously': 1569, 'Life': 1570, 'mediocre': 1571, 'clock': 1572, 'month': 1573, 'recognition': 1574, 'We': 1575, 'Absolutely': 1576, 'rebootsOverall': 1577, 'own': 1578, 'easier': 1579, 'contact': 1580, 'strange': 1581, 'be': 1582, 'consumer': 1583, 'shouldnt': 1584, 'Their': 1585, 'These': 1586, 'Sounds': 1587, 'described': 1588, 'lineanother': 1589, 'but': 1590, 'juiceHighy': 1591, 'Very': 1592, 'Comfortable': 1593, 'Youll': 1594, 'seems': 1595, 'below': 1596, 'So': 1597, 'impressed': 1598, 'soft': 1599, 'funny': 1600, 'noticed': 1601, 'directed': 1602, '2MP': 1603, 'idea': 1604, 'purchases': 1605, 'GX2': 1606, 'comfortible': 1607, 'wind': 1608, 'flimsy': 1609, 'Avoid': 1610, 'model': 1611, 'stay': 1612, 'put': 1613, 'genuine': 1614, 'owneryou': 1615, 'shouting': 1616, 'orders': 1617, 'mere': 1618, 'ft': 1619, 'QWERTY': 1620, 'peachykeen': 1621, 'Absolutel': 1622, 'constructed': 1623, 'beautiful': 1624, 'clips': 1625, 'looks': 1626, 'fits': 1627, 'minute': 1628, 'there': 1629, 'remorse': 1630, 'He': 1631, 'short': 1632, 'should': 1633, 'ergonomic': 1634, 'exceptional': 1635, 'occupied': 1636, 'dialing': 1637, 'around': 1638, 'forever': 1639, 'requirements': 1640, 'neat': 1641, 'neither': 1642, 'satisfied': 1643, 'contract': 1644, 'awesome': 1645, 'connection': 1646, 'BMW': 1647, 'Christmas': 1648, 'drivng': 1649, 'smoother': 1650, 'renders': 1651, 'overnight': 1652, 'miniUSB': 1653, 'manual': 1654, 'takes': 1655, 'cellphones': 1656, 'Problem': 1657, 'cant': 1658, 'totally': 1659, 'allowing': 1660, 'greatno': 1661, 'BlueAnt': 1662, 'realworld': 1663, 'buy': 1664, 'bar': 1665, 'blacktop': 1666, 'mp3s': 1667, 'elsewhere': 1668, 'LOT': 1669, 'no': 1670, 'run': 1671, 'ARE': 1672, 'contacting': 1673, 'disapoinment': 1674, 'dustpan': 1675, 'none': 1676, 'finished': 1677, 'currently': 1678, 'distorted': 1679, 'compliments': 1680, 'S710a': 1681, 'sold': 1682, 'managed': 1683, 'optimal': 1684, 'small': 1685, 'absolutely': 1686, 'transformed': 1687, 'sensor': 1688, 'built': 1689, 'combination': 1690, 'crawl': 1691, 'last': 1692, 'Wireless': 1693, 'DAYS': 1694, 'comfortable': 1695, 'correctly': 1696, 'customer': 1697, 'Comes': 1698, 'Cumbersome': 1699, 'alot': 1700, 'Blue': 1701, 'shape': 1702, 'certain': 1703, 'FOOLED': 1704, 'situations1': 1705, 'CingularATT': 1706, 'read': 1707, 'sharp': 1708, 'stuff': 1709, 'superfast': 1710, 'pleasantly': 1711, 'electronics': 1712, 'bad': 1713, 'extremely': 1714, 'Mic': 1715, 'OK': 1716, 'strip': 1717, 'software': 1718, 'tech': 1719, 'connected': 1720, 'instruction': 1721, 'say': 1722, 'card': 1723, 'both': 1724, 'available': 1725, 'checked': 1726, 'decision': 1727, 'felt': 1728, 'purchased': 1729, 'comfortably': 1730, 'Think': 1731, 'poorly': 1732, 'replaced': 1733, 'EXCELLENT': 1734, 'somehow': 1735, 'trust': 1736, 'amazon': 1737, 'never': 1738, 'leather': 1739, 'earbugs': 1740, 'according': 1741, 'Q': 1742, 'WELL': 1743, 'IM': 1744, 'reasonably': 1745, 'pretty': 1746, 'Basically': 1747, 'happening': 1748, 'clip': 1749, 'severe': 1750, 'frog': 1751, 'noise': 1752, 'catching': 1753, 'cingular': 1754, 'ordering': 1755, 'palmtopcameracellphone': 1756, 'package': 1757, 'wiping': 1758, 'star': 1759, 'convenient': 1760, 'supposedly': 1761, 'flawed': 1762, 'tones': 1763, 'avoiding': 1764, 'WANTED': 1765, 'HATED': 1766, 'reset': 1767, 'Results': 1768, 'found': 1769, 'theres': 1770, 'experienced': 1771, 'videos': 1772, 'inexpensive': 1773, 'feature': 1774, 'mine': 1775, 'because': 1776, 'on': 1777, 'impressive': 1778, 'given': 1779, 'survived': 1780, 'send': 1781, 'OS': 1782, 'going': 1783, 'sending': 1784, 'PROBLEMS': 1785, 'ease': 1786, 'describe': 1787, 'about': 1788, 'sounds': 1789, 'fast': 1790, 'iriver': 1791, 'beeping': 1792, 'iGo': 1793, 'welldesigned': 1794, 'seemed': 1795, 'Painful': 1796, 'gonna': 1797, 'suprised': 1798, 'rare': 1799, 'fit': 1800, 'refurb': 1801, 'stop': 1802, 'accidentally': 1803, 'please': 1804, 'Waste': 1805, 'upandcoming': 1806, 'talking': 1807, 'exercise': 1808, 'thorn': 1809, 'smartphone': 1810, 'nearly': 1811, 'verizon': 1812, 'ring': 1813, 'As': 1814, 'Adapter': 1815, 'OF': 1816, 's': 1817, 'glad': 1818, 'contacted': 1819, 'girl': 1820, 'What': 1821, 'above': 1822, 'market': 1823, 'EVERYONE': 1824, 'Bluetooth': 1825, 'setting': 1826, 'muffled': 1827, 'brilliant': 1828, 'volume': 1829, 'mobile': 1830, 'disappointing': 1831, 'Audio': 1832, 'hair': 1833, 'dont': 1834, 'feel': 1835, 'smell': 1836, 'later': 1837, 'discomfort': 1838, 'nokia': 1839, 'stand': 1840, 'produce': 1841, 'thought': 1842, 'button': 1843, 'havent': 1844, 'Down': 1845, 'metal': 1846, 'has': 1847, 'voice': 1848, 'under': 1849, 'good4': 1850, 'person': 1851, 'all': 1852, 'enter': 1853, 'indoors': 1854, 'first': 1855, 'Who': 1856, 'total': 1857, 'also': 1858, 'smoke': 1859, 'removing': 1860, 'Oh': 1861, 'connecting': 1862, 'coupon': 1863, 'word': 1864, 'ones': 1865, 'though': 1866, 'Construction': 1867, 'extended': 1868, 'goesThe': 1869, 'excels': 1870, 'overly': 1871, 'everyday': 1872, 'loops': 1873, 'access': 1874, 'seller': 1875, 'Good': 1876, 'Reception': 1877, 'ready': 1878, 'fall': 1879, 'Thank': 1880, 'uncomfortable': 1881, 'override': 1882, 'grip': 1883, 'cingulair': 1884, 'hitch': 1885, 'Ericsson': 1886, 'communicate': 1887, 'WHITE': 1888, 'setup': 1889, 'REGARDING': 1890, 'upgrade': 1891, 'Yes': 1892, 'regret': 1893, 'gentletouch': 1894, 'hurt': 1895, 'Save': 1896, 'everywhere': 1897, 'off': 1898, 'phoneBattery': 1899, 'keep': 1900, 'converter': 1901, 'floor': 1902, 'shifting': 1903, 'kitchen': 1904, 'stream': 1905, 'defeats': 1906, 'Cheap': 1907, 'The': 1908, 'missed': 1909, 'Used': 1910, 'Skype': 1911, 'magnetic': 1912, 'detailed': 1913, 'Hoping': 1914, 'couple': 1915, 'communication': 1916, 'fabulous': 1917, 'as': 1918, 'call': 1919, 'tinny': 1920, 'how': 1921, 'internet': 1922, 'bland': 1923, 'buying': 1924, 'form': 1925, 'motorola': 1926, 'I': 1927, 'Service': 1928, 'Excellent': 1929, 'snap': 1930, 'jiggle': 1931, 'must': 1932, 'misleading': 1933, 'wrong': 1934, 'turn': 1935, 'behing': 1936, 'went': 1937, 'JERKS': 1938, 'browsing': 1939, 'Id': 1940, 'factor': 1941, 'happy': 1942, 'started': 1943, 'knock': 1944, 'go': 1945, 'threw': 1946, 'external': 1947, 'coming': 1948, 'darn': 1949, 'Setup': 1950, 'me': 1951, 'except': 1952, 'tryThe': 1953, 'awful': 1954, 'did': 1955, 'front': 1956, 'listening': 1957, 'NYC': 1958, 'handsfree': 1959, 'way': 1960, 'Disappointment': 1961, 'starts': 1962, 'D807wrongly': 1963, 'elegant': 1964, 'dollar': 1965, 'Supertooth': 1966, 'Whoa': 1967, 'gimmick': 1968, 'risk': 1969, 'Made': 1970, 'menus': 1971, 'theyre': 1972, 'cellular': 1973, 'Virgin': 1974, 'fact': 1975, 'Away': 1976, 'Appears': 1977, 'several': 1978, 'TMobile': 1979, 'comfort': 1980, 'functions': 1981, 'play': 1982, 'Transmitters': 1983, 'useless': 1984, 'seriously': 1985, 'ideal': 1986, 'windresistant': 1987, 'forgot': 1988, 'stylish': 1989, 'moving': 1990, 'keeping': 1991, 'item': 1992, 'else': 1993, 'improvement': 1994, 'screen': 1995, 'state': 1996, 'advertised': 1997, 'crackedI': 1998, 'CRAP': 1999, 'study': 2000, 'regarding': 2001, 'Will': 2002, 'synchronization': 2003, 'treo': 2004, 'source': 2005, 'First': 2006, 'securly': 2007, 'travled': 2008, 'instead': 2009, 'unreliable': 2010, 'are': 2011, 'minutes': 2012, 'Piece': 2013, 'anywhere': 2014, 'battery': 2015, 'MP3': 2016, 'dead': 2017, 'soundwise': 2018, 'cradle': 2019, 'any': 2020, 'dropped': 2021, 'ask': 2022, 'usually': 2023, 'plus': 2024, 'hardly': 2025, 'mute': 2026, 'Ever': 2027, 'excessive': 2028, 'messaging': 2029, 'dozens': 2030, 'happier': 2031, 'boot': 2032, 'months': 2033, 'penny': 2034, 'concrete': 2035, 'keyboard': 2036, 'relative': 2037, 'latch': 2038, 'floppy': 2039, 'humans': 2040, 'fond': 2041, 'use': 2042, 'sources': 2043, 'iPODs': 2044, 'Magical': 2045, 'room': 2046, 'JUNK': 2047, 'Please': 2048, 'perhaps': 2049, 'Development': 2050, 'infatuated': 2051, 'Looks': 2052, 'constantly': 2053, 'speed': 2054, 'always': 2055, 'days': 2056, 'pad': 2057, 'Sony': 2058, 'embarassing': 2059, 'ProblemVery': 2060, 'eargels': 2061, 'Great': 2062, 'headbands': 2063, 'bluetooth': 2064, 'sooner': 2065, 'work': 2066, 'Iam': 2067, 'skip': 2068, 'designs': 2069, 'understanding': 2070, 'transfer': 2071, 'Makes': 2072, 'fully': 2073, 'paired': 2074, 'hey': 2075, 'i': 2076, 'infuriating': 2077, 'extra': 2078, 'increase': 2079, 'real': 2080, 'bougth': 2081, 'signs': 2082, 'garbage': 2083, 'tries': 2084, 'night': 2085, 'Never': 2086, 'corded': 2087, 'sucks': 2088, 'LG': 2089, 'comments': 2090, 'apart': 2091, 'obviously': 2092, 'recieve': 2093, 'plug': 2094, 'gels': 2095, 'Integrated': 2096, 'signal': 2097, 'design': 2098, 'whose': 2099, 'ie': 2100, 'Even': 2101, 'From': 2102, 'procedures': 2103, 'inside': 2104, 'Internet': 2105, 'rotating': 2106, 'smoking': 2107, 'push': 2108, 'regretted': 2109, 'allot': 2110, 'came': 2111, 'existing': 2112, 'check': 2113, 'colored': 2114, 'submerged': 2115, 'sound': 2116, 'surprised': 2117, 'ever': 2118, 'unintelligible': 2119, 'Att': 2120, 'basement': 2121, 'goes': 2122, 'exceeds': 2123, 'Arrived': 2124, 'Work': 2125, 'organizational': 2126, 'broken': 2127, 'firstperson': 2128, 'handheld': 2129, 'plugs': 2130, 'joke': 2131, 'good': 2132, 'allows': 2133, 'receive': 2134, 'third': 2135, 'case': 2136, 'numbers': 2137, 'build': 2138, 'Someone': 2139, 'disgusting': 2140, 'pads': 2141, 'shows': 2142, 'Design': 2143, 'haul': 2144, 'EXTREMELY': 2145, 'Lousy': 2146, 'adapters': 2147, 'along': 2148, 'install': 2149, 'blue': 2150, 'Jabra350': 2151, 'once': 2152, 'Has': 2153, 'utterly': 2154, 'phones': 2155, 'less': 2156, 'intermittently': 2157, 'Last': 2158, 'Best': 2159, 'am': 2160, 'it': 2161, 'FOR': 2162, 'date': 2163, 'family': 2164, 'having': 2165, 'ample': 2166, 'set': 2167, 'forced': 2168, 'WORTHWHILE': 2169, 'PHONE': 2170, 'beep': 2171, 'NOKIA': 2172, 'kind': 2173, 'S11': 2174, 'hinge': 2175, 'want': 2176, 'In': 2177, 'Couldnt': 2178, 'puff': 2179, 'operates': 2180, 'normally': 2181, 'Abound': 2182, 'earbud': 2183, 'quality': 2184, 'lasts': 2185}\n"
          ]
        }
      ]
    },
    {
      "cell_type": "markdown",
      "source": [
        "**6. Encode the review data by replacing each word in a review for its paired integer.**"
      ],
      "metadata": {
        "id": "wdMHzEres8Ad"
      }
    },
    {
      "cell_type": "code",
      "source": [
        "encoded_reviews = []\n",
        "for review in df['Reviews']:\n",
        "  encoded_review = [word_to_index[word] for word in review.split() if word in word_to_index]\n",
        "  encoded_reviews.append(encoded_review)\n",
        "\n",
        "print(encoded_reviews)\n"
      ],
      "metadata": {
        "colab": {
          "base_uri": "https://localhost:8080/"
        },
        "id": "FwcpdDjzstGM",
        "outputId": "b4c19701-7fb7-40a9-c3a5-442897e4840a"
      },
      "execution_count": 10,
      "outputs": [
        {
          "output_type": "stream",
          "name": "stdout",
          "text": [
            "[[1597, 1629, 1101, 1670, 1960, 837, 1951, 1448, 2094, 2161, 418, 877, 418, 473, 739, 1342, 1927, 1945, 130, 280, 1901], [1876, 2136, 1929, 918], [2062, 837, 473, 224], [348, 1448, 1337, 837, 9, 1559, 1402, 692, 410, 1785], [1908, 784, 1101, 1348], [1927, 1268, 1448, 1931, 473, 2094, 1448, 282, 2161, 1448, 597, 407, 493, 1448, 282, 852, 1829], [213, 1028, 1268, 1978, 103, 1129, 1978, 223, 240, 810, 1019, 473, 183, 1384, 1784, 95, 1384, 1540, 952, 130, 952], [213, 1028, 2011, 404, 1615, 1932, 1268, 860], [277, 1448, 1722, 1927, 325, 174, 678], [1821, 280, 933, 1384, 678, 302, 605], [1077, 473, 2116, 2184, 1101, 1348], [1631, 51, 901, 1598, 150, 1783, 323, 473, 1086, 2015, 1448, 473, 1868, 2015], [213, 473, 1176, 1517, 1388, 130, 280, 1618, 1619, 1927, 1943, 1448, 647, 2028, 1481, 302, 335, 2116, 323, 473, 375], [1592, 2132, 2184, 1866], [1908, 2098, 1101, 901, 1494, 1918, 473, 1209, 1749, 1101, 195, 901, 1695, 1033, 1852], [543, 193, 837, 2020, 952, 970, 1847, 280, 2150, 22, 971], [1927, 1130, 1824, 314, 208, 859, 1704], [1597, 1306, 1597, 1876], [808, 1348], [634, 1405, 250, 303, 418, 280, 1960, 681, 697, 1028, 1199, 1921, 1369, 681, 960, 98, 1692], [1927, 1937, 1777, 1085, 623, 302, 771, 1852, 1411, 1590, 873, 195, 282, 2161, 1448, 1424, 346], [1927, 211, 860, 1448, 2042, 1046, 174, 158, 13, 302, 1686, 657, 2161], [1908, 101, 2011, 473, 913, 1933], [1927, 1268, 903, 1448, 1671, 860, 54, 2015, 1596, 1176, 762, 302, 1522, 124, 2056, 1066, 735], [1927, 211, 2161, 837, 174, 728, 302, 878, 1052, 280, 1140, 1046, 473, 2015], [2062, 709, 999, 971, 1690], [342, 1044, 860, 971, 837, 2033, 676, 302, 432, 1722, 681, 897, 473, 1241, 1830, 971, 342, 1052], [1927, 319, 1014, 681, 473, 1099, 433, 1517, 915, 1448, 1951], [1564, 45, 336, 1951, 883, 302, 1927, 1052, 1448, 921, 414, 473, 1529, 302, 883, 1777, 473, 971], [633, 688, 742], [76, 1101, 280, 1169, 1025, 971, 1448, 2042, 1590, 473, 1397, 1101, 1297], [76, 80, 1101, 1986, 837, 958, 1563, 1951, 2099, 263, 2011, 901, 203], [634, 1101, 1311, 418, 280, 1990, 71, 1033, 667, 2054], [1927, 1268, 1176, 1402, 351, 905, 418, 860, 1644, 302, 1927, 1368, 860, 971], [671, 1337, 1918, 829, 1918, 972, 1337, 2011, 1173, 1448, 479, 482, 1028, 1738, 1671, 414, 1384, 1591, 21], [557, 1247, 1033, 1224, 1081, 1448, 282, 1448, 478, 971, 1225, 323, 473, 605, 1028, 1855, 1935, 1777, 473, 1899, 1283, 1101, 1632], [634, 1847, 144, 407, 901, 829], [886, 420, 946, 90], [1908, 2136, 1101, 1348, 302, 1253, 1240, 1046, 473], [938, 80], [634, 1847, 280, 1348, 205, 1522, 1603, 302, 473, 985, 2011, 1150, 302, 428, 1046, 1348, 1036, 2184], [1927, 51, 195, 1598, 130, 860, 80], [246, 375, 734, 493], [1927, 44, 336, 2083, 837, 799], [1929, 2064, 375], [634, 1847, 1852, 473, 1449, 1927, 2176], [1856, 418, 291, 493, 995, 1101, 1797, 1664, 860, 2015], [1400, 1566, 305, 438, 1890, 559, 84, 225, 274, 1071, 559, 296, 1400, 243, 1694], [76, 2136, 1595, 829, 1410], [154, 1046, 2015], [660, 353, 966, 302, 1317, 1935, 1777, 1563, 2161, 1633], [2132, 425, 302, 508, 195, 479, 971, 1120, 1336], [795, 230, 2036, 1358, 1141, 280, 562, 250, 280, 1663, 128, 334, 2009, 1384, 1108, 280, 1641, 1218], [76, 971, 1101, 1746, 523, 302, 342, 1738, 1052, 2020, 1161, 1124, 1046, 2161], [1927, 1385, 860, 1031], [1038, 1788, 2161, 1101, 1240, 302, 871, 837, 473, 1544, 2100], [776, 168], [1927, 1361, 2021, 860, 971, 250, 280, 1905, 302, 2161, 51, 2115, 837, 87, 302, 2161, 727, 1253, 1348], [1927, 1268, 355, 901, 1942, 1046, 473, 302, 1268, 1052, 1039, 339, 323, 2020, 952, 2001, 174, 2116, 2184, 1777, 291, 241], [1908, 457, 837, 1777, 302, 1898, 2011, 1713], [749, 1028, 432, 1205, 588, 1719, 49], [1927, 137, 193, 860, 934, 767, 2161, 1626, 901, 1150, 1964, 302, 364], [1586, 1439, 1517, 280, 1348, 121, 302, 1927, 1014, 1461, 2011, 2049, 473, 1241, 1438, 342, 1410, 418, 473, 1692, 1978, 351, 1985], [382, 280, 722, 971, 1590, 195, 860], [557, 1268, 1448, 688, 473, 971, 1033, 280, 1249, 1554, 837, 473, 248, 189, 1448, 336, 1028, 1045], [1908, 952, 986, 402, 1384, 473, 2016, 172, 1101, 681, 473, 457, 1777, 473, 2155, 1956, 254, 681, 315, 1028, 507, 302, 2068, 1339, 266, 414, 347, 280, 483, 87], [795, 292, 1837, 347, 1927, 1147, 2161, 2161, 69, 613], [634, 1188, 1402, 1695, 692, 913, 218, 1776, 1927, 1223, 1193, 302, 681, 939, 418, 473, 1960, 801], [2062, 837, 2044, 1120], [76, 109, 1101, 1348, 418, 1978, 1705], [1715, 633, 2066], [2101, 418, 174, 1647, 341, 780, 1101, 555, 1104, 1927, 1268, 1527, 73, 565, 473, 248, 1851, 1101, 889], [2062, 1153], [246, 1422, 1499, 837, 1060, 1129, 2066], [76, 1101, 280, 1624, 971], [170, 860, 80], [714, 660, 382, 837, 1963, 1997, 837, 1287], [76, 1101, 280, 1348, 1025, 1992], [1927, 1385, 860, 971, 634, 1101, 901, 1302, 302, 1847, 280, 850, 1384, 1449], [1927, 1729, 860, 302, 226, 2056, 2161, 51, 1670, 148, 1555], [1927, 1223, 2161, 1872, 302, 2161, 506, 407, 901, 829], [660, 280, 2132, 750], [1100, 380, 821, 1777, 605, 302, 1253, 1918, 29], [1908, 2015, 822, 1, 1198], [76, 1992, 620, 1348, 1590, 2161, 1244, 347, 2033, 1384, 2042], [1908, 218, 2011, 475, 1448, 2042, 302, 92, 816, 1540], [76, 971, 1253, 1348], [1908, 823, 1384, 473, 218, 1101, 38], [1415, 51, 459, 302, 1253, 884, 692, 473, 1812, 952, 302, 675, 51, 2161, 800], [1908, 971, 1534, 1053], [1018, 280, 80, 681, 844, 1918, 232, 1918, 860, 952, 508, 1927, 454, 2161, 1448, 2066, 490, 884, 302, 1046, 1378, 1786, 692, 860, 1031, 508], [1970, 901, 523], [1510, 1348], [1908, 1209, 8, 44, 1982, 705, 418, 952, 1209], [707, 933, 478, 678], [2002, 596, 323, 1540, 346], [213, 1028, 815, 1448, 2042, 860, 418, 280, 71, 1205, 1788, 2161], [1927, 1769, 860, 80, 1448, 1582, 1236, 1120, 986], [2159, 342, 1769, 845, 490, 342, 468, 248, 465, 302, 860, 952, 1847, 473, 1241, 2184, 837, 1724, 1951, 302, 473, 220, 1918, 829, 1918, 1786, 1384, 1207], [1002, 901, 731, 1046, 174, 1727], [2096, 1285, 1046, 473, 295, 1533, 971], [1536, 1258, 1028, 873, 4, 678, 493, 1, 473, 1377], [553, 280, 750], [1908, 1544, 51, 901, 2132, 302, 1046, 473, 1170, 589, 302, 1852, 2161, 51, 280, 2132, 1438], [1927, 701, 174, 1761, 54, 1926, 302, 1407, 1629, 51, 195, 280, 108, 390, 473, 971, 302, 473, 1337], [488, 205, 901, 1150, 756, 1858, 1847, 364, 155, 1563, 125, 302, 1055, 302, 1402], [1128, 280, 1412, 2098, 1447, 1342, 1002, 195, 1207, 2161, 1696, 780, 1927, 1834, 1014, 1101, 473, 2136], [1927, 1385, 174, 375, 914, 2151, 2064, 375, 1101, 1348, 473, 119, 1101, 901, 2132, 302, 473, 1209, 1479, 1101, 280, 1695, 1800], [1908, 205, 841, 53, 1033, 1178, 1778, 805, 1651, 577, 681, 1879, 829, 1596, 1509, 1384, 686, 280, 988, 627, 1333], [1927, 989, 860, 837, 473, 71, 1337, 302, 2161, 508, 195, 2066], [114, 2184, 1777, 1724, 241, 1101, 459, 1927, 2042, 375, 1448, 1919, 174, 67, 302, 2022, 174, 67, 1448, 2042, 375, 1448, 1919, 1951], [76, 971, 1101, 1414, 302, 752, 302, 473, 712, 1101, 1624], [897, 280, 1025, 570, 1590, 2076, 1014, 1522, 897, 945, 1777, 1213, 302, 2161, 245, 302, 1290, 945, 493, 1, 1448, 897, 2015, 1238, 209, 1989, 1739, 2136], [2062, 80, 1790, 589], [1576, 1348], [1908, 2036, 1101, 280, 1150, 1103, 390, 280, 1149, 1620, 302, 473, 1115, 1186, 971, 1313, 1062], [2076, 1567, 860, 971, 1638, 473, 241, 1384, 1387, 302, 793, 1305, 547, 1046, 2161], [634, 1101, 901, 1695, 1777, 473, 1209], [634, 1847, 355, 280, 861, 837, 1092], [1950, 45, 1268, 355, 1191], [342, 468, 1978, 722, 424, 837, 174, 1186, 971, 302, 860, 1175, 952, 1101, 473, 1855, 952, 342, 1769, 681, 1627, 174, 1209, 1730], [460, 195, 282, 1338, 966, 2097], [2067, 901, 702, 1046, 174, 1438], [1280, 1194], [991, 473, 261, 1450], [2062, 799], [1747, 473, 236, 51, 901, 1713], [2161, 1955, 195, 2066, 418, 174, 1186, 971, 2094, 2076, 2160, 901, 407, 2167, 1046, 473, 1337], [342, 44, 1052, 174, 2064, 837, 280, 483, 1087, 1590, 1927, 137, 1563, 2161], [1908, 779, 375, 51, 686, 280, 1674], [634, 1101, 845, 1685, 302, 1028, 1834, 1361, 1000, 681, 2161, 1101, 1629, 347, 280, 1187, 1384, 1476, 650, 1448, 2161], [1908, 656, 1718, 1101, 969, 1828], [1158, 1253, 1348, 51, 380, 70, 1448, 757, 2020, 1557], [1927, 1189, 193], [1526, 1592, 670], [1908, 1300, 1384, 473, 894, 2183, 218, 787], [1592, 2132, 1709, 837, 473, 1544], [914, 375, 1253, 1108, 1621], [2177, 174, 83, 1927, 51, 1476, 2021, 46, 725, 302, 1670, 46, 418, 174, 2121], [443, 1574, 1101, 1367], [1821, 280, 933], [470, 1978, 722, 1628, 1309, 1927, 1771, 1553, 302, 2161, 51, 418, 1178, 640, 681, 1052, 762], [1927, 51, 195, 1942, 1046, 860, 1992], [901, 731], [1908, 971, 1655, 927, 1448, 742, 1563, 1448, 237, 990], [1927, 1567, 860, 971, 1777, 720, 323, 280, 2037, 302, 1002, 1818, 1927, 1955], [1821, 280, 933, 1384, 605], [599, 119, 1101, 901, 901, 38], [1145, 1030, 1918, 1173, 323, 473, 338, 1672, 208, 965], [1264, 2033, 1995, 1108, 1937, 125, 1852, 1384, 280, 1235], [1927, 738, 1914, 837, 534], [1832, 1194, 1101, 38, 901, 38], [1927, 1052, 1686, 1670, 1140, 1046, 860, 375, 276, 1448, 174, 452, 366], [1927, 401, 681, 1789, 1600, 1590, 1448, 1951, 2161, 1795, 1563, 288, 491, 681, 1393, 2066, 673, 860, 952, 1253, 1348], [342, 211, 105, 1439, 681, 2116, 884, 692, 804], [76, 971, 1101, 901, 1790, 1046, 1784, 2020, 2173, 1384, 1126, 302, 584, 1939, 1101, 371, 1318, 692, 802, 2155, 2076, 1268, 650], [246, 2184, 2138, 310, 576, 19, 1817, 414, 1629], [76, 1992, 1101, 299, 302, 1253, 199], [1077, 1927, 1108, 1385, 473, 242], [1380, 1101, 1108, 546], [695, 1927, 432, 919, 1101, 447, 1777, 473, 2105, 845, 877, 2161, 1869, 1402, 1927, 2042, 473, 1031, 473, 2156, 1927, 1563, 2161], [2062, 1337], [76, 1101, 268, 280, 947, 93, 681, 508, 195, 1887], [808, 1563, 280, 831, 2161, 2066, 473, 978, 1918, 473, 952, 1927, 1567, 1046, 473, 971], [1927, 727, 318, 681, 368, 1584, 479, 1439, 25, 1108, 2092, 1834, 652, 966, 461, 1448, 942, 473, 2098, 196, 1448, 2040], [2062, 1162], [633, 2066, 1033, 1852, 1927, 2081, 2161, 837, 174, 0, 302, 897, 195, 1555], [1908, 1525, 1384, 2161, 1101, 901, 1708, 302, 473, 1995, 1101, 1150, 302, 428, 1046, 1348, 611], [1317, 1692, 1369], [17, 1031, 1927, 1368, 1101, 473, 512, 2167, 1843, 1033, 473, 91], [1734, 1452], [1880, 1028, 837, 983, 174, 678], [984, 432, 681, 592, 799, 2184, 1101, 38], [1908, 1793, 65, 302, 94, 2011, 137, 1348], [1908, 406, 309, 1005, 1852, 473, 1321, 681, 952, 1360, 1101, 1348], [412, 502, 1777, 280, 2062, 1127], [1927, 1720, 174, 541, 1164, 1354, 1448, 174, 971, 302, 2161, 620, 1563, 280, 831, 112, 473, 971, 51, 418, 174, 863, 1129, 473, 2136], [1927, 1613, 473, 252, 1782, 1777, 2161, 26, 302, 2161, 676, 524, 1448, 585, 1448, 280, 1691, 302, 266, 407, 1267, 2152, 418, 280, 1187], [634, 44, 227, 473, 502, 1918, 897, 440, 109], [213, 1028, 1563, 280, 353, 948, 1448, 1882, 1852, 478, 9, 810, 860, 971, 1101, 837, 1028], [707, 1664, 860, 80], [342, 1052, 860, 1134, 375, 837, 576, 605, 676, 302, 727, 195, 1695, 1046, 473, 1960, 2161, 1627, 1777, 473, 1209], [1908, 2116, 2184, 1101, 2132, 302, 421, 1101, 1645], [1927, 1268, 860, 971, 302, 2161, 1101, 280, 1809, 418, 174, 91, 1927, 137, 1473, 2161], [1927, 1059, 1052, 1124, 741, 1927, 873, 195, 1612, 1720, 837, 1402, 692, 2012, 1131, 563, 262], [1137], [2143, 1132], [2062, 971], [1805, 1384, 668], [1202, 150, 1927, 2113, 1848, 710, 1033, 2085, 473, 1062, 88, 1141, 1898, 280, 483, 87, 250, 473, 1855, 1212, 302, 810, 1002, 976], [1908, 1482, 613, 418, 280, 483, 1087], [587, 1813, 533, 2132, 971, 1448, 1664], [843, 1461, 1268, 355, 1714, 1150, 302, 915, 1777, 473, 971], [1927, 1268, 1052, 1124, 57, 1230, 1017, 2097, 302, 1402], [660, 1598], [1015, 840, 1927, 2025, 647, 2161, 1101, 1629], [1594, 1385, 1921, 778, 2161, 1101], [1280, 145], [1908, 847, 2136, 1317, 1800], [1984, 971, 177, 1363], [1908, 609, 1101, 1361, 1464, 692, 1927, 1842, 2161, 98, 1582, 302, 473, 611, 2011, 503, 1708], [695, 418, 1852, 1927, 1014, 2161, 51, 280, 2132, 317], [634, 697, 901, 1581, 1010, 1152, 1131, 2161, 803, 473, 1919], [1908, 1241, 1712, 1384, 473, 1725, 1200, 1983], [272, 2185, 44, 280, 483, 237], [1348, 375, 901, 1598, 60], [1908, 1457, 856, 205, 563, 280, 1381, 1384, 280, 971, 1101, 1745, 1190], [342, 1052, 860, 837, 1811, 351, 302, 2161, 1847, 620, 1348, 837, 1951], [1876, 1051, 799], [1575, 2011, 1784, 2161, 175], [1927, 1955, 195, 792, 1673, 473, 1364, 837, 483, 1965, 80, 1590, 1927, 207, 473, 1097, 681, 1927, 1633, 195, 1268, 211, 860, 1925, 1166, 343], [213, 1028, 1368, 1740, 757, 860, 971, 130, 1852, 1323], [2062, 1544, 1858], [1908, 1328, 1101, 901, 852, 342, 355, 173, 1448, 1406, 1638, 174, 83, 1046, 473, 971, 418, 473, 64, 2046, 1046, 1670, 1061, 2184, 55], [1790, 236], [1927, 98, 446, 193, 860], [1927, 98, 193, 860], [1927, 1858, 319, 1563, 473, 1777, 1843, 2161, 1728, 1563, 2161, 98, 1423, 1046, 2042], [1148, 2170, 964], [1002, 727, 2051, 1046, 860, 971], [68, 77], [599, 2173, 1384, 548, 1448, 2042, 1776, 1384, 1921, 2161, 1626, 302, 982, 897, 548, 1921, 1442, 473, 1364, 1101], [1430, 405, 302, 1348, 1800], [695, 418, 1852, 1940, 904, 280, 884, 1583, 1505, 323, 295], [545, 280, 320, 47, 2116, 418, 473, 774, 1777, 1852, 174, 1309, 681, 1927, 1268, 1738, 1771, 1131], [1586, 2011, 1075, 901, 1695, 302, 421, 1101, 852], [1927, 2023, 1834, 1563, 2063, 1590, 860, 952, 1101, 901, 405, 1317, 866, 407, 174, 1833], [1002, 280, 40, 731], [1927, 1268, 1052, 860, 971, 837, 196, 280, 166, 676, 302, 1927, 300, 450, 1028, 897, 195, 681, 1348], [1927, 235, 860, 837, 505, 1886, 1380, 1590, 1927, 1014, 2161, 44, 620, 2152, 1522, 150, 1927, 1855, 650, 2161], [1908, 2015, 1101, 1305, 1984, 1448, 1951], [1821, 280, 986, 933, 1384, 605], [707, 933, 478, 1777, 860, 952], [2062, 2116, 302, 236], [1532, 702, 1046, 860, 80, 845, 490], [17, 1384, 174, 1467, 1605, 2118], [1241, 2064, 1777, 473, 1823], [1284, 1739, 1046, 1150, 992, 302, 1980, 1927, 193, 1028, 860, 2136], [1927, 51, 901, 885, 1448, 282, 860, 375, 1776, 1927, 1842, 2161, 51, 137, 899], [714, 195, 479, 473, 978, 269, 1918, 1951], [937, 1961, 1046, 307, 1444], [473, 971, 51, 1311, 302, 51, 195, 54], [1408, 1391, 1928, 2027], [180, 35, 1209, 2095, 433, 302, 1670, 1099, 530], [634, 1906, 473, 891, 1384, 280, 2064, 375], [759, 1267, 2034], [1929, 1375, 58, 971, 2136], [246, 1439, 837, 473, 1544, 302, 1461, 2066, 1348], [2105, 1101, 1096, 585], [634, 1101, 901, 1695, 1448, 1223, 1918, 829, 780, 1101, 1470, 473, 913, 535, 882, 1788, 1207, 280, 2136], [599, 1627, 1563, 280, 540, 302, 1101, 1338, 1524, 302, 1523], [326, 174, 998, 473, 1241, 971, 1927, 1268, 2118, 1052], [599, 901, 439, 302, 331, 1448, 1582, 1384, 2132, 2184], [1927, 1385, 1852, 473, 1449, 302, 1925, 1941], [76, 80, 1052, 280, 1338, 369, 1836, 681, 51, 755, 347, 280, 1187, 302, 397, 1951, 1448, 598, 2161], [38, 2184, 302, 236], [1908, 1332, 1626, 845, 778, 302, 1609, 2161, 1101, 1409], [2062, 1004], [1929, 1465, 1170, 93], [2062, 837, 1207, 1046, 478, 1060, 573], [1876, 80, 215, 918], [1545, 1052, 860, 280, 1573, 1590, 897, 620, 1233, 845, 490], [808, 1348], [1622, 1192], [455, 952, 319, 2066, 1279], [272, 1283, 1101, 2080, 2132], [1047, 237, 1837], [599, 280, 1348, 1992], [707, 933, 478, 678], [170, 860, 375], [660, 44, 300, 2161, 828, 478, 172, 1590, 1387, 1858, 349, 1135, 2161], [1510, 199], [630, 1002, 190, 407], [1927, 912, 2161, 1386, 1776, 1384, 473, 2116, 2184], [1610, 860, 952, 39, 1028, 432], [352, 2094, 1253, 1348], [1927, 325, 174, 1025, 678, 1046, 860, 1498], [1592, 2132, 971], [2159, 1384, 1852, 1101, 473, 2106, 1774, 901, 915], [1027, 837, 791, 1163, 2164], [1876, 80, 2132, 1875], [1927, 1385, 860, 2064], [2006, 1384, 1852, 2161, 1317, 1223, 829], [1927, 2160, 901, 1598, 1046, 860, 375, 323, 1434], [1927, 1567, 2161, 1776, 2161, 51, 845, 1685, 302, 745], [2062, 971], [1927, 1393, 193, 1924, 860, 80], [2013, 1384, 853], [1531, 441, 2175], [76, 1992, 1101, 1348, 1477, 2161, 315, 2161, 1295, 407, 1413, 302, 2161, 1847, 355, 1555, 2132, 1267, 767, 1046, 1670, 1124], [2062, 502], [707, 1664, 2161], [1929, 502], [314, 208, 621, 602, 2170], [1908, 1848, 1574, 253, 473, 1082, 1101, 459], [76, 1101, 1465, 1, 473, 1241, 971, 342, 2118, 1052], [808, 1348, 150, 174, 754, 858, 473, 971, 777, 1478, 473, 895, 1717, 2009, 1384, 210, 473, 1995], [76, 952, 1253, 302, 51, 734, 493], [1391, 236, 51, 1334], [272, 1283, 727, 195, 1369, 966, 418, 295, 1242, 1362], [437, 2161, 175], [377, 1927, 401, 681, 1927, 1410, 280, 1067, 1727], [2139, 1492, 1445, 860, 2065], [1876, 1544], [1038, 620, 1777, 473, 1855, 1953, 109, 51, 1075, 642, 418, 280, 1518, 1960, 302, 473, 823, 1188, 2132], [1927, 701, 2161, 1198, 302, 2161, 1253, 1348], [2153, 355, 1555, 1348], [1814, 544, 958, 229, 1927, 1769, 860, 218, 1396, 51, 901, 134], [914, 345, 1349, 1109, 323, 902, 506, 473, 742, 280, 850, 884, 692, 860], [769, 919, 195, 1105, 1788, 473, 1583, 952, 40], [76, 1101, 280, 2132, 2015, 302, 2161, 1567, 877, 137, 1790], [1908, 1721, 1654, 1101, 920], [1346, 897, 1414, 966, 1448, 1800, 250, 174, 872, 1572, 1422, 1499, 1066, 1860, 473, 2136], [502, 676, 506, 742, 1563, 2161, 1955, 150, 2161, 51, 54], [1908, 2015, 1101, 2010, 1918, 829, 1918, 473, 236, 2042, 1216], [599, 1881, 302, 473, 2116, 2184, 1101, 1042, 38, 1026, 1046, 473, 971, 404, 1129, 1046, 174, 802, 105, 375, 681, 951, 250, 1178, 2089], [1575, 1268, 556, 280, 850, 1384, 1680, 1777, 2161], [76, 1101, 1263, 280, 1932, 1268, 39, 478, 1996, 508, 195, 72, 1186, 971, 1357, 1187, 941], [1927, 2176, 174, 678, 175], [1927, 1385, 860, 109], [1927, 2160, 1858, 901, 1942, 1046, 473, 1544], [1927, 235, 860, 80, 1855, 302, 51, 547, 1046, 2161, 529], [1908, 812, 1101, 727, 920, 418, 1219], [1927, 51, 173, 1448, 919, 1848, 1637, 418, 473, 71, 1046, 1670, 1140], [1927, 1268, 762, 1777, 174, 1186, 971, 150, 1927, 2160, 1060, 1590, 1028, 1658, 195, 336, 604], [2132, 1992, 1417, 1544], [1185, 880, 2011, 195, 473, 1241, 302, 1642, 2011, 473, 521], [1908, 2094, 1955, 195, 2066, 901, 829], [723, 1454], [426, 1898, 910, 742, 589], [776, 1695], [1908, 2015, 1101, 1555, 829, 1918, 280, 1482, 837, 473, 1086, 681, 2111, 1046, 473, 971, 196, 351, 1273], [1908, 119, 1101, 459], [634, 1627, 1730, 418, 1279, 1209, 473, 2116, 1101, 428, 302, 353, 302, 473, 742, 2185, 280, 1915, 1384, 2056], [901, 428, 2184, 2116, 302, 1028, 1834, 1268, 1448, 866, 1046, 473, 2116, 1777, 478, 1049, 767, 1028, 1268, 473, 2116, 457, 1777, 473, 375], [1369, 1559, 2015, 1028, 1834, 1268, 1448, 1320, 2161, 1918, 1418, 1918, 576, 1384, 473, 122, 1177], [1569, 1629, 1101, 280, 1140, 1046, 473, 869], [1592, 1831], [634, 51, 1178, 1773, 1479, 1590, 1927, 98, 727, 1268, 904, 884, 2184], [634, 1101, 1076, 1984, 302, 1955, 195, 689, 2020, 2173, 1384, 110, 1448, 174, 119, 347, 1927, 211, 2161], [1929, 2116, 2184], [738, 195, 1942], [795, 867, 1816, 2047, 455, 590, 1400, 1222, 1250, 1157, 2170, 2162, 1694], [308, 272, 1253, 1348, 418, 971], [1408, 1697, 236], [342, 2021, 174, 971, 1402, 708, 692, 1927, 432, 1722, 1361, 1777, 2035, 302, 174, 971, 1101, 727, 1348, 1944, 1777, 1352], [1877, 1101, 1334, 302, 1149, 1384, 1481], [1876, 799, 2184], [76, 1025, 109, 1847, 1687, 174, 2126, 888, 302, 1410, 174, 1283, 280, 1163, 850, 1579], [1927, 51, 400, 418, 174, 1237, 1046, 473, 2019, 1777, 174, 900, 302, 473, 375, 976, 2097], [1471, 1938, 1777, 473, 971], [808, 1563, 280, 831, 808, 1918, 1997], [1593, 246, 732, 1876, 272, 1570], [1585, 896, 46, 418, 498, 1319, 1101, 320], [1929, 893, 167, 375], [1908, 32, 132, 1101, 1348, 473, 1144, 1046, 473, 916, 1101, 901, 1139], [1908, 44, 1031, 681, 1927, 1014, 873, 27, 1101, 473, 2116, 703, 414, 323, 473, 375], [2006, 1898, 473, 119, 2088, 1927, 1268, 1738, 1052, 1402, 692, 762, 2118], [1908, 971, 939, 2145, 1431], [1908, 1396, 1858, 1253, 829, 1590, 1741, 1448, 958, 1927, 1268, 52, 2161, 1340, 632], [246, 2098, 302, 2184], [1346, 39, 478, 971, 1101, 2021, 860, 2136, 1101, 195, 1783, 1448, 1298, 2161, 1458, 150, 2021, 949, 1], [634, 1101, 752, 475, 1448, 2042, 302, 1847, 901, 428, 119, 302, 696], [1713, 1800, 1960, 1120, 986], [634, 1263, 51, 195, 1918, 2132, 1918, 174, 2174], [1645, 109], [1805, 1384, 678], [1927, 1052, 235, 280, 1926, 1451, 1332, 1567, 280, 901, 829, 1677, 302, 1555, 80], [170, 76, 502], [1927, 51, 423, 837, 860, 375, 837, 280, 1369, 605, 302, 676, 681, 342, 1567, 2161, 1927, 45, 1582, 2031], [1376, 1582, 1649, 2148, 302, 174, 375, 1962, 85, 837, 1670, 283], [1093, 1101, 459, 302, 205, 1101, 1918, 2132, 1918, 2020, 323, 681, 166], [272, 1283, 1101, 1858, 1348], [1908, 500, 971, 342, 2118, 1052, 1545, 1052, 2161, 837, 280, 483, 2033], [660, 280, 2132, 1992, 634, 620, 837, 280, 1187, 810, 1943, 2165, 1124, 418, 174, 1151, 188, 1035, 172], [76, 1101, 845, 2059, 302, 1858, 174, 263, 1895, 39, 1927, 386, 1448, 2108, 473, 1209, 2094, 250, 174, 1209], [531, 473, 971, 1777, 1852, 436], [76, 1101, 280, 776, 176, 971, 1046, 1713, 2015, 1283, 681, 2180, 1777, 280, 134, 896], [28, 1911, 37, 684, 272, 1570, 684, 732], [1098, 491, 2088], [2062, 635, 906, 1421], [1028, 432, 1361, 968, 1184, 116, 1046, 473, 102, 625, 712, 901, 364], [525, 1140, 1918, 876, 1268, 499], [1264, 571, 544, 544, 1959, 1520, 860, 1101, 473, 952, 681, 1269, 1253, 829], [2045, 487], [1908, 500, 1479, 1384, 572, 2118, 2148, 1046, 473, 329, 1697, 236], [886, 2116, 2184], [1908, 1241, 971, 418, 1823], [634, 620, 901, 829], [1908, 1364, 560, 174, 80, 901, 504, 302, 2161, 1253, 829], [1272, 565, 1927, 1179], [1908, 1036, 1333, 1101, 490, 1596, 565, 248, 476, 2155, 2011, 617, 1324], [76, 1101, 280, 1348, 1227], [1929, 80, 1927, 2160, 901, 1643, 1046, 473, 1438], [1927, 446, 193, 804, 302, 398, 958, 1448, 693, 1540, 280, 386], [809, 692, 654, 454], [892, 1852, 424, 905, 1129, 493, 860, 1031, 300, 195, 1612, 1777, 174, 1209], [2062, 80, 302, 1544], [1587, 2132, 1745, 734, 302, 1322, 599, 681, 1169], [1512, 746, 1002, 482, 860, 1992, 98, 2066, 829, 39, 1927, 2118, 2093, 2161], [565, 280, 1537], [1592, 251, 236], [1929, 80, 837, 473, 1544], [1592, 702, 1046, 860, 375], [1834, 933, 478, 678, 302, 605], [1927, 1034, 1385, 473, 1369, 2015, 1283], [599, 845, 1090, 1448, 1268, 1448, 1900, 1924, 54, 65, 71, 65, 214, 1439, 302, 71, 497, 1267, 605, 280, 54, 971, 376, 414], [808, 1348], [1434, 1825, 212, 382], [1927, 2111, 196, 323, 329, 1776, 1884, 1847, 186, 1186, 2155, 473, 1855, 1031, 1927, 1601, 51, 473, 137, 1713, 236], [1376, 1582, 423, 837, 280, 54, 1498], [1927, 446, 193, 860, 109, 1448, 92], [1546, 279, 1101, 1645, 1120], [1575, 701, 280, 1888, 2114, 2015, 681, 2122, 1246, 347, 280, 1915, 244, 1086, 650, 1448, 1692, 280, 292, 1590, 727, 2185, 148, 692, 616], [1264, 280, 166, 473, 2015, 1937, 1305, 2017, 1777, 174, 375], [1927, 1268, 650, 1978, 971, 418, 1176, 351, 1590, 860, 952, 1101, 473, 1241], [333, 519, 308, 1072, 1018, 1271], [76, 1101, 473, 1855, 971, 342, 1052, 681, 1847, 355, 845, 980, 1410], [2120, 1101, 195, 428, 2116, 1101, 901, 1679, 302, 1028, 1268, 1448, 1168, 150, 1028, 883], [1908, 761, 637, 137, 475, 1777, 860, 1749], [34, 1101, 2132, 1120], [707, 479, 473, 978, 269, 1927, 1955], [1861, 302, 1927, 1988, 1448, 1858, 1329, 473, 591, 609, 775, 2161, 1847, 1777, 478, 971], [1002, 1207, 2161, 1046, 1178, 1791, 284, 1046, 2136, 302, 2161, 1627, 1240], [1346, 473, 640, 741, 174, 1040, 1244, 1002, 195, 1120, 2041, 1384, 473, 1912, 416], [909, 1927, 2160, 41, 1448, 1268, 280, 971, 780, 1847, 1852, 174, 1142, 302, 240, 418, 302, 939, 1348, 119], [1267, 1031, 1777, 971, 2066, 199, 878, 1563, 2161], [427, 289, 1788, 860, 2155, 1382, 1101, 681, 2161, 137, 1626, 820, 1923, 1034, 418, 473, 1852, 125, 1611], [1299, 82, 923], [914, 36, 1847, 1780, 2030, 1384, 1553, 1777, 1666, 1066, 1538, 775], [1276, 273], [634, 567, 174, 1186, 971, 493, 1389, 150, 1927, 1853, 473, 71], [677, 1194], [1927, 446, 193, 860, 133, 734, 1973, 971], [1202, 2161, 508, 282, 884, 119, 302, 1500, 692, 2020, 971, 342, 1052, 1131], [471, 1251, 1389], [1927, 293, 1927, 873, 598, 473, 1040, 302, 282, 175, 174, 678], [1182, 1421, 808, 2062], [1927, 650, 1448, 883, 1777, 2161, 837, 237, 302, 473, 2015, 98, 1582, 990, 1234, 302, 1312], [213, 1028, 1834, 121, 2161, 1120, 1713, 1918, 346, 473, 1040, 376, 1046, 952, 481, 1468, 98, 195, 193, 860, 1448, 532], [1592, 1503], [1927, 358, 1268, 556, 280, 1403, 1590, 1927, 98, 195, 1969, 1924, 2161, 346, 1776, 1384, 473, 1689, 2184, 1331], [769, 1410, 860, 2136, 1120, 1685, 302, 1101, 901, 583, 1448, 2149], [1435, 174, 971, 1448, 1563, 54, 285], [1927, 98, 193, 1425, 473, 1175, 716, 341, 780, 1253, 1233, 1046, 174, 202, 1742, 1945, 566], [1927, 259, 473, 2105, 302, 1769, 860, 952, 1448, 1582, 473, 1241, 918], [645, 195, 1800], [1592, 1942, 1046, 860, 80], [1908, 1995, 156, 1101, 986, 513, 2057, 721, 829, 966, 302, 473, 205, 2184, 1101, 459, 837, 280, 205, 971], [545, 137, 1063, 1713, 1927, 432, 1722, 1788, 860, 375], [793, 1818, 2076, 1769, 860, 80, 1777, 1737, 2161, 1101, 797, 1448, 121, 2161, 1054, 627, 734], [1552, 302, 2161, 1253], [914, 316, 1927, 676, 282, 1348, 197, 1025, 1201, 1590, 285, 1101, 1348], [1927, 1361, 2073, 1295, 2161, 1131, 1927, 1937, 1448, 233, 302, 552, 1898, 2150, 22, 302, 1270, 302, 1601, 681, 2161, 44, 1052, 905, 418, 473, 781], [342, 1858, 1052, 1124, 1046, 473, 971, 304, 473, 694, 1723, 418, 780, 1927, 2055, 1935, 2161, 1777, 302, 810, 1898, 346], [660, 2132, 150, 1428, 280, 940, 1129, 1091], [568, 1390, 302, 2184, 80], [246, 997, 2036], [1592, 829, 1410, 302, 1627, 174, 50, 1606, 199], [628, 971], [164, 2015, 1192], [1575, 98, 193, 804, 1448, 876], [987, 282, 473, 1718, 1448, 2066, 1046, 174, 1156], [154], [38, 1848, 1500], [1908, 2015, 1253, 1348], [180, 297, 1630, 1777, 860, 952], [1592, 731, 418, 1078], [1927, 121, 860, 206, 302, 845, 300, 1470, 1582, 664, 860, 971, 302, 2049, 1496, 146], [2052, 1348, 302, 1101, 1338], [1927, 1268, 1052, 1979, 236, 837, 1129, 351, 676, 302, 1927, 2160, 1746, 1942, 1046, 2161], [1908, 1262, 458, 1101, 583, 302, 1113], [1961, 1927, 1368, 604, 681, 2122, 418, 174, 1209], [2062, 1718, 837, 1085], [1908, 747, 51, 1777, 605], [1592, 475, 1448, 2042], [271, 2177, 473, 864, 707, 2042, 1046, 2089, 1180, 281], [1908, 1829, 1541, 1023, 414, 1384, 473, 1040, 1448, 280, 385, 264], [634, 506, 280, 742, 837, 280, 1369, 605, 1101, 1745, 1695, 1849, 387, 542, 302, 473, 2184, 1384, 2116, 1101, 1367], [1940, 1563, 1448, 598, 2161], [1908, 2036, 1101, 137, 1125, 418, 495, 302, 1101, 523, 966, 1927, 1834, 454, 2020, 1124], [768, 1195, 301, 2011, 583, 1448, 492, 1361, 1866, 291, 1032, 957, 2011, 1169], [1264, 735, 1652, 804, 651, 2066, 1348], [557, 898, 1893, 2161], [1927, 1385, 860, 971], [795, 1961], [599, 195, 11, 715], [379, 473, 996, 1448, 1358, 401, 1028, 2011, 977, 280, 1919, 1101, 280, 820, 535, 1774, 302, 860, 971, 1101, 538, 418, 681, 81], [422, 1927, 1460, 837, 473, 978, 971, 1361, 681, 1052, 473, 978, 1140], [76, 1441, 418, 473, 971, 563, 1279, 1102, 1033, 394, 1829, 1129, 2026], [76, 562, 245], [634, 1101, 1053, 1295, 407, 837, 2042, 1918, 280, 1685, 770, 1756, 302, 1870, 418, 1456, 1394], [1927, 98, 1263, 193, 473, 1175, 849, 837, 1456, 970, 2011, 423, 837, 1980, 1500, 302, 280, 1348, 1544], [1927, 1052, 329, 351, 1273, 302, 137, 434, 291, 236], [569, 1479, 1384, 1192], [622, 51, 473, 1934, 156], [808, 1918, 1588], [1896, 478, 678, 342, 1052, 860, 1992, 837, 2033, 676], [1280, 449], [1743, 1744, 448], [1908, 217, 1752, 147, 1101, 1084, 780, 1101, 901, 535, 837, 280, 1958, 748], [76, 2015, 1101, 1178, 459, 750], [1497, 572], [1927, 98, 1268, 1779, 1670, 1759, 39, 1927, 51, 173], [1927, 1223, 1193, 302, 2161, 1627, 1240, 1046, 1540], [1908, 2116, 2184, 837, 473, 109, 1101, 1530, 1028, 2011, 418, 280, 137, 1104, 640, 1028, 969, 336, 1063], [1927, 98, 195, 193, 860, 1992, 1448, 532], [1908, 1160, 681, 821, 1955, 195, 108, 473, 221, 418, 473, 149], [1661, 1124, 1033, 1852], [1814, 1178, 141, 729, 1462, 2094, 418, 860, 1337, 302, 1063, 614], [76, 1751, 971, 831, 1101, 745, 302, 901, 1248, 1753], [557, 1738, 401, 39, 1028, 786, 2161, 797, 966, 1129, 473, 493, 1313, 1384, 708, 837, 473, 31, 1028, 2176, 1129, 195], [1908, 2116, 1101, 428, 302, 473, 958, 1927, 883, 1448, 1777, 2161, 2011, 932, 1033, 473, 2184, 1120], [1927, 1567, 473, 979, 2136, 837, 174, 54, 1433, 819, 302, 2161, 620, 137, 528, 1847, 944, 174, 2129, 199, 845, 490], [901, 2132, 80, 829, 1410], [337, 502, 411, 2011, 280, 1932, 1268], [1927, 2160, 901, 1598, 1046, 473, 261, 681, 295, 1955, 1777, 473, 24, 1384, 860, 971], [1927, 701, 174, 1617, 829, 226, 473, 589, 1528, 632, 51, 418, 2132, 1555, 596, 302, 1459, 1927, 2160, 901, 885, 1448, 1268, 860, 2005], [1908, 971, 1101, 523, 302, 7], [1927, 2160, 195, 1598, 1046, 860, 302, 2076, 98, 195, 193, 860, 1992, 1448, 532], [914, 44, 730, 1101, 473, 1243, 2116, 1829, 1101, 280, 1025, 1417, 1361, 150, 552, 407, 1448, 699], [135, 346, 1448, 429, 837, 2165, 473, 381, 1927, 1247, 837, 280, 2132, 1544], [1927, 327, 407, 1420, 2161, 1777, 473, 115, 1384, 174, 578, 1129, 175, 824, 2009], [1927, 1052, 1448, 1945, 1448, 280, 463, 302, 211, 280, 54, 2172, 971, 780, 1101, 1555, 1348], [808, 1348], [82, 201], [320, 1052, 1448, 1541, 708], [1908, 1752, 324, 1101, 1159], [180, 2080, 1994], [404, 272, 1876, 1664], [1013, 407, 473, 2132, 2066, 429], [769, 890, 1448, 363, 1129, 796], [379, 897, 475, 1448, 1803, 838, 1540, 1046, 473, 1894, 457, 39, 1028, 1803, 1221, 473, 971, 1448, 478, 949, 1187, 1957], [1597, 1927, 1007, 1946, 174, 678, 414, 473, 663, 837, 1063], [2062, 2136, 302, 1544], [695, 2161, 1003, 51, 952, 814, 323, 1788, 798, 1822, 473, 1904, 159, 302, 2161, 51, 1998, 2160, 195, 1598, 302, 1927, 2160, 195, 857], [1825, 1328, 1101, 2132, 280, 483, 2056, 1273, 1927, 905, 174, 971, 418, 473, 392, 1567, 280, 1919, 302, 1488, 473, 832, 1066, 280, 1885], [1196, 209, 1778, 423, 153, 1889, 1046, 2166, 440, 418, 303], [1908, 2061, 1226, 473, 2116, 1373, 250, 478, 1209, 302, 1050, 1448, 2079, 473, 2116, 1829, 302, 1500], [1676, 1384, 473, 54, 1865, 1268, 2118, 1042, 620, 1274], [1927, 2160, 1818, 1927, 1729, 2161], [342, 1909, 86, 1309, 1776, 1384, 860, 283], [198, 174, 971, 1101, 16, 1590, 958, 1069, 336, 1951, 150, 1927, 2042, 860], [707, 1664, 860, 80], [1303, 913, 1384, 473, 1709, 508, 195, 2066, 1046, 174, 971], [180, 1903, 1670, 1293, 1670, 332, 195, 1361, 280, 1112, 179, 45, 1582, 1402, 2031, 1046, 174, 54, 952, 837, 473, 367], [1408, 1718, 2118, 650, 213, 1927, 873, 693, 860, 607, 1386, 1927, 98], [1429, 1448, 479, 280, 1919, 1777, 804, 1101, 1178, 1808, 418, 311], [1908, 2136, 1101, 280, 1609, 1479, 1384, 761, 302, 1847, 1670, 1956, 1129, 91, 425, 530], [1927, 1578, 280, 1175, 219, 302, 51, 901, 1942, 1046, 2161, 1590, 473, 2116, 2184, 1034, 75, 1777, 860, 1101, 884], [1927, 1385, 473, 205, 897, 137, 1746, 2132, 2184], [1880, 1028, 837, 686, 1348, 236], [599, 280, 1857, 1757], [1908, 1875, 1101, 901, 2070, 302, 1515, 1927, 98, 1263, 1664, 323, 1540, 346], [1927, 693, 788, 575, 300, 1580, 1706, 302, 360, 1540, 1384, 860, 61], [599, 1506], [2062, 80, 837, 473, 1544], [1927, 1268, 1729, 804, 837, 1724, 2164, 302, 97, 302, 1852, 713, 291, 1500, 302, 1786, 1384, 2042], [1974, 1693, 245, 302, 845, 508, 860, 19, 1025, 971], [1257, 1384, 2161, 1253, 1108, 1834, 1664, 2161], [698, 1417, 2184, 2116, 302, 473, 1440, 1638, 473, 704, 1229, 51, 1732, 1053, 445, 302, 1466, 1898], [2048, 1834, 933, 478, 678], [695, 418, 1852, 1002, 1042, 1643, 1046, 860, 1438], [213, 1028, 2011, 423, 837, 280, 2132, 2184, 295, 1158, 1900, 423, 860, 442, 2161], [1453, 618, 1327, 1448, 2042, 473, 978, 1762, 1337, 2098], [1516, 1768], [1699, 2098], [2062, 2161, 51, 54, 380, 1150, 1253, 2132, 1670, 1124, 302, 2161, 2111, 418, 2156, 605, 810, 1927, 904], [2062, 1415], [599, 795, 867, 1816, 1999], [914, 1505, 51, 1334, 76, 51, 174, 1228, 2064, 375, 302, 1187, 2161, 51, 232, 1402, 1695, 692, 174, 1692, 1175, 780, 1927, 1766], [76, 1056, 1852, 473, 1124], [1408, 2118], [1927, 2160, 901, 1942], [342, 1052, 1670, 1527, 42, 473, 2105, 216, 33, 1129, 111, 2020, 1384, 473, 1981], [1927, 432, 66, 2118, 336, 1777, 2161, 302, 2160, 2053, 889, 565], [1908, 2015, 1283, 1101, 446, 1001], [1370, 1364, 1101, 280, 2131], [634, 508, 632, 473, 338, 766, 2161, 98], [870, 1448, 860, 1748, 1777, 1267, 1919, 1927, 51, 2168, 1448, 1802, 1207, 860, 375], [634, 1253, 1348, 1046, 280, 71, 1337, 1034, 39, 1028, 1069, 2094, 418, 1176, 2147, 1033, 473, 978, 605], [329, 1719, 49, 612, 174, 162, 280, 483, 2103, 1676, 1384, 780, 620, 302, 1927, 327, 407, 2165, 1448, 919, 280, 797, 1767, 1758, 414, 1852, 174, 1451], [443, 1194, 1547, 1079, 887, 37], [634, 981, 1325, 692, 2020, 248, 950, 1384, 860, 156, 473, 1544, 1101, 845, 1417, 681, 913, 98, 1014, 473, 2184, 1101, 920, 301, 897, 195], [809, 692, 904], [634, 1188, 1732, 1623, 473, 1971, 2011, 583, 1448, 1154, 302, 473, 457, 2011, 845, 384, 681, 2161, 1101, 583, 1448, 2108, 1540], [272, 1101, 231, 407, 829], [1346, 583, 1448, 1613, 1519, 193, 1764, 860, 80], [1927, 44, 650, 2161, 1176, 2056, 302, 2161, 1054, 2055, 475, 1448, 336, 1046], [1927, 1567, 473, 71, 1337, 302, 195, 1361, 347, 280, 292, 473, 1337, 51, 1095, 1937, 1448, 2094, 2161, 418, 302, 2161, 1943, 2107], [1043, 1334, 1697, 236], [1203, 1448, 174, 971, 1066, 839], [603, 2011, 845, 364], [340, 1448, 2042], [809, 848, 308], [1821, 907, 1951, 1448, 282, 860, 1192, 1927, 1268, 1670, 1604], [2013, 1384, 1266], [795, 1746, 2132, 80], [76, 1101, 280, 1348, 971], [1018, 473, 1544, 1777, 429, 2161, 1101, 1178, 459, 80, 780, 1927, 98, 446, 193], [1585, 431, 302, 2050, 639, 2092, 126, 565, 1972, 117], [1908, 2080, 636, 1101, 473, 1829, 302, 1384, 1143, 2161, 1549], [1383, 2155, 2011, 1555, 1108, 1240, 676], [1927, 2160, 1402, 692, 1942, 1046, 860, 80], [886, 1867], [76, 1101, 2077], [909, 1927, 98, 193, 860, 971, 196, 473, 54, 354], [1043, 1088, 837, 860, 236], [634, 1101, 19, 302, 2161, 1835, 302, 1525, 1108, 1918, 19], [634, 1627, 174, 1209, 829, 302, 1101, 1695, 1777], [634, 1317, 2066, 418, 1542, 1129, 257], [1372, 860, 1448, 478, 900, 300, 1146, 479, 1028, 1835, 1563, 383, 1806], [1927, 1563, 2098, 302, 1525, 1384, 1175, 1936, 473, 1209, 218, 302, 1101, 1746, 1607, 1448, 1223, 237, 280, 825, 1066, 924, 418, 473, 1209], [1927, 51, 932, 1033, 473, 1245, 680, 1384, 473, 1176, 1086, 474, 1186, 971, 651, 302, 302, 1033, 280, 1556, 1384, 473, 1544], [473, 500, 971, 323, 1463, 860, 959, 874, 1437, 1101, 473, 500, 2076, 1268, 2118, 129], [473, 1337, 620, 837, 1788, 280, 292, 302, 810, 1305, 1116, 735, 174, 971], [886, 80], [1021, 1927, 120, 576, 884, 1099], [557, 1247, 1176, 1465, 1448, 881, 473, 1214, 1718, 561, 1101, 846, 1349, 302, 1069, 515, 1046, 54, 1718, 2069], [1510, 901, 829, 2074, 1046, 280, 1231, 96, 302, 1918, 280, 1911, 375, 1777, 174, 999, 1207, 280, 1064, 1825, 1282], [104, 428, 1384, 860, 80, 302, 1945, 1046, 473, 1614, 1433, 139, 624, 780, 994, 418, 280, 1355], [314, 208, 682, 314, 208, 724, 1454], [76, 1101, 280, 1348, 80, 482, 1277, 1207, 478, 1416], [1395, 1927, 1985, 919, 195, 298, 2161, 1101, 20, 897, 372, 1544, 1122], [695, 473, 248, 1335, 342, 468, 2181, 1879, 2091, 347, 280, 483, 2033, 1590, 860, 952, 1595, 1448, 1582, 418, 837, 473, 1369, 2144], [1592, 6, 90], [707, 479, 473, 978, 269, 681, 1927, 1955, 302, 1804, 1834, 1664, 860, 971], [76, 971, 358, 829, 1582, 473, 500, 342, 2118, 1052, 418, 2020, 1443], [1073, 51, 1402, 1129, 2156, 1178, 2078, 681, 1927, 1491, 1613, 1777, 1590, 1837, 169, 1776, 2161, 1478, 174, 1209], [1927, 193, 1793, 1448, 532, 1046, 722, 1443, 1186, 462, 1565, 418, 473, 2164], [707, 792, 1945, 1448, 473, 463], [1927, 826, 1402, 1913, 2090, 1849, 473, 758, 1129, 125, 971, 1590, 2076, 1268, 473, 13, 1296, 302, 897, 280, 1348, 609], [1927, 1955, 195, 1268, 2020, 1140, 1046, 860, 1992, 302, 98, 596, 2161, 346, 39, 120], [557, 282, 565, 1028, 807, 837, 1927, 1239], [660, 44, 1955, 473, 1718, 919, 280, 1348, 261, 1384, 860, 1927, 873, 1858, 479, 174, 1578, 33, 1925, 174, 2112, 178, 1066, 1178, 1922, 1646], [793, 2117, 860, 1101, 280, 2132, 2184, 71, 1337, 302, 1770, 195, 232, 1275, 1788, 2161], [1586, 2011, 1917], [1021, 779, 218, 2011, 1678, 195, 2132, 837, 2080, 605, 521, 1563, 2128, 456, 767, 473, 799, 653, 1404, 1951, 407], [1927, 650, 929, 280, 1170, 514, 1028, 432, 121, 1777, 473, 222, 2071, 1451, 1448, 473, 955, 1544, 1384, 473, 1332, 51, 459], [626, 256, 323, 280, 2132, 1183], [131, 1954, 1827, 1920, 790, 2116, 302, 1750, 187, 837, 1456, 1777, 473, 248, 241, 1384, 473, 1919], [1592, 1987], [1569, 1461, 1268, 280, 1334, 1697, 236, 845, 1028, 282, 565, 1028, 807, 837], [769, 919, 195, 1692, 1639, 1590, 1101, 195, 1871, 1201, 1448, 1514, 1448, 881, 302, 473, 2116, 1101, 232, 884, 692, 876, 1927, 1268, 468], [1927, 1819, 473, 1364, 302, 1461, 1024, 1951, 681, 841, 473, 1040, 51, 727, 1849, 835, 39, 1927, 45, 1841, 174, 1165, 1927, 51, 414, 1384, 321], [1259, 1633, 1268, 576, 1960, 1448, 23, 280, 1713, 971, 837, 280, 1801, 1040, 1129, 1475], [502, 1101, 523, 1918, 1852, 1839, 1665, 2155, 2011], [2062, 971], [409, 1927, 1507, 174, 2004, 250, 473, 2136, 195, 44, 51, 2161, 208, 1392, 1590, 1629, 51, 795, 1669, 1384, 2078, 2046, 1777, 473, 436], [1002, 702], [272, 1101, 1334], [1927, 1769, 473, 80, 1448, 1582, 475, 1448, 2167, 407, 302, 2042], [1908, 1498, 1777, 860, 1101, 1120, 1161, 1129, 1120, 413, 526, 138, 414, 1384, 174, 1209], [851, 572, 114, 2184, 1101, 328], [1908, 1337, 821, 226, 473, 1495, 1528, 1590, 2161, 1955, 195, 2066], [180, 1209, 1344, 120, 897, 600, 302, 473, 2116, 1101, 1348], [89, 347, 124, 1129, 374, 708, 473, 665, 1384, 473, 2038, 1244, 302, 1927, 873, 195, 2042, 2161, 2020, 148, 1777, 473, 1016], [1908, 1959, 1381, 1253, 1240, 1590, 810, 473, 71, 2084, 1448, 619, 473, 1058, 1225, 302, 473, 1231, 1577, 1927, 727, 127, 860, 109, 627], [420, 1788, 511, 1697, 236], [634, 1728, 1120, 752, 302, 1920], [76, 508, 195, 1800, 473, 1433, 1206, 1427, 302, 2161, 1244, 473, 1855, 605, 1927, 468, 1448, 2094, 2161, 418], [1002, 1942, 1788, 860, 1438, 2132, 2184, 302, 1417, 1544], [1927, 1385, 473, 1525, 302, 1835, 1384, 874, 1057], [599, 1794, 302, 901, 1708, 473, 2150, 1101, 280, 901, 1150, 609], [645, 632, 2161, 1633, 302, 1402], [1927, 873, 195, 193, 804, 1402], [246, 114], [2052, 2132, 418, 473, 1036, 1590, 860, 2136, 51, 280, 1412, 1537], [286, 2156, 692, 473, 224, 1927, 51, 1783, 1448, 796, 2161, 1046], [1950, 1937, 901, 517], [897, 1714, 585, 302, 1655, 1639, 1448, 919, 604, 1046, 2161], [795, 1932, 2000, 837, 532, 643, 418, 473, 500, 435, 1384, 1252, 2098], [1908, 1855, 1031, 681, 1490, 51, 681, 473, 736, 51, 1898], [634, 1101, 829, 1410, 475, 1448, 1874, 473, 971, 302, 1847, 280, 1302, 1217, 900, 1749], [422, 1927, 1052, 1448, 287, 419, 2161, 510, 767, 2161, 1735, 144, 1017], [987, 711, 33, 323, 280, 2135, 189], [1825, 508, 195, 2066, 971, 1353, 407, 743, 1108, 10, 407, 302, 676, 2161, 1108, 697, 1309, 1562, 1187, 418, 174, 863, 1291], [260, 1954], [634, 1253, 1240, 1777, 174, 295, 1535, 302, 280, 850, 884, 692, 473, 1174, 2015, 1955], [1908, 1829, 837, 473, 1215, 1101, 1315, 2132, 1028, 1268, 1048, 1921, 353], [1077, 1676, 1384, 473, 1763, 1101, 765], [205, 609, 484, 1101, 1155], [76, 80, 1101, 1045, 195, 1878, 837, 30, 605, 1927, 1834, 1105, 1921, 364, 2161, 1626, 39, 1028, 1658, 450, 280, 1919, 1101, 1948, 418, 897, 938], [1927, 1385, 473, 33, 1776, 1461, 2011, 845, 1107], [1278, 1123, 2182], [340, 1448, 1424, 1046, 174, 874, 359], [1908, 1099, 319, 648, 681, 280, 1396, 719, 873, 1582, 650], [2076, 98, 1130, 1448, 195, 1438, 860, 1992, 2161, 1738, 620, 901, 829], [489, 1713, 1028, 1268, 1448, 807, 407, 1448, 280, 1573, 837, 473, 236], [808, 829], [1908, 1839, 238, 1064, 1332, 1955, 195, 2066, 1046, 174, 971], [28, 313, 2116], [1927, 1268, 1448, 2042, 473, 551, 424, 433, 1590, 2161, 520, 1777, 1746, 829], [1908, 1133, 730, 1927, 1268, 1101, 473, 2015, 56, 1710], [1908, 2098, 358, 1582, 1634, 418, 63, 1590, 1927, 873, 195, 1840, 2165, 804, 418, 174, 1209], [714, 208, 1664, 39, 1028, 2176, 1448, 2042, 473, 1160], [1908, 971, 432, 1858, 968, 1348, 756, 302, 1361, 1232, 1625], [634, 1317, 479, 1028, 1525, 364], [192, 1724, 263, 2011, 1636, 774, 1101, 195, 161, 1033, 1852], [1593, 1800, 1028, 1247, 478, 375, 1448, 1582, 1695, 837, 1033, 1224, 1178, 123, 1033, 280, 605, 39, 195, 837, 1178, 726, 825], [1346, 473, 971, 1317, 1050, 1448, 718, 604, 1952, 1341, 1667, 1345, 1114, 130, 18, 1502, 1167], [557, 1658, 836, 473, 1544, 1777, 804], [1698, 1046, 280, 1338, 752, 681, 1028, 432, 2042, 1448, 752, 407, 478, 205, 753, 302, 1361, 10, 477, 1117, 1985], [405, 302, 1253, 829], [1597, 1108, 537], [1927, 1385, 860, 1332, 2161, 2133, 1951, 1448, 785, 2020, 1653, 109, 1448, 174, 999], [1597, 532, 306, 1028, 300, 336, 1381, 1384, 478, 832], [76, 1101, 364, 1776, 913, 1335, 2011, 1108, 794, 1629, 1660, 473, 1995, 1448, 282, 1852, 1478, 407], [1927, 211, 860, 971, 1918, 280, 1482, 837, 174, 1080, 302, 1268, 2109, 2161, 767], [1977, 1448, 1358, 78, 473, 1086, 2015, 323, 574, 681, 2111, 1046, 174, 1310], [987, 463, 604, 1590, 971, 2137, 1448, 1568], [634, 2185, 2156, 692, 1401, 2012, 39, 1927, 1358, 386, 1448, 2042, 473, 1171, 67, 1847, 473, 978, 971, 1046, 473, 978, 1140], [886, 2184], [549, 1209, 2095, 1121, 473, 1241], [660, 20, 2161], [1908, 971, 1265, 1305, 302, 676, 1927, 1268, 1448, 282, 2161, 1733], [634, 151, 1555, 347, 1940, 650, 2161, 837, 1788, 2033, 845, 1927, 1108, 1729, 1292, 952, 1776, 860, 1101, 473, 1241, 375, 342, 2118, 1044], [379, 2161, 300, 195, 1320, 174, 875, 579, 1281, 1862, 2161, 323, 395, 700, 2043, 1197, 1947, 2015, 361, 294, 1029], [634, 51, 280, 1348, 971], [39, 1028, 177, 2176, 280, 1685, 122, 971, 1525, 1668, 1918, 473, 2078, 764, 1074, 2011, 1571], [1876, 918, 1253, 1240, 700, 378, 1064, 71, 1129, 361, 294], [914, 971, 1317, 157, 1638, 174, 71, 676, 302, 473, 1883, 674, 174, 971, 323, 1365, 414, 1384, 174, 165], [76, 1101, 177, 473, 1480, 2064, 375, 837, 2116, 2184], [1731, 2161, 196, 150, 1028, 815, 1448, 1578, 860, 1399, 482, 1101, 473, 1692, 1508, 971, 837, 1951], [2177, 473, 817, 1384, 1178, 123, 1927, 1052, 1176, 958, 1426, 1967, 1101, 681, 473, 54, 971, 1777, 672], [1927, 1268, 2055, 650, 2087, 218, 302, 473, 659, 323, 473, 167, 1101, 901, 915], [76, 2136, 1847, 1256, 473, 952, 166, 79, 302, 1187, 2161, 2142, 2082, 1384, 1223, 2161, 1101, 1446], [330, 692, 681, 473, 1739, 1101, 1150, 302, 1599, 473, 1800, 1101, 901, 936, 473, 679, 414, 837, 473, 949, 1101, 280, 2132, 1702], [634, 1847, 632, 1927, 1247, 302, 1927, 45, 2022, 837, 1402], [1264, 977, 302, 1207, 473, 80, 837, 1108, 2056, 2161, 1244], [76, 80, 1101, 1348, 2161, 697, 1555, 280, 850, 1579, 1927, 432, 1945, 1448, 473, 842, 1187, 184, 1777, 688, 837, 1475], [1257, 1384, 473, 124, 925, 1461, 62, 1046, 473, 375, 98, 1612, 418, 174, 263], [1979, 1847, 473, 1241, 1697, 236, 2014], [2124, 1198, 302, 232, 2156, 1201, 692, 876, 563, 1682], [1575, 1268, 468, 1110, 302, 1461, 1724, 787, 226, 2033, 928], [403, 2132, 425, 302, 1626, 270, 1120], [1551, 608, 2132], [1908, 365, 1101, 11, 715, 302, 697, 2161, 475, 509, 1029], [1908, 2098, 1101, 901, 1850], [1927, 1348, 119, 1852, 473, 605], [1927, 98, 446, 193, 860, 80], [2178, 2042, 473, 1040, 1046, 1091, 195, 2132, 418, 1210], [634, 963, 195, 2066, 913, 1384, 473, 605, 1046, 174, 1109], [12, 391, 837, 473, 1337, 780, 1244, 290, 347, 1425], [213, 1028, 1563, 280, 353, 948, 1448, 1882, 1852, 478, 9, 810, 860, 971, 1101, 837, 1028], [1276, 1664, 302, 300, 282, 346, 837, 1436, 174, 136, 971, 1101], [1612, 1389, 323, 860, 463, 1582, 539], [76, 1662, 1966, 1959, 971, 950, 1101, 789], [645, 195, 1800], [683, 821, 1198, 302, 1253, 1348, 1046, 174, 1356, 1455, 874, 171, 1469, 971, 302, 2058, 717, 114, 418, 1209, 2130], [634, 1101, 752, 1847, 1351, 1384, 2015, 278, 302, 1101, 901, 1012, 1448, 1223, 837, 1513, 1868, 811, 1384, 605], [1831], [1701, 486, 1101, 475, 1448, 2042], [1907, 1590, 2075, 2161, 1253, 738, 1711, 1798, 1779, 473, 1417, 194, 1384, 860, 1992], [1908, 205, 1777, 473, 971, 1387, 1582, 650, 1918, 280, 1675, 150, 1854, 1940, 820, 1582, 1207, 280, 638, 810, 860], [422, 280, 483, 2056, 1837, 473, 280, 2179, 1384, 1859, 2111, 414, 1384, 473, 971, 1187, 418, 2042], [599, 901, 1760, 302, 1169, 1448, 2042, 939, 261, 1450, 697, 473, 71, 255, 845, 232, 1650], [1908, 228, 1030, 1172, 1304, 51, 1011], [1908, 2116, 2184, 1101, 459, 1918, 829], [599, 473, 1241, 375, 1927, 1268, 650], [993, 195, 649], [769, 1268, 355, 1638, 837, 351, 302, 827, 473, 204, 2184, 1384, 661, 1995, 550, 681, 1927, 1268, 1769, 1448, 2163], [1008, 565, 1927, 1179], [76, 1249, 1611, 98, 195, 2066, 1046, 174, 295, 1742, 1810], [898, 2066, 493, 1129, 107, 837, 1951], [418, 879, 2161, 1188, 954, 1626, 1918, 39, 473, 971, 1101, 1852, 405, 19, 761], [1202, 676, 681, 2161, 1101, 414, 1384, 835, 473, 978, 1124, 1136, 597, 1613, 478, 678, 362, 1993, 163, 300, 195, 49, 2161], [1927, 137, 1179, 473, 1434, 1448, 1582, 473, 493, 952, 1590, 2161, 1847, 1120, 544, 55, 837, 5, 2132], [2062, 80], [595, 302, 28], [1558, 473, 1855, 742, 144, 1783, 2017, 347, 2012], [776, 19, 761, 1419, 1563, 1178, 1349, 106, 1902], [1927, 282, 1686, 320, 119, 418, 174, 200, 741, 1046, 248, 2155, 1927, 1268, 195, 1052, 860, 1140], [1908, 119, 1847, 355, 1037, 2132], [1929, 2116, 2015, 1283, 302, 1474, 1448, 2032], [2062, 2064], [1927, 446, 193, 860, 2136], [2169], [76, 1101, 280, 1348, 1227], [1264, 174, 971, 1567, 1448, 1582, 1788, 280, 166, 1349, 897, 355, 396, 1549, 1281, 232, 1105, 1777, 174, 1381], [1927, 2160, 527, 1927, 1410, 860, 1438], [1927, 211, 804, 935, 1927, 873, 479, 174, 1825, 375, 1800, 884, 1590, 804, 381, 1410, 2161, 943, 1448, 1223], [1231, 302, 1979, 975, 1448, 796, 2161, 346, 302, 2168, 1951, 1448, 1664, 1292, 971, 1066, 2020, 2173, 1384, 1891, 312], [634, 51, 320], [1927, 1834, 1014, 2161, 98, 688, 2161, 1120, 2007, 1777, 478, 900], [76, 2133, 473, 388, 1384, 930, 275, 837, 473, 978, 2163, 302, 605, 347, 473, 1855], [769, 2066, 1788, 1087, 810, 258], [634, 1101, 1169, 1448, 2042, 302, 1927, 1563, 2161], [599, 280, 1348, 93, 837, 1261, 1916, 302, 1451, 1094, 1582, 482, 1448, 2042, 472, 837, 1684, 1451, 2003, 1441], [1927, 1658, 2042, 860, 2136, 1776, 473, 1836, 1101, 2140], [208, 3, 1927, 1765], [1927, 1578, 1384, 804, 1335, 302, 98, 596, 1292], [2062, 502], [1927, 211, 860, 2015, 1046, 280, 1863, 323, 429, 302, 1002, 901, 1942, 1046, 174, 1438], [1908, 1922, 1874, 51, 1240, 2161, 473, 1799, 1432, 681, 2161, 620], [469, 837, 473, 1489], [1254, 1759, 1395, 2024], [795, 2132, 2184, 750, 1927, 211, 860, 347, 1927, 211, 280, 926, 323, 937, 1483, 681, 1204, 1954, 302, 958, 1777, 473, 248, 241, 45, 336, 1951], [1845, 473, 828], [1927, 468, 1807, 2080, 353, 1590, 1616, 1777, 473, 518, 939, 1349, 302, 1927, 51, 727, 1024, 2161, 1054, 1348], [1876, 1253, 1240], [1018, 473, 1544, 860, 51, 280, 1348, 1227], [2062, 1544, 1120], [213, 1629, 1101, 280, 1608, 2161, 1101, 1305, 1984], [1892, 897, 143, 1777, 1956, 91, 302, 1927, 1385, 2161], [645, 660, 2125], [464, 1855, 1927, 1842, 1927, 51, 1041, 280, 2132, 1227, 1033, 862, 1927, 951, 2161, 250, 174, 971, 1486, 404], [1908, 119, 162, 860, 375, 1101, 459], [593, 407, 1448, 860, 1875], [1927, 1268, 280, 329, 2089, 971, 302, 1461, 2066, 829, 1343, 2132, 119, 302, 1328, 681, 2123, 1006, 597, 1384, 922], [868, 338, 1927, 1052, 1448, 598, 2161], [634, 808, 634, 1101, 1593], [272, 1548, 1101, 1042, 1369], [1908, 1175, 783, 1800, 174, 263, 901, 829], [272, 1847, 1670, 1283], [1927, 1726, 1897, 302, 1629, 1101, 1670, 1774, 837, 2161, 780, 1101, 137, 1831], [1415, 1101, 267, 1918, 1588], [991, 280, 2097, 150, 248, 329, 2155, 898], [633, 919, 473, 261], [1927, 98, 193, 2161], [967, 1777, 1755, 323, 1540, 346, 302, 346], [1370, 563, 766, 837, 280, 971, 473, 205, 1101, 901, 1150, 544, 364, 606, 1448, 1982, 1046, 302, 1232, 1101, 852, 1918, 829], [1927, 1268, 355, 901, 1643, 1046, 860, 1186, 971, 323, 825, 952], [769, 1900, 1476, 884, 302, 884, 860, 1101, 174, 2135, 952, 302, 342, 1052, 86, 536, 1120], [1288, 1448, 2042, 302, 2010], [1908, 589, 605, 51, 1858, 901, 1245], [660, 1918, 2132, 1918, 1927, 1052, 356], [1876, 2136], [633, 2125], [1532, 2132, 80], [379, 2161, 1955, 195, 2066], [695, 124, 1244, 226, 1176, 2033, 1384, 2042], [1834, 1664, 2161], [914, 1294, 1847, 473, 580, 302, 473, 2015, 1101, 1312], [1021, 473, 1209, 2141, 994, 1898, 953, 302, 347, 44, 952, 292, 1927, 976, 952], [1908, 1309, 814, 473, 971, 376, 1777, 302, 1898, 1033, 300, 473, 1995, 2122, 125, 302, 473, 500, 1384, 1852, 2161, 830, 85, 2157], [628, 320, 550], [1927, 1834, 1563, 860, 1109, 1279], [690, 837, 473, 1501, 239, 1101, 1881, 302, 473, 1781, 302, 241, 516, 2011, 195, 741, 1927, 454, 1540, 1448, 344], [1927, 1268, 211, 860, 1109, 1186, 971, 280, 483, 1087, 1273, 302, 2161, 51, 280, 494], [634, 98, 968, 1120, 1369, 1448, 1787, 1921, 1713, 174, 1697, 236, 1505, 1847, 355, 1046, 429], [473, 44, 776, 737, 1031, 51, 1629, 51, 1039, 1308], [740, 914, 71, 300, 195, 718, 860, 1374], [1415, 1101, 1984, 767, 2161, 508, 195, 1268, 966, 735, 1504, 1448, 742, 473, 1656, 1927, 51, 1550, 1448, 2042, 2161, 1046], [599, 195, 565, 2161, 1350, 2161, 1101], [1251, 1976, 2102, 473, 1742], [1910, 302, 1493], [1592, 2010, 236, 323, 451], [660, 2132, 966, 837, 473, 1544], [1927, 211, 1176, 1384, 1540, 302, 1642, 300, 742], [634, 1626, 901, 1150], [76, 1101, 1178, 459, 93, 1034, 150, 2074, 1046, 478, 2155, 48], [1927, 1268, 1707, 876, 1275, 877, 1590, 1927, 1844, 1052, 2020, 1140, 1046, 2161], [1586, 59, 254, 407, 473, 535, 752, 1688, 1822, 473, 1209, 294], [1593, 418, 174, 165], [1008, 508, 195, 2066], [886, 247], [634, 1253], [213, 1927, 968, 280, 1036, 473, 2015, 1553, 280, 1665, 302, 1962, 1792, 389, 1951, 401, 897, 773], [740, 80, 302, 933, 1384, 678], [2158, 605, 1924, 323, 1028], [634, 51, 280, 933, 1384, 174, 678], [1597, 490, 2161, 1847, 620, 1563, 280, 831], [1927, 1268, 44, 1052, 2161, 837, 280, 483, 1087, 1590, 845, 490, 845, 2132], [1202, 418, 2020, 2136, 473, 1241, 1381, 1101, 1028, 432, 619, 804, 756, 1448, 478, 813, 1207, 772, 1129, 1361, 1781, 756, 323, 478, 813, 1448, 473, 971], [993, 193, 860, 1992], [599, 355, 174, 1153, 375, 837, 1260, 2116, 2132, 1829, 2132, 1752, 687], [246, 2136, 1188, 2132, 418, 478, 1465], [1908, 1992, 701, 51, 1070], [1008, 137, 2132, 1597, 490, 1470, 473, 1241, 779, 375, 1927, 1268, 2118, 1052], [808, 1240], [1927, 701, 174, 375, 418, 2132, 605, 302, 51, 1942, 1046, 2161], [1927, 51, 901, 702, 1448, 751, 681, 1927, 873, 796, 174, 829, 2008, 322, 1160, 837, 174, 452, 122], [914, 1543, 1847, 952, 1858, 302, 878, 816, 2161], [1876, 1194], [76, 1101, 130, 490, 473, 500, 1438, 342, 1410, 1777, 429], [1929, 357, 375], [1929], [645, 195, 2066, 837, 1957, 1448, 705, 1046, 473, 1754], [634, 1595, 1305, 1524, 1724, 231, 1777, 1448, 174, 900, 302, 1991, 473, 875, 2104], [1908, 1347, 1589, 938, 19, 1968, 323, 1043], [14, 1527, 1046, 1829], [1908, 44, 2132, 1031, 51, 681, 2161, 1627, 1730, 1777, 1685, 263], [833, 314, 208, 682], [1927, 2160, 419, 860, 1046, 174, 631, 302, 1927, 873, 195, 1582, 2031, 1046, 2161, 845, 490], [409, 2161, 140, 473, 2015, 1646, 1101, 2127, 302, 473, 109, 1101, 552, 1898], [1927, 319, 2176, 473, 1749, 1783, 196, 473, 685, 1384, 174, 1209, 733, 1838], [2159, 375, 2118], [707, 1736, 291, 623, 302, 1834, 454, 2020, 915, 49], [634, 51, 681, 854, 1448, 1722, 681, 473, 1434, 956, 280, 1068, 1646, 1448, 174, 1186, 302, 1046, 1670, 1481, 1485, 558, 2042], [1908, 950, 1101, 1384, 1417, 2184, 845, 1918, 1211, 473, 1813, 1763, 2116, 901, 19], [669, 1730, 2111, 1046, 124, 925, 1384, 2183, 94], [1929, 80, 837, 473, 1544], [1280, 1877], [76, 80, 1101, 901, 564, 2184, 1278, 1999], [634, 51, 1042, 1695, 418, 473, 1209], [2062, 971], [707, 1664, 860, 80, 634, 961], [1038, 1788, 860, 80, 1101, 234], [1908, 419, 1384, 473, 1176, 1330, 51, 845, 475, 2161, 66, 1003, 280, 1915, 2012, 1131, 1927, 1943, 1211, 1309, 1046, 473, 1848, 1637, 1774], [76, 51, 2154, 99, 1033, 1855, 780, 397, 1951, 1448, 466, 280, 1915, 1384, 901, 901, 535, 240], [740, 971, 662], [1908, 834, 302, 457, 2011, 1507, 199], [1927, 1385, 563, 173, 1448, 2042, 952, 375, 837, 1724, 130, 417, 302, 1186], [1657, 1101, 681, 473, 1209, 1873, 2011, 1410, 1384, 134, 1314, 302, 258, 953], [660, 1811, 1918, 2132, 423, 1918, 473, 723, 1036, 697, 2161, 1525], [1202, 1281, 804, 483, 644, 860, 2136, 1101, 1384, 1635, 2184, 302, 829, 20, 473, 35, 844, 1384, 615, 1178, 1009, 629, 80], [984, 1090, 1101, 681], [1927, 432, 336, 1187, 1002, 941, 418, 473, 71, 302, 2023, 1834, 1361, 1268, 1448, 1613, 2161, 1777, 897, 1020, 1826], [485, 560, 1198, 302, 232, 800, 692, 473, 480], [1876, 1472, 874], [1597, 1927, 211, 1788, 1384, 804, 302, 1560, 1700, 1384, 678], [634, 2055, 806, 414, 302, 697, 280, 2171, 2171, 2171, 2116, 810, 1350, 2097, 787], [2178, 566, 2161, 414], [914, 971, 1204, 1716, 195, 1348, 1716, 1590, 174, 541, 971, 51, 969, 1659, 2119, 878, 45, 492, 280, 1864, 563, 766, 1777, 2161], [1597, 1927, 1052, 1448, 968, 473, 2015, 414, 1384, 473, 971, 1613, 2161, 1852, 175, 1343, 302, 810, 1106, 2161], [467, 1927, 1683, 1448, 1316, 473, 744, 665, 175, 418, 303, 473, 1846, 676, 1847, 966, 655, 681, 2161, 300, 258, 1777, 473, 136, 814], [43, 1379, 1101, 1521, 185], [808, 837, 1951], [962, 2039, 1479, 1384, 1192], [232, 884, 692, 473, 797, 761, 1335], [634, 1858, 1052, 280, 54, 1140], [152, 845, 490], [364, 971], [808, 2132], [295, 1269, 1567, 473, 1848, 2184, 1384, 280, 2064, 375, 493], [634, 601, 1646, 1448, 473, 971, 1361, 150, 2161, 1101, 226, 280, 1915, 1006, 390, 473, 1176], [1590, 2161, 1101, 1348, 2076, 98, 137, 193, 2161], [2072, 2161, 1579, 1448, 1900, 407, 1046, 174, 2064, 150, 1002, 195, 1428, 2161], [1814, 1927, 766, 393, 511], [2086, 1567, 2161], [76, 1424, 1384, 1439, 1101, 473, 500, 681, 1927, 1268, 2118, 1052, 2018], [1, 473, 828, 1776, 1384, 280, 134, 1930], [645, 195, 742, 473, 163, 1286, 971], [557, 282, 2078, 2012, 845, 681, 1028, 432, 1539, 414, 473, 1919, 302, 195, 282, 679, 1898], [1021, 347, 1788, 280, 166, 473, 1359, 1943, 1448, 282, 160, 302, 142, 302, 911, 174, 1995, 1937, 125, 302, 1927, 45, 2134, 302, 303, 1309], [1927, 144, 1753, 473, 1332, 1777, 473, 554, 302, 1927, 1052, 1448, 921, 473, 971, 414, 1448, 1935, 2161, 1777, 1178, 1898], [1908, 375, 522, 174, 1640, 845, 1927, 2160, 1942, 1046, 174, 1438], [894, 1825, 1158, 1101, 280], [1927, 1563, 473, 1975, 681, 2161, 691, 496, 706, 478, 1209, 820, 692, 2104], [795, 850, 1384, 973, 1268, 355, 760, 860, 280, 901, 2132, 971, 302, 845, 919, 1927], [1927, 1268, 468, 804, 2, 1046, 174, 1156, 302, 174, 1049, 302, 2161, 1253, 1108, 1240], [1908, 784, 1629, 1101, 280, 2131, 302, 473, 1829, 1101, 1042, 1417], [1002, 664, 1540], [1927, 508, 195, 318, 280, 1646, 1046, 473, 1156, 1187, 2161, 1101, 1777, 174, 1111], [634, 1101, 475, 1448, 1935, 1777, 302, 1898, 150, 1028, 2011, 418, 473, 71, 302, 473, 1829, 855, 2011, 1042, 1089], [1927, 1268, 1052, 1775, 837, 1788, 280, 166, 302, 860, 1648, 1927, 211, 576, 837, 473, 1289, 1384, 473, 2164], [1371, 475, 1448, 2149, 302, 2042, 428, 2116], [1150, 1739], [1927, 1052, 1448, 1438, 280, 722, 2136], [634, 1101, 280, 453, 1448, 2042], [1592, 232, 731, 1046, 860, 1364], [1592, 763, 1046, 681], [634, 319, 742, 837, 1951], [76, 1101, 473, 971, 1448, 282, 837, 1927, 1108, 211, 174, 1681, 302, 1852, 1927, 432, 1722, 1101, 1484], [917, 2011, 1120, 1685], [1008, 304, 1777, 473, 1511, 1331, 697, 1028, 1722, 1484], [170, 2161, 2062, 666], [1927, 137, 1563, 860, 80, 196, 473, 295, 1776, 2161, 1101, 2110, 1255, 1777, 473, 1209, 1479, 302, 473, 784], [1021, 473, 1398, 2011, 845, 1920, 681, 1927, 801, 1208, 473, 1934, 457], [1927, 1460, 473, 505, 931, 373, 837, 860, 302, 1002, 1746, 1942, 1046, 681, 1727], [1927, 51, 901, 1598, 1046, 473, 1544, 1384, 473, 1335], [1346, 697, 2161, 1579, 1448, 688, 1777, 1448], [1927, 2042, 860, 80, 418, 280, 1022, 782, 1065, 741, 1629, 1101, 280, 850, 1384, 627, 594, 1366, 323, 473, 100, 302, 2161, 1253, 1348], [599, 1746, 475], [1927, 1069, 479, 1309, 1033, 1703, 74], [301, 174, 1820, 51, 641, 681, 576, 605, 473, 971, 1317, 1220, 407, 1563, 558, 971, 508], [1083, 865, 1866], [76, 1364, 742, 1951, 280, 1326, 1118, 302, 727, 195, 1779, 1951, 174, 363, 175], [1002, 571, 1448, 598, 2161, 837, 280, 363], [1927, 951, 2161, 418, 44, 1448, 121, 414, 195, 280, 1949, 1031, 620], [1929, 80], [1487, 1479, 637, 953], [2146, 80], [76, 971, 2084, 901, 797, 1448, 919, 632, 1590, 961, 1033, 897, 901, 996, 1448, 1582, 280, 971], [634, 1101, 473, 1241, 1337, 1927, 1268, 818, 1777, 473, 1823, 903], [415, 2170], [1861, 473, 1337, 1595, 1448, 2066, 1240], [634, 1627, 845, 118, 681, 473, 1209, 370, 508, 195, 1361, 1247, 1448, 1582, 650, 302, 473, 2116, 1101, 884, 1602, 162, 478, 1209, 974], [660, 966, 1829], [610, 2060, 1301], [1028, 873, 44, 968, 1772, 1033, 280, 605, 302, 473, 2184, 51, 901, 38], [1834, 933, 478, 678], [1927, 2160, 1783, 1448, 1268, 1448, 1582, 473, 1855, 1448, 1307, 729, 860, 80], [1815, 508, 195, 586, 966, 735, 1504], [1561, 51, 845, 232, 658, 196, 860, 971, 681, 1927, 501, 2161, 51, 473, 1241, 174, 269], [557, 1858, 1069, 968, 756, 1046, 2161, 418, 473, 2136, 1776, 473, 399, 1101, 249], [502, 1181, 414, 953], [634, 319, 2066, 958, 432, 195, 336, 1951, 150, 1927, 883], [1908, 113, 2029, 1774, 1101, 137, 265, 1448, 2042], [1002, 137, 731, 1852, 1927, 1268, 676, 1101, 280, 1337, 681, 1317, 2066], [1796, 1777, 473, 1209], [581, 952, 825, 302, 810, 408, 407], [731], [646, 1384, 1138, 1638], [1908, 1995, 508, 282, 1119, 953, 1776, 2161, 350, 478, 1209, 302, 949], [1821, 280, 1479, 1384, 1192, 1927, 466, 1402, 1309, 1777, 860, 971], [683, 645, 660, 908, 582], [1908, 44, 1031, 681, 181, 1951, 1101, 473, 182, 444, 430, 15], [557, 432, 195, 191, 1309, 1046, 473, 1040, 1738, 620, 2152]]\n"
          ]
        }
      ]
    },
    {
      "cell_type": "markdown",
      "source": [
        "**7. Create a class containing the architecture of the network.**"
      ],
      "metadata": {
        "id": "Djj3EoPWuaoV"
      }
    },
    {
      "cell_type": "code",
      "source": [
        "class SentimentNetwork(torch.nn.Module):\n",
        "  def __init__(self, vocabulary_size, embedding_dimension, hidden_dimension, output_dimension):\n",
        "    super(SentimentNetwork, self).__init__()\n",
        "    self.embedding = torch.nn.Embedding(vocabulary_size, embedding_dimension)\n",
        "    self.rnn = torch.nn.RNN(embedding_dimension, hidden_dimension)\n",
        "    self.linear = torch.nn.Linear(hidden_dimension, output_dimension)\n",
        "\n",
        "  def forward(self, x):\n",
        "    x = self.embedding(x)\n",
        "    output, hidden = self.rnn(x)\n",
        "    output = self.linear(hidden[-1])\n",
        "    return output\n"
      ],
      "metadata": {
        "id": "8VaL_7cxtI6m"
      },
      "execution_count": 11,
      "outputs": []
    },
    {
      "cell_type": "markdown",
      "source": [
        "**8. Make sure that you include an embedding layer. Initialize the model using 64 embedding\n",
        "dimensions and 128 neurons for 3 LSTM layers.**"
      ],
      "metadata": {
        "id": "b2OBplcmvrMq"
      }
    },
    {
      "cell_type": "code",
      "source": [
        "# Initialize the model\n",
        "vocabulary_size = len(new_vocabulary)\n",
        "embedding_dimension = 64\n",
        "hidden_dimension = 128\n",
        "output_dimension = 2  # Assuming binary classification (positive/negative)\n",
        "\n",
        "model = SentimentNetwork(vocabulary_size, embedding_dimension, hidden_dimension, output_dimension)\n",
        "print(model)"
      ],
      "metadata": {
        "colab": {
          "base_uri": "https://localhost:8080/"
        },
        "id": "AnJtddDPugQO",
        "outputId": "6da307d6-33a0-4e54-9bf1-ce9c14a35ba9"
      },
      "execution_count": 12,
      "outputs": [
        {
          "output_type": "stream",
          "name": "stdout",
          "text": [
            "SentimentNetwork(\n",
            "  (embedding): Embedding(2186, 64)\n",
            "  (rnn): RNN(64, 128)\n",
            "  (linear): Linear(in_features=128, out_features=2, bias=True)\n",
            ")\n"
          ]
        }
      ]
    },
    {
      "cell_type": "markdown",
      "source": [
        "**9. Define the loss function, an optimization algorithm, and the number of epochs to train for.\n",
        "For example, you can use binary cross-entropy loss as the loss function, the Adam\n",
        "optimizer, and train for 10 epochs.**"
      ],
      "metadata": {
        "id": "DBlUdB_3ky3K"
      }
    },
    {
      "cell_type": "code",
      "source": [
        "# Define the loss function and optimizer\n",
        "criterion = torch.nn.CrossEntropyLoss()\n",
        "optimizer = torch.optim.Adam(model.parameters())\n",
        "\n",
        "# Define the number of epochs\n",
        "epochs = 10\n"
      ],
      "metadata": {
        "id": "zg3ee87jv8UB"
      },
      "execution_count": 13,
      "outputs": []
    },
    {
      "cell_type": "markdown",
      "source": [
        "**10. Create a \"for\" loop that goes through the different epochs and through every single\n",
        "review individually. For each review, perform a prediction, calculate the loss function, and\n",
        "update the parameters of the network. Additionally, calculate the accuracy of the network\n",
        "over that training data.**"
      ],
      "metadata": {
        "id": "dQne9wLtlq2S"
      }
    },
    {
      "cell_type": "code",
      "source": [
        "# Training loop\n",
        "losses = []\n",
        "accuracies = []\n",
        "for epoch in range(epochs):\n",
        "  total_loss = 0\n",
        "  correct_predictions = 0\n",
        "  total_predictions = 0\n",
        "\n",
        "  for i in range(len(encoded_reviews)):\n",
        "    review = torch.tensor(encoded_reviews[i])\n",
        "    label = torch.tensor(df['Labels'][i], dtype=torch.long)\n",
        "\n",
        "    # Forward pass\n",
        "    output = model(review)\n",
        "\n",
        "    # Calculate the loss\n",
        "    # Remove unsqueeze as it is not needed\n",
        "    loss = criterion(output, label)\n",
        "\n",
        "    # Backward pass and optimization\n",
        "    optimizer.zero_grad()\n",
        "    loss.backward()\n",
        "    optimizer.step()\n",
        "\n",
        "    # Calculate the accuracy\n",
        "    _, predicted = torch.max(output, 0) # Changed from 1 to 0 to match the output shape\n",
        "    correct_predictions += (predicted == label).sum().item()\n",
        "    total_predictions += 1\n",
        "\n",
        "    # Accumulate the loss\n",
        "    total_loss += loss.item()\n",
        "\n",
        "\n",
        "  # Print the average loss and accuracy for the epoch\n",
        "  average_loss = total_loss / len(encoded_reviews)\n",
        "  accuracy = correct_predictions / total_predictions\n",
        "  losses.append(average_loss)\n",
        "  accuracies.append(accuracy)\n",
        "\n",
        "  print(f'Epoch: {epoch + 1}, Loss: {average_loss:.4f}, Accuracy: {accuracy:.4f}')"
      ],
      "metadata": {
        "colab": {
          "base_uri": "https://localhost:8080/"
        },
        "id": "YP7WzR8umgGf",
        "outputId": "c3e52e1f-8e8a-482b-ffef-d4f863b38f23"
      },
      "execution_count": 14,
      "outputs": [
        {
          "output_type": "stream",
          "name": "stdout",
          "text": [
            "Epoch: 1, Loss: 0.6947, Accuracy: 0.5690\n",
            "Epoch: 2, Loss: 0.5828, Accuracy: 0.6940\n",
            "Epoch: 3, Loss: 0.4892, Accuracy: 0.7710\n",
            "Epoch: 4, Loss: 0.3665, Accuracy: 0.8420\n",
            "Epoch: 5, Loss: 0.2783, Accuracy: 0.8880\n",
            "Epoch: 6, Loss: 0.1780, Accuracy: 0.9310\n",
            "Epoch: 7, Loss: 0.1162, Accuracy: 0.9610\n",
            "Epoch: 8, Loss: 0.0446, Accuracy: 0.9890\n",
            "Epoch: 9, Loss: 0.0359, Accuracy: 0.9880\n",
            "Epoch: 10, Loss: 0.0338, Accuracy: 0.9910\n"
          ]
        }
      ]
    },
    {
      "cell_type": "markdown",
      "source": [
        "**11. Plot the progress of the loss function and accuracy over time.**"
      ],
      "metadata": {
        "id": "1mmJrFIPm5Qg"
      }
    },
    {
      "cell_type": "code",
      "source": [
        "import matplotlib.pyplot as plt\n",
        "# Plot the loss\n",
        "plt.plot(range(1, epochs + 1), losses)\n",
        "plt.xlabel('Epoch')\n",
        "plt.ylabel('Loss')\n",
        "plt.title('Loss over Time')\n",
        "plt.show()\n",
        "\n",
        "# Plot the accuracy\n",
        "plt.plot(range(1, epochs + 1), accuracies)\n",
        "plt.xlabel('Epoch')\n",
        "plt.ylabel('Accuracy')\n",
        "plt.title('Accuracy over Time')\n",
        "plt.show()\n"
      ],
      "metadata": {
        "colab": {
          "base_uri": "https://localhost:8080/",
          "height": 927
        },
        "id": "cD_KX2gcmoym",
        "outputId": "de7cd9e9-e169-4adc-8e92-04dfd0045def"
      },
      "execution_count": 15,
      "outputs": [
        {
          "output_type": "display_data",
          "data": {
            "text/plain": [
              "<Figure size 640x480 with 1 Axes>"
            ],
            "image/png": "[encoded data removed]"
          },
          "metadata": {}
        },
        {
          "output_type": "display_data",
          "data": {
            "text/plain": [
              "<Figure size 640x480 with 1 Axes>"
            ],
            "image/png": "[encoded data removed]"
          },
          "metadata": {}
        }
      ]
    },
    {
      "cell_type": "code",
      "source": [],
      "metadata": {
        "id": "TholfYb0nCXT"
      },
      "execution_count": 15,
      "outputs": []
    },
    {
      "cell_type": "markdown",
      "source": [
        "**<h1>Exercise-2</h1>**"
      ],
      "metadata": {
        "id": "CoM0YIqzsbSh"
      }
    },
    {
      "cell_type": "markdown",
      "source": [
        "**Sentiment Analysis\n",
        "Consider the following text:    \n",
        "sentence = “””The larger Broncos will be available with 35-inch off-road tires and will be able\n",
        "to drive through water nearly 3 feet, 10 inches deep. It has independent front suspension, unlike its main competitor, the Jeep Wrangler. Independent suspension, used\n",
        "on almost all modern passenger vehicles, generally provides a smoother ride and better on\n",
        "road handling than a single solid axle. It still has a solid axle in the back though, like most\n",
        "pickup trucks, a design suited to hard use. Like the Wrangler, both the two- and four-door\n",
        "Bronco will have a removable roofs and doors. Buyers will be able to choose either a hard\n",
        "roof that can be removed in sections, a cloth top, or both. Unlike the Wrangler, though, the\n",
        "Bronco's doors will fit inside the vehicle after being removed. The Bronco will be available\n",
        "with a choice of either a 10-speed automatic or seven-speed manual transmission. (The\n",
        "manual transmission will have six gears for ordinary driving, plus a seventh for low speed\n",
        "off-road driving.) It will be powered by either a 270- horsepower 2.3-liter turbocharged 4\n",
        "cylinder engine or a 310-horsepower 2.7-liter turbocharged V6. While all of the new Bronco\n",
        "SUVs are designed for hard off-road use, the Bronco Sport isn't quite as hard-core in its\n",
        "capabilities. It also has more convenience features than the more truck-like Bronco. While\n",
        "it's based on engineering that's similar to car-like crossover SUVs, Ford says that it's still\n",
        "intended for serious off-road use. Ford engineers boasted of the off-road testing the\n",
        "prototypes have been put through, including driving through deep sand, up steep inclines,\n",
        "and crawling across boulder-strewn trails.”””**"
      ],
      "metadata": {
        "id": "NQiqKeIPnpRf"
      }
    },
    {
      "cell_type": "markdown",
      "source": [
        "#####################################################################"
      ],
      "metadata": {
        "id": "1_KLVJcpoVBp"
      }
    },
    {
      "cell_type": "markdown",
      "source": [
        "**1. Replace special characters with empty spaces. You can use regex or any other method**"
      ],
      "metadata": {
        "id": "KtBxi6eznqSp"
      }
    },
    {
      "cell_type": "code",
      "source": [
        "import re\n",
        "\n",
        "sentence = '''The larger Broncos will be available with 35-inch off-road tires and will be able\n",
        "to drive through water nearly 3 feet, 10 inches deep. It has independent front suspension, unlike its main competitor, the Jeep Wrangler. Independent suspension, used\n",
        "on almost all modern passenger vehicles, generally provides a smoother ride and better on\n",
        "road handling than a single solid axle. It still has a solid axle in the back though, like most\n",
        "pickup trucks, a design suited to hard use. Like the Wrangler, both the two- and four-door\n",
        "Bronco will have a removable roofs and doors. Buyers will be able to choose either a hard\n",
        "roof that can be removed in sections, a cloth top, or both. Unlike the Wrangler, though, the\n",
        "Bronco's doors will fit inside the vehicle after being removed. The Bronco will be available\n",
        "with a choice of either a 10-speed automatic or seven-speed manual transmission. (The\n",
        "manual transmission will have six gears for ordinary driving, plus a seventh for low speed\n",
        "off-road driving.) It will be powered by either a 270- horsepower 2.3-liter turbocharged 4\n",
        "cylinder engine or a 310-horsepower 2.7-liter turbocharged V6. While all of the new Bronco\n",
        "SUVs are designed for hard off-road use, the Bronco Sport isn't quite as hard-core in its\n",
        "capabilities. It also has more convenience features than the more truck-like Bronco. While\n",
        "it's based on engineering that's similar to car-like crossover SUVs, Ford says that it's still\n",
        "intended for serious off-road use. Ford engineers boasted of the off-road testing the\n",
        "prototypes have been put through, including driving through deep sand, up steep inclines,\n",
        "and crawling across boulder-strewn trails.'''\n",
        "\n",
        "# Replace special characters with empty spaces using regex\n",
        "sentence = re.sub(r'[^\\w\\s]', ' ', sentence)\n",
        "\n",
        "print(sentence)"
      ],
      "metadata": {
        "colab": {
          "base_uri": "https://localhost:8080/"
        },
        "id": "57yhwbccvTvH",
        "outputId": "847617e7-1280-48a1-fce0-253e4a367e23"
      },
      "execution_count": 16,
      "outputs": [
        {
          "output_type": "stream",
          "name": "stdout",
          "text": [
            "The larger Broncos will be available with 35 inch off road tires and will be able\n",
            "to drive through water nearly 3 feet  10 inches deep  It has independent front suspension  unlike its main competitor  the Jeep Wrangler  Independent suspension  used\n",
            "on almost all modern passenger vehicles  generally provides a smoother ride and better on\n",
            "road handling than a single solid axle  It still has a solid axle in the back though  like most\n",
            "pickup trucks  a design suited to hard use  Like the Wrangler  both the two  and four door\n",
            "Bronco will have a removable roofs and doors  Buyers will be able to choose either a hard\n",
            "roof that can be removed in sections  a cloth top  or both  Unlike the Wrangler  though  the\n",
            "Bronco s doors will fit inside the vehicle after being removed  The Bronco will be available\n",
            "with a choice of either a 10 speed automatic or seven speed manual transmission   The\n",
            "manual transmission will have six gears for ordinary driving  plus a seventh for low speed\n",
            "off road driving   It will be powered by either a 270  horsepower 2 3 liter turbocharged 4\n",
            "cylinder engine or a 310 horsepower 2 7 liter turbocharged V6  While all of the new Bronco\n",
            "SUVs are designed for hard off road use  the Bronco Sport isn t quite as hard core in its\n",
            "capabilities  It also has more convenience features than the more truck like Bronco  While\n",
            "it s based on engineering that s similar to car like crossover SUVs  Ford says that it s still\n",
            "intended for serious off road use  Ford engineers boasted of the off road testing the\n",
            "prototypes have been put through  including driving through deep sand  up steep inclines \n",
            "and crawling across boulder strewn trails \n"
          ]
        }
      ]
    },
    {
      "cell_type": "markdown",
      "source": [
        "**2. Remove multiple empty spaces and replace them with a single space**"
      ],
      "metadata": {
        "id": "3GPkkSCipxs2"
      }
    },
    {
      "cell_type": "code",
      "source": [
        "sentence = re.sub(r'\\s+', ' ', sentence)\n",
        "print(sentence)"
      ],
      "metadata": {
        "colab": {
          "base_uri": "https://localhost:8080/"
        },
        "id": "TOut9yGnpGfx",
        "outputId": "368ad84b-11e1-41ec-87ce-104b42b07dab"
      },
      "execution_count": 17,
      "outputs": [
        {
          "output_type": "stream",
          "name": "stdout",
          "text": [
            "The larger Broncos will be available with 35 inch off road tires and will be able to drive through water nearly 3 feet 10 inches deep It has independent front suspension unlike its main competitor the Jeep Wrangler Independent suspension used on almost all modern passenger vehicles generally provides a smoother ride and better on road handling than a single solid axle It still has a solid axle in the back though like most pickup trucks a design suited to hard use Like the Wrangler both the two and four door Bronco will have a removable roofs and doors Buyers will be able to choose either a hard roof that can be removed in sections a cloth top or both Unlike the Wrangler though the Bronco s doors will fit inside the vehicle after being removed The Bronco will be available with a choice of either a 10 speed automatic or seven speed manual transmission The manual transmission will have six gears for ordinary driving plus a seventh for low speed off road driving It will be powered by either a 270 horsepower 2 3 liter turbocharged 4 cylinder engine or a 310 horsepower 2 7 liter turbocharged V6 While all of the new Bronco SUVs are designed for hard off road use the Bronco Sport isn t quite as hard core in its capabilities It also has more convenience features than the more truck like Bronco While it s based on engineering that s similar to car like crossover SUVs Ford says that it s still intended for serious off road use Ford engineers boasted of the off road testing the prototypes have been put through including driving through deep sand up steep inclines and crawling across boulder strewn trails \n"
          ]
        }
      ]
    },
    {
      "cell_type": "markdown",
      "source": [
        "**3. Remove any single character**"
      ],
      "metadata": {
        "id": "qGsj5r2kqCZk"
      }
    },
    {
      "cell_type": "code",
      "source": [
        "sentence = re.sub(r'\\b\\w\\b', '', sentence)\n",
        "print(sentence)"
      ],
      "metadata": {
        "colab": {
          "base_uri": "https://localhost:8080/"
        },
        "id": "od3SSoEyp6o9",
        "outputId": "08f520a3-e11c-49b9-a16f-49bee5d504c2"
      },
      "execution_count": 18,
      "outputs": [
        {
          "output_type": "stream",
          "name": "stdout",
          "text": [
            "The larger Broncos will be available with 35 inch off road tires and will be able to drive through water nearly  feet 10 inches deep It has independent front suspension unlike its main competitor the Jeep Wrangler Independent suspension used on almost all modern passenger vehicles generally provides  smoother ride and better on road handling than  single solid axle It still has  solid axle in the back though like most pickup trucks  design suited to hard use Like the Wrangler both the two and four door Bronco will have  removable roofs and doors Buyers will be able to choose either  hard roof that can be removed in sections  cloth top or both Unlike the Wrangler though the Bronco  doors will fit inside the vehicle after being removed The Bronco will be available with  choice of either  10 speed automatic or seven speed manual transmission The manual transmission will have six gears for ordinary driving plus  seventh for low speed off road driving It will be powered by either  270 horsepower   liter turbocharged  cylinder engine or  310 horsepower   liter turbocharged V6 While all of the new Bronco SUVs are designed for hard off road use the Bronco Sport isn  quite as hard core in its capabilities It also has more convenience features than the more truck like Bronco While it  based on engineering that  similar to car like crossover SUVs Ford says that it  still intended for serious off road use Ford engineers boasted of the off road testing the prototypes have been put through including driving through deep sand up steep inclines and crawling across boulder strewn trails \n"
          ]
        }
      ]
    },
    {
      "cell_type": "markdown",
      "source": [
        "**4. Convert the text to all lowercase**"
      ],
      "metadata": {
        "id": "hG3xfztVqj24"
      }
    },
    {
      "cell_type": "code",
      "source": [
        "sentence = sentence.lower()\n",
        "print(sentence)"
      ],
      "metadata": {
        "colab": {
          "base_uri": "https://localhost:8080/"
        },
        "id": "D7GnARlSqeMZ",
        "outputId": "8ac5a01f-6724-4b38-fd11-f8f9f89bc1f2"
      },
      "execution_count": 19,
      "outputs": [
        {
          "output_type": "stream",
          "name": "stdout",
          "text": [
            "the larger broncos will be available with 35 inch off road tires and will be able to drive through water nearly  feet 10 inches deep it has independent front suspension unlike its main competitor the jeep wrangler independent suspension used on almost all modern passenger vehicles generally provides  smoother ride and better on road handling than  single solid axle it still has  solid axle in the back though like most pickup trucks  design suited to hard use like the wrangler both the two and four door bronco will have  removable roofs and doors buyers will be able to choose either  hard roof that can be removed in sections  cloth top or both unlike the wrangler though the bronco  doors will fit inside the vehicle after being removed the bronco will be available with  choice of either  10 speed automatic or seven speed manual transmission the manual transmission will have six gears for ordinary driving plus  seventh for low speed off road driving it will be powered by either  270 horsepower   liter turbocharged  cylinder engine or  310 horsepower   liter turbocharged v6 while all of the new bronco suvs are designed for hard off road use the bronco sport isn  quite as hard core in its capabilities it also has more convenience features than the more truck like bronco while it  based on engineering that  similar to car like crossover suvs ford says that it  still intended for serious off road use ford engineers boasted of the off road testing the prototypes have been put through including driving through deep sand up steep inclines and crawling across boulder strewn trails \n"
          ]
        }
      ]
    },
    {
      "cell_type": "markdown",
      "source": [
        "**5. Split the text into individual words**"
      ],
      "metadata": {
        "id": "D_dnDmFXqvyE"
      }
    },
    {
      "cell_type": "code",
      "source": [
        "words = sentence.split()\n",
        "print(words)"
      ],
      "metadata": {
        "colab": {
          "base_uri": "https://localhost:8080/"
        },
        "id": "DzrHQ23pqrSR",
        "outputId": "d39a3cac-9779-47a8-82a5-6af14b8beab2"
      },
      "execution_count": 20,
      "outputs": [
        {
          "output_type": "stream",
          "name": "stdout",
          "text": [
            "['the', 'larger', 'broncos', 'will', 'be', 'available', 'with', '35', 'inch', 'off', 'road', 'tires', 'and', 'will', 'be', 'able', 'to', 'drive', 'through', 'water', 'nearly', 'feet', '10', 'inches', 'deep', 'it', 'has', 'independent', 'front', 'suspension', 'unlike', 'its', 'main', 'competitor', 'the', 'jeep', 'wrangler', 'independent', 'suspension', 'used', 'on', 'almost', 'all', 'modern', 'passenger', 'vehicles', 'generally', 'provides', 'smoother', 'ride', 'and', 'better', 'on', 'road', 'handling', 'than', 'single', 'solid', 'axle', 'it', 'still', 'has', 'solid', 'axle', 'in', 'the', 'back', 'though', 'like', 'most', 'pickup', 'trucks', 'design', 'suited', 'to', 'hard', 'use', 'like', 'the', 'wrangler', 'both', 'the', 'two', 'and', 'four', 'door', 'bronco', 'will', 'have', 'removable', 'roofs', 'and', 'doors', 'buyers', 'will', 'be', 'able', 'to', 'choose', 'either', 'hard', 'roof', 'that', 'can', 'be', 'removed', 'in', 'sections', 'cloth', 'top', 'or', 'both', 'unlike', 'the', 'wrangler', 'though', 'the', 'bronco', 'doors', 'will', 'fit', 'inside', 'the', 'vehicle', 'after', 'being', 'removed', 'the', 'bronco', 'will', 'be', 'available', 'with', 'choice', 'of', 'either', '10', 'speed', 'automatic', 'or', 'seven', 'speed', 'manual', 'transmission', 'the', 'manual', 'transmission', 'will', 'have', 'six', 'gears', 'for', 'ordinary', 'driving', 'plus', 'seventh', 'for', 'low', 'speed', 'off', 'road', 'driving', 'it', 'will', 'be', 'powered', 'by', 'either', '270', 'horsepower', 'liter', 'turbocharged', 'cylinder', 'engine', 'or', '310', 'horsepower', 'liter', 'turbocharged', 'v6', 'while', 'all', 'of', 'the', 'new', 'bronco', 'suvs', 'are', 'designed', 'for', 'hard', 'off', 'road', 'use', 'the', 'bronco', 'sport', 'isn', 'quite', 'as', 'hard', 'core', 'in', 'its', 'capabilities', 'it', 'also', 'has', 'more', 'convenience', 'features', 'than', 'the', 'more', 'truck', 'like', 'bronco', 'while', 'it', 'based', 'on', 'engineering', 'that', 'similar', 'to', 'car', 'like', 'crossover', 'suvs', 'ford', 'says', 'that', 'it', 'still', 'intended', 'for', 'serious', 'off', 'road', 'use', 'ford', 'engineers', 'boasted', 'of', 'the', 'off', 'road', 'testing', 'the', 'prototypes', 'have', 'been', 'put', 'through', 'including', 'driving', 'through', 'deep', 'sand', 'up', 'steep', 'inclines', 'and', 'crawling', 'across', 'boulder', 'strewn', 'trails']\n"
          ]
        }
      ]
    },
    {
      "cell_type": "markdown",
      "source": [
        "**6. Remove stopwords**"
      ],
      "metadata": {
        "id": "39BxKTiiq2d4"
      }
    },
    {
      "cell_type": "code",
      "source": [
        "from nltk.corpus import stopwords\n",
        "import nltk\n",
        "#nltk.download('stopwords')\n",
        "\n",
        "stop_words = set(stopwords.words('english'))\n",
        "filtered_words = [word for word in words if word not in stop_words]\n",
        "print(filtered_words)"
      ],
      "metadata": {
        "colab": {
          "base_uri": "https://localhost:8080/"
        },
        "id": "A-ElciqUuvCj",
        "outputId": "737c408d-9831-4be2-e8d0-e55cc99b8243"
      },
      "execution_count": 23,
      "outputs": [
        {
          "output_type": "stream",
          "name": "stdout",
          "text": [
            "['larger', 'broncos', 'available', '35', 'inch', 'road', 'tires', 'able', 'drive', 'water', 'nearly', 'feet', '10', 'inches', 'deep', 'independent', 'front', 'suspension', 'unlike', 'main', 'competitor', 'jeep', 'wrangler', 'independent', 'suspension', 'used', 'almost', 'modern', 'passenger', 'vehicles', 'generally', 'provides', 'smoother', 'ride', 'better', 'road', 'handling', 'single', 'solid', 'axle', 'still', 'solid', 'axle', 'back', 'though', 'like', 'pickup', 'trucks', 'design', 'suited', 'hard', 'use', 'like', 'wrangler', 'two', 'four', 'door', 'bronco', 'removable', 'roofs', 'doors', 'buyers', 'able', 'choose', 'either', 'hard', 'roof', 'removed', 'sections', 'cloth', 'top', 'unlike', 'wrangler', 'though', 'bronco', 'doors', 'fit', 'inside', 'vehicle', 'removed', 'bronco', 'available', 'choice', 'either', '10', 'speed', 'automatic', 'seven', 'speed', 'manual', 'transmission', 'manual', 'transmission', 'six', 'gears', 'ordinary', 'driving', 'plus', 'seventh', 'low', 'speed', 'road', 'driving', 'powered', 'either', '270', 'horsepower', 'liter', 'turbocharged', 'cylinder', 'engine', '310', 'horsepower', 'liter', 'turbocharged', 'v6', 'new', 'bronco', 'suvs', 'designed', 'hard', 'road', 'use', 'bronco', 'sport', 'quite', 'hard', 'core', 'capabilities', 'also', 'convenience', 'features', 'truck', 'like', 'bronco', 'based', 'engineering', 'similar', 'car', 'like', 'crossover', 'suvs', 'ford', 'says', 'still', 'intended', 'serious', 'road', 'use', 'ford', 'engineers', 'boasted', 'road', 'testing', 'prototypes', 'put', 'including', 'driving', 'deep', 'sand', 'steep', 'inclines', 'crawling', 'across', 'boulder', 'strewn', 'trails']\n"
          ]
        }
      ]
    },
    {
      "cell_type": "markdown",
      "source": [
        "**7. Tokenize, stem, and lemmatize the text**"
      ],
      "metadata": {
        "id": "OrMXPQ4qrOXG"
      }
    },
    {
      "cell_type": "code",
      "source": [
        "from nltk.stem import PorterStemmer\n",
        "from nltk.stem import WordNetLemmatizer\n",
        "#nltk.download('wordnet')\n",
        "\n",
        "# Initialize stemmer and lemmatizer\n",
        "stemmer = PorterStemmer()\n",
        "lemmatizer = WordNetLemmatizer()\n",
        "\n",
        "# Tokenize, stem, and lemmatize the words\n",
        "tokenized_words = filtered_words  # Assuming filtered_words is the list of words after stop words removal\n",
        "\n",
        "stemmed_words = [stemmer.stem(word) for word in tokenized_words]\n",
        "\n",
        "lemmatized_words = [lemmatizer.lemmatize(word) for word in tokenized_words]\n",
        "\n",
        "print(\"Stemmed Words:\", stemmed_words)\n",
        "print(\"Lemmatized Words:\", lemmatized_words)"
      ],
      "metadata": {
        "colab": {
          "base_uri": "https://localhost:8080/"
        },
        "id": "-OtLxJ5-u-Ft",
        "outputId": "e81f8fbf-2efc-4904-c693-2ffd95c57ffe"
      },
      "execution_count": 26,
      "outputs": [
        {
          "output_type": "stream",
          "name": "stdout",
          "text": [
            "Stemmed Words: ['larger', 'bronco', 'avail', '35', 'inch', 'road', 'tire', 'abl', 'drive', 'water', 'nearli', 'feet', '10', 'inch', 'deep', 'independ', 'front', 'suspens', 'unlik', 'main', 'competitor', 'jeep', 'wrangler', 'independ', 'suspens', 'use', 'almost', 'modern', 'passeng', 'vehicl', 'gener', 'provid', 'smoother', 'ride', 'better', 'road', 'handl', 'singl', 'solid', 'axl', 'still', 'solid', 'axl', 'back', 'though', 'like', 'pickup', 'truck', 'design', 'suit', 'hard', 'use', 'like', 'wrangler', 'two', 'four', 'door', 'bronco', 'remov', 'roof', 'door', 'buyer', 'abl', 'choos', 'either', 'hard', 'roof', 'remov', 'section', 'cloth', 'top', 'unlik', 'wrangler', 'though', 'bronco', 'door', 'fit', 'insid', 'vehicl', 'remov', 'bronco', 'avail', 'choic', 'either', '10', 'speed', 'automat', 'seven', 'speed', 'manual', 'transmiss', 'manual', 'transmiss', 'six', 'gear', 'ordinari', 'drive', 'plu', 'seventh', 'low', 'speed', 'road', 'drive', 'power', 'either', '270', 'horsepow', 'liter', 'turbocharg', 'cylind', 'engin', '310', 'horsepow', 'liter', 'turbocharg', 'v6', 'new', 'bronco', 'suv', 'design', 'hard', 'road', 'use', 'bronco', 'sport', 'quit', 'hard', 'core', 'capabl', 'also', 'conveni', 'featur', 'truck', 'like', 'bronco', 'base', 'engin', 'similar', 'car', 'like', 'crossov', 'suv', 'ford', 'say', 'still', 'intend', 'seriou', 'road', 'use', 'ford', 'engin', 'boast', 'road', 'test', 'prototyp', 'put', 'includ', 'drive', 'deep', 'sand', 'steep', 'inclin', 'crawl', 'across', 'boulder', 'strewn', 'trail']\n",
            "Lemmatized Words: ['larger', 'bronco', 'available', '35', 'inch', 'road', 'tire', 'able', 'drive', 'water', 'nearly', 'foot', '10', 'inch', 'deep', 'independent', 'front', 'suspension', 'unlike', 'main', 'competitor', 'jeep', 'wrangler', 'independent', 'suspension', 'used', 'almost', 'modern', 'passenger', 'vehicle', 'generally', 'provides', 'smoother', 'ride', 'better', 'road', 'handling', 'single', 'solid', 'axle', 'still', 'solid', 'axle', 'back', 'though', 'like', 'pickup', 'truck', 'design', 'suited', 'hard', 'use', 'like', 'wrangler', 'two', 'four', 'door', 'bronco', 'removable', 'roof', 'door', 'buyer', 'able', 'choose', 'either', 'hard', 'roof', 'removed', 'section', 'cloth', 'top', 'unlike', 'wrangler', 'though', 'bronco', 'door', 'fit', 'inside', 'vehicle', 'removed', 'bronco', 'available', 'choice', 'either', '10', 'speed', 'automatic', 'seven', 'speed', 'manual', 'transmission', 'manual', 'transmission', 'six', 'gear', 'ordinary', 'driving', 'plus', 'seventh', 'low', 'speed', 'road', 'driving', 'powered', 'either', '270', 'horsepower', 'liter', 'turbocharged', 'cylinder', 'engine', '310', 'horsepower', 'liter', 'turbocharged', 'v6', 'new', 'bronco', 'suv', 'designed', 'hard', 'road', 'use', 'bronco', 'sport', 'quite', 'hard', 'core', 'capability', 'also', 'convenience', 'feature', 'truck', 'like', 'bronco', 'based', 'engineering', 'similar', 'car', 'like', 'crossover', 'suv', 'ford', 'say', 'still', 'intended', 'serious', 'road', 'use', 'ford', 'engineer', 'boasted', 'road', 'testing', 'prototype', 'put', 'including', 'driving', 'deep', 'sand', 'steep', 'incline', 'crawling', 'across', 'boulder', 'strewn', 'trail']\n"
          ]
        }
      ]
    },
    {
      "cell_type": "markdown",
      "source": [
        "**8. What is the overall sentiment and subjectivity of the text**"
      ],
      "metadata": {
        "id": "23FjwRWSrkcz"
      }
    },
    {
      "cell_type": "code",
      "source": [
        "# We'll use TextBlob for sentiment analysis\n",
        "from textblob import TextBlob\n",
        "\n",
        "# Join the lemmatized words back into a sentence\n",
        "sentence_processed = \" \".join(lemmatized_words)\n",
        "\n",
        "# Create a TextBlob object\n",
        "blob = TextBlob(sentence_processed)\n",
        "\n",
        "# Get the sentiment polarity (ranges from -1 to 1, where -1 is negative and 1 is positive)\n",
        "sentiment_polarity = blob.sentiment.polarity\n",
        "\n",
        "# Get the subjectivity (ranges from 0 to 1, where 0 is objective and 1 is subjective)\n",
        "sentiment_subjectivity = blob.sentiment.subjectivity\n",
        "\n",
        "\n",
        "print(f\"Sentiment Polarity: {sentiment_polarity}\")\n",
        "print(f\"Sentiment Subjectivity: {sentiment_subjectivity}\")\n",
        "\n",
        "# Interpret the sentiment based on polarity\n",
        "if sentiment_polarity > 0:\n",
        "    print(\"Overall Sentiment: Positive\")\n",
        "elif sentiment_polarity < 0:\n",
        "    print(\"Overall Sentiment: Negative\")\n",
        "else:\n",
        "    print(\"Overall Sentiment: Neutral\")\n",
        "\n",
        "# Interpret the subjectivity\n",
        "if sentiment_subjectivity > 0.5:\n",
        "    print(\"Overall Subjectivity: Subjective\")\n",
        "else:\n",
        "    print(\"Overall Subjectivity: Objective\")\n"
      ],
      "metadata": {
        "colab": {
          "base_uri": "https://localhost:8080/"
        },
        "id": "xILjPQCtrnsv",
        "outputId": "d47100a1-fd82-4a51-893e-e0b1ea5e356f"
      },
      "execution_count": 27,
      "outputs": [
        {
          "output_type": "stream",
          "name": "stdout",
          "text": [
            "Sentiment Polarity: 0.07005523212419763\n",
            "Sentiment Subjectivity: 0.3943275115688909\n",
            "Overall Sentiment: Positive\n",
            "Overall Subjectivity: Objective\n"
          ]
        }
      ]
    },
    {
      "cell_type": "code",
      "source": [],
      "metadata": {
        "id": "xIn0dbyAvOlq"
      },
      "execution_count": 27,
      "outputs": []
    }
  ]
}